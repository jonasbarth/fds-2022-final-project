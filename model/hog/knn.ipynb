{
 "cells": [
  {
   "cell_type": "markdown",
   "id": "e6f7b9c0",
   "metadata": {},
   "source": [
    "# KNN with HOG"
   ]
  },
  {
   "cell_type": "markdown",
   "id": "c2e48986",
   "metadata": {},
   "source": [
    "Needed packages"
   ]
  },
  {
   "cell_type": "code",
   "execution_count": 2,
   "id": "0eee6fe8",
   "metadata": {},
   "outputs": [],
   "source": [
    "import numpy as np\n",
    "import pandas as pd\n",
    "from sklearn.metrics import accuracy_score\n",
    "from sklearn.neighbors import KNeighborsClassifier\n",
    "from sklearn.pipeline import Pipeline\n",
    "from preprocessing.hog import Flatten"
   ]
  },
  {
   "cell_type": "markdown",
   "id": "fc663de1",
   "metadata": {},
   "source": [
    "Adding our own packages to the system path so that they can be found."
   ]
  },
  {
   "cell_type": "code",
   "execution_count": 39,
   "id": "9367f60a",
   "metadata": {},
   "outputs": [],
   "source": [
    "import os\n",
    "import sys\n",
    "module_path = os.path.abspath(os.path.join('../..'))\n",
    "if module_path not in sys.path:\n",
    "    sys.path.append(module_path)"
   ]
  },
  {
   "cell_type": "markdown",
   "id": "046efd99",
   "metadata": {},
   "source": [
    "## Loading Metadata"
   ]
  },
  {
   "cell_type": "markdown",
   "id": "6d3d16d7",
   "metadata": {},
   "source": [
    "We load the hog metadata file in order to find the paths to the training and testing data."
   ]
  },
  {
   "cell_type": "code",
   "execution_count": 42,
   "id": "93d69429",
   "metadata": {},
   "outputs": [],
   "source": [
    "hog_metadata_path = '../../data/hog/metadata.csv'\n",
    "hog_metadata = pd.read_csv(hog_metadata_path, index_col=0)\n",
    "hog_metadata.channels = hog_metadata.channels.astype(str)"
   ]
  },
  {
   "cell_type": "markdown",
   "id": "75c2db39",
   "metadata": {},
   "source": [
    "## Creating the KNN Pipeline"
   ]
  },
  {
   "cell_type": "code",
   "execution_count": 67,
   "id": "cfe77429",
   "metadata": {},
   "outputs": [],
   "source": [
    "pipeline = Pipeline([('flatten', Flatten()), ('knn', KNeighborsClassifier(n_neighbors=7))])"
   ]
  },
  {
   "cell_type": "markdown",
   "id": "9acc5a17",
   "metadata": {},
   "source": [
    "## Getting the data, fitting, scoring"
   ]
  },
  {
   "cell_type": "markdown",
   "id": "94a54f4a",
   "metadata": {},
   "source": [
    "We go through all of the channels, and fetch the train and test data associated with each. Then we fit and score the pipeline."
   ]
  },
  {
   "cell_type": "code",
   "execution_count": 73,
   "id": "a1f56a3d",
   "metadata": {},
   "outputs": [
    {
     "name": "stdout",
     "output_type": "stream",
     "text": [
      "0.5363636363636364\n",
      "0.4818181818181818\n",
      "0.5\n"
     ]
    }
   ],
   "source": [
    "for channel in hog_metadata.channels.unique():\n",
    "    train_metadata = hog_metadata[(hog_metadata.type == 'train') & (hog_metadata.channels == channel)]\n",
    "    train = np.load(f'../../{train_metadata .data_path.values[0]}')\n",
    "    train_label = np.load(f'../../{train_metadata.label_path.values[0]}')\n",
    "\n",
    "    test_metadata = hog_metadata[(hog_metadata.type == 'test') & (hog_metadata.channels == channel)]\n",
    "    test = np.load(f'../../{test_metadata.data_path.values[0]}')\n",
    "    test_label = np.load(f'../../{test_metadata.label_path.values[0]}')\n",
    "    \n",
    "    pipeline.fit(train, train_label)\n",
    "    print(pipeline.score(test, test_label))"
   ]
  }
 ],
 "metadata": {
  "kernelspec": {
   "display_name": "Python 3 (ipykernel)",
   "language": "python",
   "name": "python3"
  },
  "language_info": {
   "codemirror_mode": {
    "name": "ipython",
    "version": 3
   },
   "file_extension": ".py",
   "mimetype": "text/x-python",
   "name": "python",
   "nbconvert_exporter": "python",
   "pygments_lexer": "ipython3",
   "version": "3.9.0"
  }
 },
 "nbformat": 4,
 "nbformat_minor": 5
}
