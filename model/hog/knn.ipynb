{
 "cells": [
  {
   "cell_type": "markdown",
   "id": "f7b37507",
   "metadata": {},
   "source": [
    "# IMPORTANT!! \n",
    "## Make sure you have run the preprocessing script (`preprocessing/hog/main.py`) so that you have the necessary HOG data.\n",
    "\n",
    "---"
   ]
  },
  {
   "cell_type": "markdown",
   "id": "e6f7b9c0",
   "metadata": {},
   "source": [
    "# KNN with HOG"
   ]
  },
  {
   "cell_type": "markdown",
   "id": "5b57ca79",
   "metadata": {},
   "source": [
    "Adding our own packages to the path so that they can be found."
   ]
  },
  {
   "cell_type": "code",
   "execution_count": 94,
   "id": "9e75f405",
   "metadata": {},
   "outputs": [],
   "source": [
    "import os\n",
    "import sys\n",
    "module_path = os.path.abspath(os.path.join('../..'))\n",
    "if module_path not in sys.path:\n",
    "    sys.path.append(module_path)"
   ]
  },
  {
   "cell_type": "markdown",
   "id": "c2e48986",
   "metadata": {},
   "source": [
    "Needed packages"
   ]
  },
  {
   "cell_type": "code",
   "execution_count": 95,
   "id": "0eee6fe8",
   "metadata": {},
   "outputs": [],
   "source": [
    "import numpy as np\n",
    "import pandas as pd\n",
    "import matplotlib.pyplot as plt\n",
    "from sklearn.neighbors import KNeighborsClassifier\n",
    "from sklearn.pipeline import Pipeline\n",
    "from sklearn.metrics import accuracy_score, confusion_matrix, ConfusionMatrixDisplay, precision_recall_fscore_support\n",
    "from sklearn.model_selection import GridSearchCV\n",
    "from preprocessing.hog import Flatten"
   ]
  },
  {
   "cell_type": "markdown",
   "id": "8a011489",
   "metadata": {},
   "source": [
    "## Loading Metadata"
   ]
  },
  {
   "cell_type": "markdown",
   "id": "6d3d16d7",
   "metadata": {},
   "source": [
    "We load the hog metadata file in order to find the paths to the training and testing data."
   ]
  },
  {
   "cell_type": "code",
   "execution_count": 96,
   "id": "93d69429",
   "metadata": {},
   "outputs": [],
   "source": [
    "hog_metadata_path = '../../data/hog/metadata.csv'\n",
    "hog_metadata = pd.read_csv(hog_metadata_path, index_col=0)\n",
    "hog_metadata.channels = hog_metadata.channels.astype(str)"
   ]
  },
  {
   "cell_type": "markdown",
   "id": "fbc1c787",
   "metadata": {},
   "source": [
    "## Grid Search for KNN"
   ]
  },
  {
   "cell_type": "code",
   "execution_count": 97,
   "id": "c4e9f754",
   "metadata": {},
   "outputs": [
    {
     "data": {
      "text/html": [
       "<style>#sk-container-id-3 {color: black;background-color: white;}#sk-container-id-3 pre{padding: 0;}#sk-container-id-3 div.sk-toggleable {background-color: white;}#sk-container-id-3 label.sk-toggleable__label {cursor: pointer;display: block;width: 100%;margin-bottom: 0;padding: 0.3em;box-sizing: border-box;text-align: center;}#sk-container-id-3 label.sk-toggleable__label-arrow:before {content: \"▸\";float: left;margin-right: 0.25em;color: #696969;}#sk-container-id-3 label.sk-toggleable__label-arrow:hover:before {color: black;}#sk-container-id-3 div.sk-estimator:hover label.sk-toggleable__label-arrow:before {color: black;}#sk-container-id-3 div.sk-toggleable__content {max-height: 0;max-width: 0;overflow: hidden;text-align: left;background-color: #f0f8ff;}#sk-container-id-3 div.sk-toggleable__content pre {margin: 0.2em;color: black;border-radius: 0.25em;background-color: #f0f8ff;}#sk-container-id-3 input.sk-toggleable__control:checked~div.sk-toggleable__content {max-height: 200px;max-width: 100%;overflow: auto;}#sk-container-id-3 input.sk-toggleable__control:checked~label.sk-toggleable__label-arrow:before {content: \"▾\";}#sk-container-id-3 div.sk-estimator input.sk-toggleable__control:checked~label.sk-toggleable__label {background-color: #d4ebff;}#sk-container-id-3 div.sk-label input.sk-toggleable__control:checked~label.sk-toggleable__label {background-color: #d4ebff;}#sk-container-id-3 input.sk-hidden--visually {border: 0;clip: rect(1px 1px 1px 1px);clip: rect(1px, 1px, 1px, 1px);height: 1px;margin: -1px;overflow: hidden;padding: 0;position: absolute;width: 1px;}#sk-container-id-3 div.sk-estimator {font-family: monospace;background-color: #f0f8ff;border: 1px dotted black;border-radius: 0.25em;box-sizing: border-box;margin-bottom: 0.5em;}#sk-container-id-3 div.sk-estimator:hover {background-color: #d4ebff;}#sk-container-id-3 div.sk-parallel-item::after {content: \"\";width: 100%;border-bottom: 1px solid gray;flex-grow: 1;}#sk-container-id-3 div.sk-label:hover label.sk-toggleable__label {background-color: #d4ebff;}#sk-container-id-3 div.sk-serial::before {content: \"\";position: absolute;border-left: 1px solid gray;box-sizing: border-box;top: 0;bottom: 0;left: 50%;z-index: 0;}#sk-container-id-3 div.sk-serial {display: flex;flex-direction: column;align-items: center;background-color: white;padding-right: 0.2em;padding-left: 0.2em;position: relative;}#sk-container-id-3 div.sk-item {position: relative;z-index: 1;}#sk-container-id-3 div.sk-parallel {display: flex;align-items: stretch;justify-content: center;background-color: white;position: relative;}#sk-container-id-3 div.sk-item::before, #sk-container-id-3 div.sk-parallel-item::before {content: \"\";position: absolute;border-left: 1px solid gray;box-sizing: border-box;top: 0;bottom: 0;left: 50%;z-index: -1;}#sk-container-id-3 div.sk-parallel-item {display: flex;flex-direction: column;z-index: 1;position: relative;background-color: white;}#sk-container-id-3 div.sk-parallel-item:first-child::after {align-self: flex-end;width: 50%;}#sk-container-id-3 div.sk-parallel-item:last-child::after {align-self: flex-start;width: 50%;}#sk-container-id-3 div.sk-parallel-item:only-child::after {width: 0;}#sk-container-id-3 div.sk-dashed-wrapped {border: 1px dashed gray;margin: 0 0.4em 0.5em 0.4em;box-sizing: border-box;padding-bottom: 0.4em;background-color: white;}#sk-container-id-3 div.sk-label label {font-family: monospace;font-weight: bold;display: inline-block;line-height: 1.2em;}#sk-container-id-3 div.sk-label-container {text-align: center;}#sk-container-id-3 div.sk-container {/* jupyter's `normalize.less` sets `[hidden] { display: none; }` but bootstrap.min.css set `[hidden] { display: none !important; }` so we also need the `!important` here to be able to override the default hidden behavior on the sphinx rendered scikit-learn.org. See: https://github.com/scikit-learn/scikit-learn/issues/21755 */display: inline-block !important;position: relative;}#sk-container-id-3 div.sk-text-repr-fallback {display: none;}</style><div id=\"sk-container-id-3\" class=\"sk-top-container\"><div class=\"sk-text-repr-fallback\"><pre>Pipeline(steps=[(&#x27;gs&#x27;,\n",
       "                 GridSearchCV(estimator=KNeighborsClassifier(),\n",
       "                              param_grid={&#x27;n_neighbors&#x27;: range(3, 15)}))])</pre><b>In a Jupyter environment, please rerun this cell to show the HTML representation or trust the notebook. <br />On GitHub, the HTML representation is unable to render, please try loading this page with nbviewer.org.</b></div><div class=\"sk-container\" hidden><div class=\"sk-item sk-dashed-wrapped\"><div class=\"sk-label-container\"><div class=\"sk-label sk-toggleable\"><input class=\"sk-toggleable__control sk-hidden--visually\" id=\"sk-estimator-id-11\" type=\"checkbox\" ><label for=\"sk-estimator-id-11\" class=\"sk-toggleable__label sk-toggleable__label-arrow\">Pipeline</label><div class=\"sk-toggleable__content\"><pre>Pipeline(steps=[(&#x27;gs&#x27;,\n",
       "                 GridSearchCV(estimator=KNeighborsClassifier(),\n",
       "                              param_grid={&#x27;n_neighbors&#x27;: range(3, 15)}))])</pre></div></div></div><div class=\"sk-serial\"><div class=\"sk-item sk-dashed-wrapped\"><div class=\"sk-label-container\"><div class=\"sk-label sk-toggleable\"><input class=\"sk-toggleable__control sk-hidden--visually\" id=\"sk-estimator-id-12\" type=\"checkbox\" ><label for=\"sk-estimator-id-12\" class=\"sk-toggleable__label sk-toggleable__label-arrow\">gs: GridSearchCV</label><div class=\"sk-toggleable__content\"><pre>GridSearchCV(estimator=KNeighborsClassifier(),\n",
       "             param_grid={&#x27;n_neighbors&#x27;: range(3, 15)})</pre></div></div></div><div class=\"sk-parallel\"><div class=\"sk-parallel-item\"><div class=\"sk-item\"><div class=\"sk-label-container\"><div class=\"sk-label sk-toggleable\"><input class=\"sk-toggleable__control sk-hidden--visually\" id=\"sk-estimator-id-13\" type=\"checkbox\" ><label for=\"sk-estimator-id-13\" class=\"sk-toggleable__label sk-toggleable__label-arrow\">estimator: KNeighborsClassifier</label><div class=\"sk-toggleable__content\"><pre>KNeighborsClassifier()</pre></div></div></div><div class=\"sk-serial\"><div class=\"sk-item\"><div class=\"sk-estimator sk-toggleable\"><input class=\"sk-toggleable__control sk-hidden--visually\" id=\"sk-estimator-id-14\" type=\"checkbox\" ><label for=\"sk-estimator-id-14\" class=\"sk-toggleable__label sk-toggleable__label-arrow\">KNeighborsClassifier</label><div class=\"sk-toggleable__content\"><pre>KNeighborsClassifier()</pre></div></div></div></div></div></div></div></div></div></div></div></div>"
      ],
      "text/plain": [
       "Pipeline(steps=[('gs',\n",
       "                 GridSearchCV(estimator=KNeighborsClassifier(),\n",
       "                              param_grid={'n_neighbors': range(3, 15)}))])"
      ]
     },
     "execution_count": 97,
     "metadata": {},
     "output_type": "execute_result"
    }
   ],
   "source": [
    "train_metadata = hog_metadata[(hog_metadata.type == 'train') & (hog_metadata.channels == channel)]\n",
    "train = np.load(f'../../{train_metadata.data_path.values[0]}')\n",
    "train_label = np.load(f'../../{train_metadata.label_path.values[0]}')\n",
    "\n",
    "val_metadata = hog_metadata[(hog_metadata.type == 'dev') & (hog_metadata.channels == channel)]\n",
    "val = np.load(f'../../{val_metadata.data_path.values[0]}')\n",
    "val_label = np.load(f'../../{val_metadata.label_path.values[0]}')\n",
    "\n",
    "parameters = {'n_neighbors':range(3, 15)}\n",
    "knn = KNeighborsClassifier()\n",
    "gs = GridSearchCV(knn, parameters)\n",
    "\n",
    "pipeline = Pipeline([('gs', gs)])\n",
    "\n",
    "pipeline.fit(np.vstack((train, val)), np.hstack((train_label, val_label)))"
   ]
  },
  {
   "cell_type": "markdown",
   "id": "643ff6b5",
   "metadata": {},
   "source": [
    "## Creating the KNN Pipeline"
   ]
  },
  {
   "cell_type": "markdown",
   "id": "ac0edfac",
   "metadata": {},
   "source": [
    "KNN expects a 2D array, so we need to flatten the image dimensions from `(samples, width, height)` into `(samples, width * height)`. Our custom `Flatten` class does this job for us."
   ]
  },
  {
   "cell_type": "code",
   "execution_count": 98,
   "id": "455a041a",
   "metadata": {},
   "outputs": [],
   "source": [
    "pipeline = Pipeline([('knn', KNeighborsClassifier(n_neighbors=gs.best_params_['n_neighbors']))])"
   ]
  },
  {
   "cell_type": "markdown",
   "id": "d056b667",
   "metadata": {},
   "source": [
    "## Getting the data, fitting, scoring"
   ]
  },
  {
   "cell_type": "markdown",
   "id": "477364e2",
   "metadata": {},
   "source": [
    "We go through all of the channels, and fetch the train and test data associated with each. Then we fit, predict, and save the resulting confusion matrix.\n",
    "\n",
    "We also create a `metrics` dictionary that will hold accuracy, precision, and recall scores."
   ]
  },
  {
   "cell_type": "code",
   "execution_count": 99,
   "id": "3c427ebf",
   "metadata": {},
   "outputs": [],
   "source": [
    "confusion_matrices = {}\n",
    "metrics = {'algorithm': ['KNN'] * 3,  'metrics': ['accuracy', 'precision', 'recall']}\n",
    "for channel in hog_metadata.channels.unique():\n",
    "    metrics[channel] = []"
   ]
  },
  {
   "cell_type": "code",
   "execution_count": 100,
   "id": "552c4527",
   "metadata": {},
   "outputs": [],
   "source": [
    "for channel in hog_metadata.channels.unique():\n",
    "    train_metadata = hog_metadata[(hog_metadata.type == 'train') & (hog_metadata.channels == channel)]\n",
    "    train = np.load(f'../../{train_metadata .data_path.values[0]}')\n",
    "    train_label = np.load(f'../../{train_metadata.label_path.values[0]}')\n",
    "\n",
    "    test_metadata = hog_metadata[(hog_metadata.type == 'test') & (hog_metadata.channels == channel)]\n",
    "    test = np.load(f'../../{test_metadata.data_path.values[0]}')\n",
    "    test_label = np.load(f'../../{test_metadata.label_path.values[0]}')\n",
    "    \n",
    "    pipeline.fit(train, train_label)\n",
    "    \n",
    "    test_pred = pipeline.predict(test)\n",
    "    confusion_mat = confusion_matrix(test_label, test_pred)\n",
    "    confusion_matrices[channel] = confusion_mat\n",
    "    \n",
    "    precision, recall, *_ = precision_recall_fscore_support(test_label, test_pred)\n",
    "    accuracy = accuracy_score(test_label, test_pred)\n",
    "    metrics[channel] += [accuracy, max(precision), max(recall)]"
   ]
  },
  {
   "cell_type": "markdown",
   "id": "46a980bd",
   "metadata": {},
   "source": [
    "## Confusion Matrix"
   ]
  },
  {
   "cell_type": "code",
   "execution_count": 101,
   "id": "7e654195",
   "metadata": {},
   "outputs": [],
   "source": [
    "display_labels = ['No Glacier', 'Glacier']"
   ]
  },
  {
   "cell_type": "code",
   "execution_count": 102,
   "id": "61a5f179",
   "metadata": {},
   "outputs": [
    {
     "data": {
      "image/png": "[encoded data removed]",
      "text/plain": [
       "<Figure size 1000x1000 with 8 Axes>"
      ]
     },
     "metadata": {},
     "output_type": "display_data"
    }
   ],
   "source": [
    "fig, axes = plt.subplots(ncols=2, nrows=2, sharex=True, sharey=True, figsize=(10, 10))\n",
    "\n",
    "axes[0][0].set_title(\"Channels: 1, 2, 3\")\n",
    "axes[0][1].set_title(\"Channels: 6, 7, 8\")\n",
    "axes[1][0].set_title(\"Channels: 2, 4, 5\")\n",
    "axes[1][1].set_title(\"Channels: 11, 12, 13\")\n",
    "\n",
    "ConfusionMatrixDisplay(confusion_matrices['[1, 2, 3]'], display_labels=display_labels).plot(ax=axes[0][0])\n",
    "ConfusionMatrixDisplay(confusion_matrices['[6, 7, 8]'], display_labels=display_labels).plot(ax=axes[0][1])\n",
    "ConfusionMatrixDisplay(confusion_matrices['[2, 4, 5]'], display_labels=display_labels).plot(ax=axes[1][0])\n",
    "ConfusionMatrixDisplay(confusion_matrices['[11, 12, 13]'], display_labels=display_labels).plot(ax=axes[1][1]);"
   ]
  },
  {
   "cell_type": "markdown",
   "id": "5ae48d82",
   "metadata": {},
   "source": [
    "## Result Dataset\n",
    "Saving the different scores into a csv so that they can be used for plotting"
   ]
  },
  {
   "cell_type": "code",
   "execution_count": 103,
   "id": "99595603",
   "metadata": {},
   "outputs": [],
   "source": [
    "metrics = pd.DataFrame(metrics)\n",
    "metrics.to_csv('./knn_metrics.csv')"
   ]
  },
  {
   "cell_type": "code",
   "execution_count": 104,
   "id": "66e3bea9",
   "metadata": {},
   "outputs": [
    {
     "data": {
      "text/html": [
       "<div>\n",
       "<style scoped>\n",
       "    .dataframe tbody tr th:only-of-type {\n",
       "        vertical-align: middle;\n",
       "    }\n",
       "\n",
       "    .dataframe tbody tr th {\n",
       "        vertical-align: top;\n",
       "    }\n",
       "\n",
       "    .dataframe thead th {\n",
       "        text-align: right;\n",
       "    }\n",
       "</style>\n",
       "<table border=\"1\" class=\"dataframe\">\n",
       "  <thead>\n",
       "    <tr style=\"text-align: right;\">\n",
       "      <th></th>\n",
       "      <th>algorithm</th>\n",
       "      <th>metrics</th>\n",
       "      <th>[1, 2, 3]</th>\n",
       "      <th>[6, 7, 8]</th>\n",
       "      <th>[11, 12, 13]</th>\n",
       "      <th>[2, 4, 5]</th>\n",
       "    </tr>\n",
       "  </thead>\n",
       "  <tbody>\n",
       "    <tr>\n",
       "      <th>0</th>\n",
       "      <td>KNN</td>\n",
       "      <td>accuracy</td>\n",
       "      <td>0.500000</td>\n",
       "      <td>0.513636</td>\n",
       "      <td>0.513636</td>\n",
       "      <td>0.509091</td>\n",
       "    </tr>\n",
       "    <tr>\n",
       "      <th>1</th>\n",
       "      <td>KNN</td>\n",
       "      <td>precision</td>\n",
       "      <td>0.500000</td>\n",
       "      <td>0.615385</td>\n",
       "      <td>0.615385</td>\n",
       "      <td>0.562500</td>\n",
       "    </tr>\n",
       "    <tr>\n",
       "      <th>2</th>\n",
       "      <td>KNN</td>\n",
       "      <td>recall</td>\n",
       "      <td>0.936364</td>\n",
       "      <td>0.954545</td>\n",
       "      <td>0.954545</td>\n",
       "      <td>0.936364</td>\n",
       "    </tr>\n",
       "  </tbody>\n",
       "</table>\n",
       "</div>"
      ],
      "text/plain": [
       "  algorithm    metrics  [1, 2, 3]  [6, 7, 8]  [11, 12, 13]  [2, 4, 5]\n",
       "0       KNN   accuracy   0.500000   0.513636      0.513636   0.509091\n",
       "1       KNN  precision   0.500000   0.615385      0.615385   0.562500\n",
       "2       KNN     recall   0.936364   0.954545      0.954545   0.936364"
      ]
     },
     "execution_count": 104,
     "metadata": {},
     "output_type": "execute_result"
    }
   ],
   "source": [
    "metrics"
   ]
  }
 ],
 "metadata": {
  "kernelspec": {
   "display_name": "Python 3 (ipykernel)",
   "language": "python",
   "name": "python3"
  },
  "language_info": {
   "codemirror_mode": {
    "name": "ipython",
    "version": 3
   },
   "file_extension": ".py",
   "mimetype": "text/x-python",
   "name": "python",
   "nbconvert_exporter": "python",
   "pygments_lexer": "ipython3",
   "version": "3.9.0"
  }
 },
 "nbformat": 4,
 "nbformat_minor": 5
}
