{
 "cells": [
  {
   "cell_type": "markdown",
   "id": "e6f7b9c0",
   "metadata": {},
   "source": [
    "# KNN with HOG"
   ]
  },
  {
   "cell_type": "markdown",
   "id": "c2e48986",
   "metadata": {},
   "source": [
    "Needed packages"
   ]
  },
  {
   "cell_type": "code",
   "execution_count": 2,
   "id": "0eee6fe8",
   "metadata": {},
   "outputs": [],
   "source": [
    "import numpy as np\n",
    "import pandas as pd\n",
    "from sklearn.metrics import accuracy_score\n",
    "from sklearn.neighbors import KNeighborsClassifier\n",
    "from sklearn.pipeline import Pipeline\n",
    "from preprocessing.hog import Flatten"
   ]
  },
  {
   "cell_type": "markdown",
   "id": "04ae7611",
   "metadata": {},
   "source": [
    "Adding our own packages to the system path so that they can be found."
   ]
  },
  {
   "cell_type": "code",
   "execution_count": 39,
   "id": "c1eaaca9",
   "metadata": {},
   "outputs": [],
   "source": [
    "import os\n",
    "import sys\n",
    "module_path = os.path.abspath(os.path.join('../..'))\n",
    "if module_path not in sys.path:\n",
    "    sys.path.append(module_path)"
   ]
  },
  {
   "cell_type": "markdown",
   "id": "8d57a266",
   "metadata": {},
   "source": [
    "## Loading Data"
   ]
  },
  {
   "cell_type": "markdown",
   "id": "6d3d16d7",
   "metadata": {},
   "source": [
    "We load the hog metadata file in order to find the paths to the training and testing data."
   ]
  },
  {
   "cell_type": "code",
   "execution_count": 42,
   "id": "93d69429",
   "metadata": {},
   "outputs": [],
   "source": [
    "hog_metadata_path = '../../data/hog/metadata.csv'\n",
    "hog_metadata = pd.read_csv(hog_metadata_path, index_col=0)\n",
    "hog_metadata.channels = hog_metadata.channels.astype(str)"
   ]
  },
  {
   "cell_type": "markdown",
   "id": "53dd6f75",
   "metadata": {},
   "source": [
    "Train and test data for channels 1,2,3."
   ]
  },
  {
   "cell_type": "code",
   "execution_count": 4,
   "id": "05f381f4",
   "metadata": {},
   "outputs": [],
   "source": [
    "channel_1_2_3 = hog_metadata[(hog_metadata.type == 'train') & (hog_metadata.channels == '[1, 2, 3]')]\n",
    "channel_1_2_3_train = np.load(f'../../{channel_1_2_3.data_path.values[0]}')\n",
    "channel_1_2_3_train_label = np.load(f'../../{channel_1_2_3.label_path.values[0]}')\n",
    "\n",
    "channel_1_2_3 = hog_metadata[(hog_metadata.type == 'test') & (hog_metadata.channels == '[1, 2, 3]')]\n",
    "channel_1_2_3_test = np.load(f'../../{channel_1_2_3.data_path.values[0]}')\n",
    "channel_1_2_3_test_label = np.load(f'../../{channel_1_2_3.label_path.values[0]}')"
   ]
  },
  {
   "cell_type": "markdown",
   "id": "bfa916d3",
   "metadata": {},
   "source": [
    "Train and test data for channels 6, 7, 8."
   ]
  },
  {
   "cell_type": "code",
   "execution_count": 6,
   "id": "222c0b7a",
   "metadata": {},
   "outputs": [],
   "source": [
    "channel_6_7_8 = hog_metadata[(hog_metadata.type == 'train') & (hog_metadata.channels == '[6, 7, 8]')]\n",
    "channel_6_7_8_train = np.load(f'../../{channel_6_7_8.data_path.values[0]}')\n",
    "channel_6_7_8_train_label = np.load(f'../../{channel_6_7_8.label_path.values[0]}')\n",
    "\n",
    "channel_6_7_8 = hog_metadata[(hog_metadata.type == 'test') & (hog_metadata.channels == '[6, 7, 8]')]\n",
    "channel_6_7_8_test = np.load(f'../../{channel_6_7_8.data_path.values[0]}')\n",
    "channel_6_7_8_test_label = np.load(f'../../{channel_6_7_8.label_path.values[0]}')"
   ]
  },
  {
   "cell_type": "markdown",
   "id": "50a9af2b",
   "metadata": {},
   "source": [
    "Train and test data for channels 11,12,13."
   ]
  },
  {
   "cell_type": "code",
   "execution_count": 9,
   "id": "e3ef49c6",
   "metadata": {},
   "outputs": [],
   "source": [
    "channel_11_12_13 = hog_metadata[(hog_metadata.type == 'train') & (hog_metadata.channels == '[11, 12, 13]')]\n",
    "channel_11_12_13_train = np.load(f'../../{channel_11_12_13.data_path.values[0]}')\n",
    "channel_11_12_13_train_label = np.load(f'../../{channel_11_12_13.label_path.values[0]}')\n",
    "\n",
    "channel_11_12_13 = hog_metadata[(hog_metadata.type == 'test') & (hog_metadata.channels == '[11, 12, 13]')]\n",
    "channel_11_12_13_test = np.load(f'../../{channel_11_12_13.data_path.values[0]}')\n",
    "channel_11_12_13_test_label = np.load(f'../../{channel_11_12_13.label_path.values[0]}')"
   ]
  },
  {
   "cell_type": "markdown",
   "id": "34f4ff3a",
   "metadata": {},
   "source": [
    "## Creating the KNN Pipeline"
   ]
  },
  {
   "cell_type": "code",
   "execution_count": 37,
   "id": "d81bb519",
   "metadata": {},
   "outputs": [],
   "source": [
    "pipeline = Pipeline([('flatten', Flatten()), ('knn', KNeighborsClassifier(n_neighbors=7))])"
   ]
  },
  {
   "cell_type": "markdown",
   "id": "d3d6f29d",
   "metadata": {},
   "source": [
    "## Scoring Channel 1, 2, 3"
   ]
  },
  {
   "cell_type": "code",
   "execution_count": 38,
   "id": "0729123d",
   "metadata": {},
   "outputs": [
    {
     "data": {
      "text/plain": [
       "0.5363636363636364"
      ]
     },
     "execution_count": 38,
     "metadata": {},
     "output_type": "execute_result"
    }
   ],
   "source": [
    "pipeline.fit(channel_1_2_3_train, channel_1_2_3_train_label)\n",
    "pipeline.score(channel_1_2_3_test, channel_1_2_3_test_label)"
   ]
  }
 ],
 "metadata": {
  "kernelspec": {
   "display_name": "Python 3 (ipykernel)",
   "language": "python",
   "name": "python3"
  },
  "language_info": {
   "codemirror_mode": {
    "name": "ipython",
    "version": 3
   },
   "file_extension": ".py",
   "mimetype": "text/x-python",
   "name": "python",
   "nbconvert_exporter": "python",
   "pygments_lexer": "ipython3",
   "version": "3.9.0"
  }
 },
 "nbformat": 4,
 "nbformat_minor": 5
}
