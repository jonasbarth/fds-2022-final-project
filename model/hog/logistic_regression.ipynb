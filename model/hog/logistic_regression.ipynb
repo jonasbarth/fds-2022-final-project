{
 "cells": [
  {
   "cell_type": "markdown",
   "id": "a2abb735",
   "metadata": {},
   "source": [
    "# IMPORTANT!! \n",
    "## Make sure you have run the preprocessing script (`preprocessing/hog/main.py`) so that you have the necessary HOG data.\n",
    "\n",
    "---"
   ]
  },
  {
   "cell_type": "markdown",
   "id": "7fdfddb4",
   "metadata": {},
   "source": [
    "# Logistic Regression with HOG"
   ]
  }
 ],
 "metadata": {
  "kernelspec": {
   "display_name": "Python 3 (ipykernel)",
   "language": "python",
   "name": "python3"
  },
  "language_info": {
   "codemirror_mode": {
    "name": "ipython",
    "version": 3
   },
   "file_extension": ".py",
   "mimetype": "text/x-python",
   "name": "python",
   "nbconvert_exporter": "python",
   "pygments_lexer": "ipython3",
   "version": "3.9.0"
  }
 },
 "nbformat": 4,
 "nbformat_minor": 5
}
