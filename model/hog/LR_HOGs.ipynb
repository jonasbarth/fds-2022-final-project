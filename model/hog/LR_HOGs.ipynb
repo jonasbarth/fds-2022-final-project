{
 "cells": [
  {
   "cell_type": "markdown",
   "id": "28d06b87",
   "metadata": {},
   "source": [
    "# Logistic Regression"
   ]
  },
  {
   "cell_type": "code",
   "execution_count": 34,
   "id": "92975666",
   "metadata": {},
   "outputs": [],
   "source": [
    "import os\n",
    "import sys\n",
    "module_path = os.path.abspath(os.path.join('../..'))\n",
    "if module_path not in sys.path:\n",
    "    sys.path.append(module_path)"
   ]
  },
  {
   "cell_type": "code",
   "execution_count": 35,
   "id": "77e8dc42",
   "metadata": {},
   "outputs": [],
   "source": [
    "import numpy as np\n",
    "import pandas as pd\n",
    "from sklearn.datasets import load_iris\n",
    "from sklearn.linear_model import LogisticRegression\n",
    "from preprocessing.hog import Flatten\n",
    "from sklearn.pipeline import Pipeline\n",
    "from sklearn.metrics import confusion_matrix, ConfusionMatrixDisplay, precision_recall_fscore_support\n",
    "from sklearn.metrics import accuracy_score\n",
    "import matplotlib.pyplot as plt"
   ]
  },
  {
   "cell_type": "code",
   "execution_count": 36,
   "id": "ba23cdd2",
   "metadata": {},
   "outputs": [
    {
     "data": {
      "text/html": [
       "<div>\n",
       "<style scoped>\n",
       "    .dataframe tbody tr th:only-of-type {\n",
       "        vertical-align: middle;\n",
       "    }\n",
       "\n",
       "    .dataframe tbody tr th {\n",
       "        vertical-align: top;\n",
       "    }\n",
       "\n",
       "    .dataframe thead th {\n",
       "        text-align: right;\n",
       "    }\n",
       "</style>\n",
       "<table border=\"1\" class=\"dataframe\">\n",
       "  <thead>\n",
       "    <tr style=\"text-align: right;\">\n",
       "      <th></th>\n",
       "      <th>channels</th>\n",
       "      <th>type</th>\n",
       "      <th>data_path</th>\n",
       "      <th>label_path</th>\n",
       "    </tr>\n",
       "  </thead>\n",
       "  <tbody>\n",
       "    <tr>\n",
       "      <th>0</th>\n",
       "      <td>[1, 2, 3]</td>\n",
       "      <td>dev</td>\n",
       "      <td>data/hog/dev/hog_0_1_2.npy</td>\n",
       "      <td>data/hog/dev/labels.npy</td>\n",
       "    </tr>\n",
       "    <tr>\n",
       "      <th>1</th>\n",
       "      <td>[6, 7, 8]</td>\n",
       "      <td>dev</td>\n",
       "      <td>data/hog/dev/hog_5_6_7.npy</td>\n",
       "      <td>data/hog/dev/labels.npy</td>\n",
       "    </tr>\n",
       "    <tr>\n",
       "      <th>2</th>\n",
       "      <td>[11, 12, 13]</td>\n",
       "      <td>dev</td>\n",
       "      <td>data/hog/dev/hog_10_11_12.npy</td>\n",
       "      <td>data/hog/dev/labels.npy</td>\n",
       "    </tr>\n",
       "    <tr>\n",
       "      <th>3</th>\n",
       "      <td>[2, 4, 5]</td>\n",
       "      <td>dev</td>\n",
       "      <td>data/hog/dev/hog_1_3_4.npy</td>\n",
       "      <td>data/hog/dev/labels.npy</td>\n",
       "    </tr>\n",
       "    <tr>\n",
       "      <th>4</th>\n",
       "      <td>[1, 2, 3]</td>\n",
       "      <td>test</td>\n",
       "      <td>data/hog/test/hog_0_1_2.npy</td>\n",
       "      <td>data/hog/test/labels.npy</td>\n",
       "    </tr>\n",
       "    <tr>\n",
       "      <th>5</th>\n",
       "      <td>[6, 7, 8]</td>\n",
       "      <td>test</td>\n",
       "      <td>data/hog/test/hog_5_6_7.npy</td>\n",
       "      <td>data/hog/test/labels.npy</td>\n",
       "    </tr>\n",
       "    <tr>\n",
       "      <th>6</th>\n",
       "      <td>[11, 12, 13]</td>\n",
       "      <td>test</td>\n",
       "      <td>data/hog/test/hog_10_11_12.npy</td>\n",
       "      <td>data/hog/test/labels.npy</td>\n",
       "    </tr>\n",
       "    <tr>\n",
       "      <th>7</th>\n",
       "      <td>[2, 4, 5]</td>\n",
       "      <td>test</td>\n",
       "      <td>data/hog/test/hog_1_3_4.npy</td>\n",
       "      <td>data/hog/test/labels.npy</td>\n",
       "    </tr>\n",
       "    <tr>\n",
       "      <th>8</th>\n",
       "      <td>[1, 2, 3]</td>\n",
       "      <td>train</td>\n",
       "      <td>data/hog/train/hog_0_1_2.npy</td>\n",
       "      <td>data/hog/train/labels.npy</td>\n",
       "    </tr>\n",
       "    <tr>\n",
       "      <th>9</th>\n",
       "      <td>[6, 7, 8]</td>\n",
       "      <td>train</td>\n",
       "      <td>data/hog/train/hog_5_6_7.npy</td>\n",
       "      <td>data/hog/train/labels.npy</td>\n",
       "    </tr>\n",
       "    <tr>\n",
       "      <th>10</th>\n",
       "      <td>[11, 12, 13]</td>\n",
       "      <td>train</td>\n",
       "      <td>data/hog/train/hog_10_11_12.npy</td>\n",
       "      <td>data/hog/train/labels.npy</td>\n",
       "    </tr>\n",
       "    <tr>\n",
       "      <th>11</th>\n",
       "      <td>[2, 4, 5]</td>\n",
       "      <td>train</td>\n",
       "      <td>data/hog/train/hog_1_3_4.npy</td>\n",
       "      <td>data/hog/train/labels.npy</td>\n",
       "    </tr>\n",
       "  </tbody>\n",
       "</table>\n",
       "</div>"
      ],
      "text/plain": [
       "        channels   type                        data_path  \\\n",
       "0      [1, 2, 3]    dev       data/hog/dev/hog_0_1_2.npy   \n",
       "1      [6, 7, 8]    dev       data/hog/dev/hog_5_6_7.npy   \n",
       "2   [11, 12, 13]    dev    data/hog/dev/hog_10_11_12.npy   \n",
       "3      [2, 4, 5]    dev       data/hog/dev/hog_1_3_4.npy   \n",
       "4      [1, 2, 3]   test      data/hog/test/hog_0_1_2.npy   \n",
       "5      [6, 7, 8]   test      data/hog/test/hog_5_6_7.npy   \n",
       "6   [11, 12, 13]   test   data/hog/test/hog_10_11_12.npy   \n",
       "7      [2, 4, 5]   test      data/hog/test/hog_1_3_4.npy   \n",
       "8      [1, 2, 3]  train     data/hog/train/hog_0_1_2.npy   \n",
       "9      [6, 7, 8]  train     data/hog/train/hog_5_6_7.npy   \n",
       "10  [11, 12, 13]  train  data/hog/train/hog_10_11_12.npy   \n",
       "11     [2, 4, 5]  train     data/hog/train/hog_1_3_4.npy   \n",
       "\n",
       "                   label_path  \n",
       "0     data/hog/dev/labels.npy  \n",
       "1     data/hog/dev/labels.npy  \n",
       "2     data/hog/dev/labels.npy  \n",
       "3     data/hog/dev/labels.npy  \n",
       "4    data/hog/test/labels.npy  \n",
       "5    data/hog/test/labels.npy  \n",
       "6    data/hog/test/labels.npy  \n",
       "7    data/hog/test/labels.npy  \n",
       "8   data/hog/train/labels.npy  \n",
       "9   data/hog/train/labels.npy  \n",
       "10  data/hog/train/labels.npy  \n",
       "11  data/hog/train/labels.npy  "
      ]
     },
     "execution_count": 36,
     "metadata": {},
     "output_type": "execute_result"
    }
   ],
   "source": [
    "#Load Metadata\n",
    "hog_metadata_path = '../../data/hog/metadata.csv'\n",
    "hog_metadata = pd.read_csv(hog_metadata_path, index_col=0)\n",
    "hog_metadata.channels = hog_metadata.channels.astype(str)\n",
    "hog_metadata"
   ]
  },
  {
   "cell_type": "markdown",
   "id": "d8d33d67",
   "metadata": {},
   "source": [
    "#### Pipeline"
   ]
  },
  {
   "cell_type": "code",
   "execution_count": 37,
   "id": "409f3f9d",
   "metadata": {},
   "outputs": [],
   "source": [
    "from sklearn.preprocessing import StandardScaler"
   ]
  },
  {
   "cell_type": "code",
   "execution_count": 38,
   "id": "78355d61",
   "metadata": {},
   "outputs": [],
   "source": [
    "pipeline = Pipeline([('Standardize',StandardScaler()),('lr', LogisticRegression(fit_intercept = True,max_iter = 200, penalty = \"l2\"))])"
   ]
  },
  {
   "cell_type": "markdown",
   "id": "e457c837",
   "metadata": {},
   "source": [
    "#### Training, Test and Visualization of Scores"
   ]
  },
  {
   "cell_type": "code",
   "execution_count": 39,
   "id": "f470f855",
   "metadata": {},
   "outputs": [
    {
     "name": "stderr",
     "output_type": "stream",
     "text": [
      "c:\\users\\jonas\\desktop\\uni\\msc\\year 1\\fds\\final_project\\fds-2022-final-project\\env\\lib\\site-packages\\sklearn\\linear_model\\_logistic.py:444: ConvergenceWarning: lbfgs failed to converge (status=1):\n",
      "STOP: TOTAL NO. of ITERATIONS REACHED LIMIT.\n",
      "\n",
      "Increase the number of iterations (max_iter) or scale the data as shown in:\n",
      "    https://scikit-learn.org/stable/modules/preprocessing.html\n",
      "Please also refer to the documentation for alternative solver options:\n",
      "    https://scikit-learn.org/stable/modules/linear_model.html#logistic-regression\n",
      "  n_iter_i = _check_optimize_result(\n",
      "c:\\users\\jonas\\desktop\\uni\\msc\\year 1\\fds\\final_project\\fds-2022-final-project\\env\\lib\\site-packages\\sklearn\\linear_model\\_logistic.py:444: ConvergenceWarning: lbfgs failed to converge (status=1):\n",
      "STOP: TOTAL NO. of ITERATIONS REACHED LIMIT.\n",
      "\n",
      "Increase the number of iterations (max_iter) or scale the data as shown in:\n",
      "    https://scikit-learn.org/stable/modules/preprocessing.html\n",
      "Please also refer to the documentation for alternative solver options:\n",
      "    https://scikit-learn.org/stable/modules/linear_model.html#logistic-regression\n",
      "  n_iter_i = _check_optimize_result(\n",
      "c:\\users\\jonas\\desktop\\uni\\msc\\year 1\\fds\\final_project\\fds-2022-final-project\\env\\lib\\site-packages\\sklearn\\linear_model\\_logistic.py:444: ConvergenceWarning: lbfgs failed to converge (status=1):\n",
      "STOP: TOTAL NO. of ITERATIONS REACHED LIMIT.\n",
      "\n",
      "Increase the number of iterations (max_iter) or scale the data as shown in:\n",
      "    https://scikit-learn.org/stable/modules/preprocessing.html\n",
      "Please also refer to the documentation for alternative solver options:\n",
      "    https://scikit-learn.org/stable/modules/linear_model.html#logistic-regression\n",
      "  n_iter_i = _check_optimize_result(\n",
      "c:\\users\\jonas\\desktop\\uni\\msc\\year 1\\fds\\final_project\\fds-2022-final-project\\env\\lib\\site-packages\\sklearn\\linear_model\\_logistic.py:444: ConvergenceWarning: lbfgs failed to converge (status=1):\n",
      "STOP: TOTAL NO. of ITERATIONS REACHED LIMIT.\n",
      "\n",
      "Increase the number of iterations (max_iter) or scale the data as shown in:\n",
      "    https://scikit-learn.org/stable/modules/preprocessing.html\n",
      "Please also refer to the documentation for alternative solver options:\n",
      "    https://scikit-learn.org/stable/modules/linear_model.html#logistic-regression\n",
      "  n_iter_i = _check_optimize_result(\n"
     ]
    }
   ],
   "source": [
    "confusion_matrices = {}\n",
    "metrics = {'algorithm': ['LR'] * 3,  'metrics': ['accuracy', 'precision', 'recall']}\n",
    "for channel in hog_metadata.channels.unique():\n",
    "    metrics[channel] = []\n",
    "\n",
    "for channel in hog_metadata.channels.unique():\n",
    "    train_metadata = hog_metadata[(hog_metadata.type == 'train') & (hog_metadata.channels == channel)]\n",
    "    train = np.load(f'../../{train_metadata .data_path.values[0]}')\n",
    "    train_label = np.load(f'../../{train_metadata.label_path.values[0]}')\n",
    "\n",
    "    test_metadata = hog_metadata[(hog_metadata.type == 'test') & (hog_metadata.channels == channel)]\n",
    "    test = np.load(f'../../{test_metadata.data_path.values[0]}')\n",
    "    test_label = np.load(f'../../{test_metadata.label_path.values[0]}')\n",
    "    \n",
    "    pipeline.fit(train, train_label)\n",
    "    \n",
    "    test_pred = pipeline.predict(test)\n",
    "\n",
    "    confusion_mat = confusion_matrix(test_label, pipeline.predict(test))\n",
    "    confusion_matrices[channel] = confusion_mat\n",
    "    \n",
    "    precision, recall, *_ = precision_recall_fscore_support(test_label, test_pred)\n",
    "    accuracy = accuracy_score(test_label, test_pred)\n",
    "    metrics[channel] += [accuracy, max(precision), max(recall)]"
   ]
  },
  {
   "cell_type": "code",
   "execution_count": 40,
   "id": "9fe216b0",
   "metadata": {},
   "outputs": [
    {
     "data": {
      "image/png": "[encoded data removed]",
      "text/plain": [
       "<Figure size 1200x400 with 6 Axes>"
      ]
     },
     "metadata": {},
     "output_type": "display_data"
    }
   ],
   "source": [
    "display_labels = ['No Glacier', 'Glacier']\n",
    "\n",
    "fig, axes = plt.subplots(ncols=3, nrows=1, sharex=True, sharey=True, figsize=(12, 4))\n",
    "\n",
    "axes[0].set_title(\"Channels: 1, 2, 3\")\n",
    "axes[1].set_title(\"Channels: 6, 7, 8\")\n",
    "axes[2].set_title(\"Channels: 11, 12, 13\")\n",
    "\n",
    "ConfusionMatrixDisplay(confusion_matrices['[1, 2, 3]'], display_labels=display_labels).plot(ax=axes[0])\n",
    "ConfusionMatrixDisplay(confusion_matrices['[6, 7, 8]'], display_labels=display_labels).plot(ax=axes[1])\n",
    "ConfusionMatrixDisplay(confusion_matrices['[11, 12, 13]'], display_labels=display_labels).plot(ax=axes[2]);"
   ]
  },
  {
   "cell_type": "code",
   "execution_count": 41,
   "id": "50216f48",
   "metadata": {},
   "outputs": [
    {
     "data": {
      "text/html": [
       "<div>\n",
       "<style scoped>\n",
       "    .dataframe tbody tr th:only-of-type {\n",
       "        vertical-align: middle;\n",
       "    }\n",
       "\n",
       "    .dataframe tbody tr th {\n",
       "        vertical-align: top;\n",
       "    }\n",
       "\n",
       "    .dataframe thead th {\n",
       "        text-align: right;\n",
       "    }\n",
       "</style>\n",
       "<table border=\"1\" class=\"dataframe\">\n",
       "  <thead>\n",
       "    <tr style=\"text-align: right;\">\n",
       "      <th></th>\n",
       "      <th>algorithm</th>\n",
       "      <th>metrics</th>\n",
       "      <th>[1, 2, 3]</th>\n",
       "      <th>[6, 7, 8]</th>\n",
       "      <th>[11, 12, 13]</th>\n",
       "      <th>[2, 4, 5]</th>\n",
       "    </tr>\n",
       "  </thead>\n",
       "  <tbody>\n",
       "    <tr>\n",
       "      <th>0</th>\n",
       "      <td>LR</td>\n",
       "      <td>accuracy</td>\n",
       "      <td>0.581818</td>\n",
       "      <td>0.672727</td>\n",
       "      <td>0.627273</td>\n",
       "      <td>0.631818</td>\n",
       "    </tr>\n",
       "    <tr>\n",
       "      <th>1</th>\n",
       "      <td>LR</td>\n",
       "      <td>precision</td>\n",
       "      <td>0.602273</td>\n",
       "      <td>0.720930</td>\n",
       "      <td>0.645833</td>\n",
       "      <td>0.646465</td>\n",
       "    </tr>\n",
       "    <tr>\n",
       "      <th>2</th>\n",
       "      <td>LR</td>\n",
       "      <td>recall</td>\n",
       "      <td>0.681818</td>\n",
       "      <td>0.781818</td>\n",
       "      <td>0.690909</td>\n",
       "      <td>0.681818</td>\n",
       "    </tr>\n",
       "  </tbody>\n",
       "</table>\n",
       "</div>"
      ],
      "text/plain": [
       "  algorithm    metrics  [1, 2, 3]  [6, 7, 8]  [11, 12, 13]  [2, 4, 5]\n",
       "0        LR   accuracy   0.581818   0.672727      0.627273   0.631818\n",
       "1        LR  precision   0.602273   0.720930      0.645833   0.646465\n",
       "2        LR     recall   0.681818   0.781818      0.690909   0.681818"
      ]
     },
     "execution_count": 41,
     "metadata": {},
     "output_type": "execute_result"
    }
   ],
   "source": [
    "pd.DataFrame(metrics)"
   ]
  },
  {
   "cell_type": "code",
   "execution_count": 42,
   "id": "67360b80",
   "metadata": {},
   "outputs": [],
   "source": [
    "pd.DataFrame(metrics).to_csv('./hog_lr_metrics.csv')"
   ]
  }
 ],
 "metadata": {
  "kernelspec": {
   "display_name": "Python 3 (ipykernel)",
   "language": "python",
   "name": "python3"
  },
  "language_info": {
   "codemirror_mode": {
    "name": "ipython",
    "version": 3
   },
   "file_extension": ".py",
   "mimetype": "text/x-python",
   "name": "python",
   "nbconvert_exporter": "python",
   "pygments_lexer": "ipython3",
   "version": "3.9.0"
  }
 },
 "nbformat": 4,
 "nbformat_minor": 5
}
