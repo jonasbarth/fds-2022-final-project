{
 "cells": [
  {
   "cell_type": "markdown",
   "id": "03fbae65",
   "metadata": {},
   "source": [
    "### Import Required Libraries"
   ]
  },
  {
   "cell_type": "code",
   "execution_count": 36,
   "id": "47eec434",
   "metadata": {},
   "outputs": [],
   "source": [
    "import glob\n",
    "import os\n",
    "from torch.utils.data import Dataset, DataLoader\n",
    "import numpy as np\n",
    "import torch\n",
    "import torchvision.transforms as transforms\n",
    "from torchvision import models\n",
    "import torch.nn as nn\n",
    "import time\n",
    "import json\n",
    "# from torchvision.transforms import Rescale\n",
    "import seaborn as sns\n",
    "import matplotlib.pyplot as plt\n",
    "import torch.optim as optim\n",
    "import copy\n",
    "import pandas as pd"
   ]
  },
  {
   "cell_type": "markdown",
   "id": "68f7db13",
   "metadata": {},
   "source": [
    "### Path to different splits of the data"
   ]
  },
  {
   "cell_type": "code",
   "execution_count": 2,
   "id": "e1103785",
   "metadata": {},
   "outputs": [],
   "source": [
    "train_dir='D:/og_dataset/glacier_data/splits/train/'\n",
    "test_dir='D:/og_dataset/glacier_data/splits/test/'\n",
    "dev_dir='D:/og_dataset/glacier_data/splits/train/'"
   ]
  },
  {
   "cell_type": "markdown",
   "id": "1d078dda",
   "metadata": {},
   "source": [
    "### Getting Channels Mean and Std deviations "
   ]
  },
  {
   "cell_type": "code",
   "execution_count": 5,
   "id": "be226dc2",
   "metadata": {},
   "outputs": [],
   "source": [
    "norm_loc=\"D:/og_dataset/glacier_data/slices/stats_train.json\"\n",
    "channel_stats=json.load(open(norm_loc))"
   ]
  },
  {
   "cell_type": "markdown",
   "id": "dbebe92b",
   "metadata": {},
   "source": [
    "### Creating Custom Dataset Class"
   ]
  },
  {
   "cell_type": "code",
   "execution_count": 6,
   "id": "4f1ea5b4",
   "metadata": {},
   "outputs": [],
   "source": [
    "class Custom_glacier_dataset(Dataset):\n",
    "    \n",
    "    def __init__(self,folder_path,mode,transform,channel_stats):\n",
    "        \"\"\"\n",
    "        Intialize the dataset\n",
    "        \n",
    "        input:folder_path:The path of the train/val/dev directory\n",
    "        \n",
    "        \"\"\"\n",
    "        self.img_files=glob.glob(os.path.join(folder_path,'*img*')) ##get all path to the image numpy arrays in the folder\n",
    "        self.mask_files=glob.glob(os.path.join(folder_path,'*mask*')) ## get all the path to the  mask numpy array in the folder \n",
    "        self.mode=mode\n",
    "        self.transform=transform\n",
    "        self.stats=channel_stats\n",
    "        \n",
    "    def __getitem__(self, index):\n",
    "\n",
    "        \"\"\" getitem method to retrieve a single instance of the dataset\n",
    "        Args:\n",
    "            index(int): Index identifier of the data instance\n",
    "        Return:\n",
    "            data(x) and corresponding label(y)\n",
    "        \"\"\"\n",
    "\n",
    "        img_path = self.img_files[index]\n",
    "        mask_path = self.mask_files[index]\n",
    "        data = np.load(img_path) ##read the img data\n",
    "        \n",
    "        ##select channels\n",
    "        if self.mode=='rgb':\n",
    "            data=stand_image(impute(data),self.stats)[:,:,:3] ##taking care of NaN value ad normalising the image.\n",
    "        elif self.mode =='ir':\n",
    "            data=stand_image(impute(data),channel_stats)[:,:,5:8] ##taking care of NaN value ad normalising the image.\n",
    "        elif self.mode =='index':\n",
    "            data=stand_image(impute(data),channel_stats)[:,:,10:13] ##taking care of NaN value ad normalising the image.\n",
    "        elif self.mode =='other':\n",
    "            data=stand_image(impute(data),channel_stats)[:,:,[4,3,1]] ##taking care of NaN value ad normalising the image.\n",
    "            \n",
    "        if self.transform:\n",
    "             data=self.transform(torch.from_numpy(data).float().permute(2,0,1)) ## Converting image into format (C,N,M)\n",
    "        \n",
    "        label = np.load(mask_path) ## read mask data\n",
    "        \n",
    "        ##creating labels from the mask\n",
    "        \n",
    "        if np.nansum(label[:,:,0])==0:     #> (0.2*label.shape[0]*label.shape[1]): ###App\n",
    "            label=np.array([0])\n",
    "        else:\n",
    "            label=np.array([1])\n",
    "\n",
    "        return data , torch.from_numpy(label).long()\n",
    "    \n",
    "    def __len__(self):\n",
    "        \"\"\" Function to return the length of the dataset\n",
    "            Args:\n",
    "                None\n",
    "            Return:\n",
    "                len(img_files)(int): The length of the dataset (img_files)\n",
    "        \"\"\"\n",
    "        return len(self.img_files)\n",
    "        "
   ]
  },
  {
   "cell_type": "markdown",
   "id": "601c04fa",
   "metadata": {},
   "source": [
    "### Dataloader for different splits of the dataset"
   ]
  },
  {
   "cell_type": "code",
   "execution_count": 7,
   "id": "6437641e",
   "metadata": {},
   "outputs": [],
   "source": [
    "def data_loader(transform,batch_size=32,train_folder='',test_folder='',dev_folder='',mode='rgb',stats=channel_stats):\n",
    "    \n",
    "    ### Getting Train and Val dataloader's required in fine-tuning stage of VGG-16 to pass dataset in batches.\n",
    "    if train_folder:\n",
    "        train_dataset=Custom_glacier_dataset(train_folder,mode,transform,channel_stats=stats)\n",
    "        dev_dataset=Custom_glacier_dataset(dev_folder,mode,transform,channel_stats=stats)\n",
    "        return {'train':DataLoader(train_dataset,batch_size=batch_size,num_workers=0,shuffle=False,pin_memory=True),'val':DataLoader(dev_dataset,batch_size=batch_size,num_workers=0,shuffle=True,pin_memory=True)}\n",
    "    \n",
    "    ### Getting Test Dataloader used in prediction stage\n",
    "    elif test_folder:\n",
    "        test_dataset=Custom_glacier_dataset(test_folder,mode,transform,channel_stats=stats)\n",
    "        return DataLoader(test_dataset,batch_size=batch_size,num_workers=0,shuffle=False)\n",
    "    \n",
    "    "
   ]
  },
  {
   "cell_type": "markdown",
   "id": "379f4703",
   "metadata": {},
   "source": [
    "### Pre- Processing functions for the splits"
   ]
  },
  {
   "cell_type": "code",
   "execution_count": 8,
   "id": "141e7d62",
   "metadata": {},
   "outputs": [],
   "source": [
    "def impute(img,replace=0):\n",
    "    ##replace NaN values\n",
    "    return np.nan_to_num(img,nan=replace)"
   ]
  },
  {
   "cell_type": "code",
   "execution_count": 9,
   "id": "dab439b9",
   "metadata": {},
   "outputs": [],
   "source": [
    "\n",
    "\n",
    "def stand_image(img,channel_stats):\n",
    "    \n",
    "    ### Normalising the un-normalised images\n",
    "    \n",
    "    if np.nansum(img) %1 !=0: # to detect whether an image is normalized we compute the sum of all its elements.\n",
    "        # If the sum is integer, then we consider it normalized\n",
    "        img=(img-channel_stats['means'])/channel_stats['stds']\n",
    "        \n",
    "    return img\n",
    "        "
   ]
  },
  {
   "cell_type": "code",
   "execution_count": 10,
   "id": "f7f66d31",
   "metadata": {},
   "outputs": [],
   "source": [
    "composed=transforms.Compose([transforms.Resize(224)]) ## Rescaling the image to 224,224 dimensions as required by VGG-16 network"
   ]
  },
  {
   "cell_type": "markdown",
   "id": "6877fe63",
   "metadata": {},
   "source": [
    "###  Set Models Parameters gradient attribute to False"
   ]
  },
  {
   "cell_type": "code",
   "execution_count": 11,
   "id": "b1f7b528",
   "metadata": {},
   "outputs": [],
   "source": [
    "def set_parameter_requires_grad(model, feature_extracting):\n",
    "    ## Freezing the network weights so that they don't change while fine tuning\n",
    "    if feature_extracting:\n",
    "        for param in model.parameters():\n",
    "            param.requires_grad = False"
   ]
  },
  {
   "cell_type": "code",
   "execution_count": 12,
   "id": "e4bb32f4",
   "metadata": {
    "scrolled": true
   },
   "outputs": [
    {
     "name": "stderr",
     "output_type": "stream",
     "text": [
      "D:\\Anaconda\\lib\\site-packages\\torchvision\\models\\_utils.py:208: UserWarning: The parameter 'pretrained' is deprecated since 0.13 and may be removed in the future, please use 'weights' instead.\n",
      "  warnings.warn(\n",
      "D:\\Anaconda\\lib\\site-packages\\torchvision\\models\\_utils.py:223: UserWarning: Arguments other than a weight enum or `None` for 'weights' are deprecated since 0.13 and may be removed in the future. The current behavior is equivalent to passing `weights=VGG16_Weights.IMAGENET1K_V1`. You can also use `weights=VGG16_Weights.DEFAULT` to get the most up-to-date weights.\n",
      "  warnings.warn(msg)\n"
     ]
    },
    {
     "name": "stdout",
     "output_type": "stream",
     "text": [
      "VGG(\n",
      "  (features): Sequential(\n",
      "    (0): Conv2d(3, 64, kernel_size=(3, 3), stride=(1, 1), padding=(1, 1))\n",
      "    (1): ReLU(inplace=True)\n",
      "    (2): Conv2d(64, 64, kernel_size=(3, 3), stride=(1, 1), padding=(1, 1))\n",
      "    (3): ReLU(inplace=True)\n",
      "    (4): MaxPool2d(kernel_size=2, stride=2, padding=0, dilation=1, ceil_mode=False)\n",
      "    (5): Conv2d(64, 128, kernel_size=(3, 3), stride=(1, 1), padding=(1, 1))\n",
      "    (6): ReLU(inplace=True)\n",
      "    (7): Conv2d(128, 128, kernel_size=(3, 3), stride=(1, 1), padding=(1, 1))\n",
      "    (8): ReLU(inplace=True)\n",
      "    (9): MaxPool2d(kernel_size=2, stride=2, padding=0, dilation=1, ceil_mode=False)\n",
      "    (10): Conv2d(128, 256, kernel_size=(3, 3), stride=(1, 1), padding=(1, 1))\n",
      "    (11): ReLU(inplace=True)\n",
      "    (12): Conv2d(256, 256, kernel_size=(3, 3), stride=(1, 1), padding=(1, 1))\n",
      "    (13): ReLU(inplace=True)\n",
      "    (14): Conv2d(256, 256, kernel_size=(3, 3), stride=(1, 1), padding=(1, 1))\n",
      "    (15): ReLU(inplace=True)\n",
      "    (16): MaxPool2d(kernel_size=2, stride=2, padding=0, dilation=1, ceil_mode=False)\n",
      "    (17): Conv2d(256, 512, kernel_size=(3, 3), stride=(1, 1), padding=(1, 1))\n",
      "    (18): ReLU(inplace=True)\n",
      "    (19): Conv2d(512, 512, kernel_size=(3, 3), stride=(1, 1), padding=(1, 1))\n",
      "    (20): ReLU(inplace=True)\n",
      "    (21): Conv2d(512, 512, kernel_size=(3, 3), stride=(1, 1), padding=(1, 1))\n",
      "    (22): ReLU(inplace=True)\n",
      "    (23): MaxPool2d(kernel_size=2, stride=2, padding=0, dilation=1, ceil_mode=False)\n",
      "    (24): Conv2d(512, 512, kernel_size=(3, 3), stride=(1, 1), padding=(1, 1))\n",
      "    (25): ReLU(inplace=True)\n",
      "    (26): Conv2d(512, 512, kernel_size=(3, 3), stride=(1, 1), padding=(1, 1))\n",
      "    (27): ReLU(inplace=True)\n",
      "    (28): Conv2d(512, 512, kernel_size=(3, 3), stride=(1, 1), padding=(1, 1))\n",
      "    (29): ReLU(inplace=True)\n",
      "    (30): MaxPool2d(kernel_size=2, stride=2, padding=0, dilation=1, ceil_mode=False)\n",
      "  )\n",
      "  (avgpool): AdaptiveAvgPool2d(output_size=(7, 7))\n",
      "  (classifier): Sequential(\n",
      "    (0): Linear(in_features=25088, out_features=4096, bias=True)\n",
      "    (1): ReLU(inplace=True)\n",
      "    (2): Dropout(p=0.5, inplace=False)\n",
      "    (3): Linear(in_features=4096, out_features=4096, bias=True)\n",
      "    (4): ReLU(inplace=True)\n",
      "    (5): Dropout(p=0.5, inplace=False)\n",
      "    (6): Linear(in_features=4096, out_features=2, bias=True)\n",
      "  )\n",
      ")\n"
     ]
    }
   ],
   "source": [
    "def initialize_model_vgg16(num_classes, feature_extract, use_pretrained=True):\n",
    "    \n",
    "    ##Getting VGG-16 network \n",
    "    model_ft = models.vgg16(pretrained=use_pretrained)\n",
    "    ## Setting gradient attribute to false(No training)\n",
    "    set_parameter_requires_grad(model_ft, feature_extract)\n",
    "    ##Changing the final layer of the VGG-16 to linear layer with just two nodes\n",
    "    num_ftrs = model_ft.classifier[6].in_features\n",
    "    model_ft.classifier[6] = nn.Linear(num_ftrs,num_classes)\n",
    "    ##Input image size\n",
    "    input_size = 224\n",
    "\n",
    "    \n",
    "\n",
    "    return model_ft, input_size\n",
    "\n",
    "feature_extract=True\n",
    "\n",
    "# Initialize the model for this run\n",
    "model_ft, input_size = initialize_model_vgg16(2, feature_extract, use_pretrained=True)\n",
    "\n",
    "# Print the model we just instantiated\n",
    "print(model_ft)"
   ]
  },
  {
   "cell_type": "markdown",
   "id": "769f063f",
   "metadata": {},
   "source": [
    "## Fine-tuning VGG-16:\n",
    "> In this steps, the weights of newly modified layer are learned where all the previous layers weights are fixed"
   ]
  },
  {
   "cell_type": "code",
   "execution_count": 13,
   "id": "399e0c98",
   "metadata": {},
   "outputs": [],
   "source": [
    "def train_model(model, dataloaders, criterion, optimizer, num_epochs=25):\n",
    "    if __name__ == '__main__':\n",
    "        since = time.time()\n",
    "        ## Keep track of the validation set accucracy\n",
    "        val_acc_history = []\n",
    "        \n",
    "        ## Store the loses per epoch for Val and train set\n",
    "        val_loss=[]\n",
    "        train_loss=[]\n",
    "        \n",
    "        ## Storing the best model weights\n",
    "        best_model_wts = copy.deepcopy(model.state_dict())\n",
    "        best_acc = 0.0\n",
    "\n",
    "        for epoch in range(num_epochs):\n",
    "            print('Epoch {}/{}'.format(epoch, num_epochs - 1))\n",
    "            print('-' * 10)\n",
    "            t_loss=0\n",
    "            v_loss=0\n",
    "            # Each epoch has a training and validation phase\n",
    "            for phase in ['train', 'val']:\n",
    "                if phase == 'train':\n",
    "                    model.train()  # Set model to training mode\n",
    "                else:\n",
    "                    model.eval()   # Set model to evaluate mode\n",
    "\n",
    "                running_loss = 0.0\n",
    "                running_corrects = 0\n",
    "\n",
    "                # Iterate over data.\n",
    "                for inputs, labels in dataloaders[phase]:\n",
    "                    inputs = inputs.to(device)\n",
    "                    labels = labels.to(device)\n",
    "                    labels=labels.reshape(-1)\n",
    "  \n",
    "                    # zero the parameter gradients\n",
    "                    optimizer.zero_grad()\n",
    "\n",
    "                    # forward\n",
    "                    # track history if only in train\n",
    "                    with torch.set_grad_enabled(phase == 'train'):\n",
    "                        # Get model outputs and calculate loss\n",
    "\n",
    "                        if  phase == 'train':\n",
    "\n",
    "                            outputs= model(inputs)\n",
    "#                             print(labels.size(),labels.reshape(-1).size())\n",
    "                            loss = criterion(outputs, labels)\n",
    "                            t_loss+=loss*inputs.size()[0]\n",
    "\n",
    "                        else:\n",
    "                            outputs = model(inputs)\n",
    "                            loss = criterion(outputs, labels)\n",
    "                            v_loss+=loss*inputs.size()[0]\n",
    "\n",
    "                        _, preds = torch.max(outputs, 1)\n",
    "\n",
    "                        # backward + optimize only if in training phase\n",
    "                        if phase == 'train':\n",
    "                            loss.backward()\n",
    "                            optimizer.step()\n",
    "\n",
    "                    # statistics\n",
    "                    running_loss += loss.item() * inputs.size(0)\n",
    "                    running_corrects += torch.sum(preds == labels.data)\n",
    "                ## Storing epoch's loss for Training and Validation Set\n",
    "                if phase=='train':\n",
    "                    train_loss.append(t_loss)\n",
    "                else:\n",
    "                    val_loss.append(v_loss)\n",
    "\n",
    "                epoch_loss = running_loss / len(dataloaders[phase].dataset)\n",
    "                epoch_acc = running_corrects.double() / len(dataloaders[phase].dataset)\n",
    "\n",
    "                print('{} Loss: {:.4f} Acc: {:.4f}'.format(phase, epoch_loss, epoch_acc))\n",
    "\n",
    "                # deep copy the model\n",
    "                # if the model prediction improves change the stored Validation accuracy(best) and model weights(best) \n",
    "                if phase == 'val' and epoch_acc > best_acc:\n",
    "                    best_acc = epoch_acc\n",
    "                    best_model_wts = copy.deepcopy(model.state_dict())\n",
    "                if phase == 'val':\n",
    "                    val_acc_history.append(epoch_acc)\n",
    "\n",
    "    \n",
    "\n",
    "        time_elapsed = time.time() - since\n",
    "        print('Training complete in {:.0f}m {:.0f}s'.format(time_elapsed // 60, time_elapsed % 60))\n",
    "        print('Best val Acc: {:4f}'.format(best_acc))\n",
    "\n",
    "        # load best model weights\n",
    "        model.load_state_dict(best_model_wts)\n",
    "        return model, val_acc_history,train_loss,val_loss"
   ]
  },
  {
   "cell_type": "markdown",
   "id": "57e1f28b",
   "metadata": {},
   "source": [
    "###  Getting prediction on Test Dataset from Fine-Tune model"
   ]
  },
  {
   "cell_type": "code",
   "execution_count": 14,
   "id": "5dcc85fb",
   "metadata": {},
   "outputs": [],
   "source": [
    "def test_model(model, dataloaders):\n",
    "    test_corr=0\n",
    "    tp=0\n",
    "    fp=0\n",
    "    fn=0\n",
    "    \n",
    "    for inputs, labels in dataloaders:\n",
    "        inputs = inputs.to(device)\n",
    "        labels = labels.to(device)\n",
    "        labels=labels.reshape(-1)\n",
    "\n",
    "        ## Prediction of test dataset batch wise\n",
    "        \n",
    "        output=model(inputs)\n",
    "        _,label_pred=torch.max(output,1)\n",
    "        \n",
    "        ##Checking accuracy for batch\n",
    "#         print(labels,label_pred)\n",
    "        test_corr+=torch.sum(label_pred==labels.data)\n",
    "        tp+=torch.sum((label_pred==1) & (labels.data==1))\n",
    "        fp+=torch.sum((label_pred==1) & (labels.data==0))\n",
    "        fn+=torch.sum((label_pred==0) & (labels.data==1))\n",
    "        \n",
    "    ## Accuracy    \n",
    "    test_accuracy=test_corr/len(dataloaders.dataset)\n",
    "    test_accuracy=test_accuracy.cpu().detach().numpy()\n",
    "    ##Precision\n",
    "    Precision=tp/(fp+tp)\n",
    "    Precision=Precision.cpu().detach().numpy()\n",
    "    ##Recal\n",
    "    Recall=tp/(fn+tp)\n",
    "    Recall=Recall.cpu().detach().numpy()\n",
    "    return test_accuracy,Precision,Recall\n",
    "        \n",
    "        \n",
    "        "
   ]
  },
  {
   "cell_type": "code",
   "execution_count": 15,
   "id": "683a2fb4",
   "metadata": {},
   "outputs": [
    {
     "data": {
      "text/plain": [
       "device(type='cuda', index=0)"
      ]
     },
     "execution_count": 15,
     "metadata": {},
     "output_type": "execute_result"
    }
   ],
   "source": [
    "# Detect if we have a GPU available\n",
    "device = torch.device(\"cuda:0\" if torch.cuda.is_available() else \"cpu\")\n",
    "device"
   ]
  },
  {
   "cell_type": "markdown",
   "id": "94e3385c",
   "metadata": {},
   "source": [
    "### Loss function"
   ]
  },
  {
   "cell_type": "code",
   "execution_count": 16,
   "id": "59112cba",
   "metadata": {},
   "outputs": [],
   "source": [
    "criterion = nn.CrossEntropyLoss()\n",
    "results=[]"
   ]
  },
  {
   "cell_type": "markdown",
   "id": "9b2ee387",
   "metadata": {},
   "source": [
    "### Fine-Tuning Model-1\n",
    "\n",
    "> Based on RGB bands of the images."
   ]
  },
  {
   "cell_type": "code",
   "execution_count": 17,
   "id": "adb55ecf",
   "metadata": {},
   "outputs": [
    {
     "name": "stdout",
     "output_type": "stream",
     "text": [
      "Params to learn:\n",
      "\t classifier.6.weight\n",
      "\t classifier.6.bias\n"
     ]
    }
   ],
   "source": [
    "## Getting Train and Val dataset\n",
    "dataloader_dict=data_loader(composed,train_folder=train_dir,dev_folder=dev_dir,batch_size=32,stats=channel_stats)\n",
    "\n",
    "# Send the model to GPU\n",
    "model_ft = model_ft.to(device)\n",
    "\n",
    "params_to_update = model_ft.parameters()\n",
    "print(\"Params to learn:\")\n",
    "if feature_extract:\n",
    "    params_to_update = []\n",
    "    for name,param in model_ft.named_parameters():\n",
    "        if param.requires_grad == True:\n",
    "            params_to_update.append(param)\n",
    "            print(\"\\t\",name)\n",
    "else:\n",
    "    for name,param in model_ft.named_parameters():\n",
    "        if param.requires_grad == True:\n",
    "            print(\"\\t\",name)\n",
    "\n",
    "# Observe that all parameters are being optimized\n",
    "optimizer_ft = optim.SGD(params_to_update, lr=0.001, momentum=0.9)"
   ]
  },
  {
   "cell_type": "code",
   "execution_count": 18,
   "id": "07bd06b2",
   "metadata": {},
   "outputs": [
    {
     "name": "stdout",
     "output_type": "stream",
     "text": [
      "Epoch 0/9\n",
      "----------\n",
      "train Loss: 0.3949 Acc: 0.7755\n",
      "val Loss: 0.1186 Acc: 0.8864\n",
      "\n",
      "Epoch 1/9\n",
      "----------\n",
      "train Loss: 0.0544 Acc: 0.9739\n",
      "val Loss: 0.0118 Acc: 1.0000\n",
      "\n",
      "Epoch 2/9\n",
      "----------\n",
      "train Loss: 0.0144 Acc: 1.0000\n",
      "val Loss: 0.0077 Acc: 1.0000\n",
      "\n",
      "Epoch 3/9\n",
      "----------\n",
      "train Loss: 0.0125 Acc: 0.9987\n",
      "val Loss: 0.0064 Acc: 1.0000\n",
      "\n",
      "Epoch 4/9\n",
      "----------\n",
      "train Loss: 0.0087 Acc: 1.0000\n",
      "val Loss: 0.0054 Acc: 1.0000\n",
      "\n",
      "Epoch 5/9\n",
      "----------\n",
      "train Loss: 0.0085 Acc: 1.0000\n",
      "val Loss: 0.0046 Acc: 1.0000\n",
      "\n",
      "Epoch 6/9\n",
      "----------\n",
      "train Loss: 0.0069 Acc: 1.0000\n",
      "val Loss: 0.0041 Acc: 1.0000\n",
      "\n",
      "Epoch 7/9\n",
      "----------\n",
      "train Loss: 0.0059 Acc: 1.0000\n",
      "val Loss: 0.0037 Acc: 1.0000\n",
      "\n",
      "Epoch 8/9\n",
      "----------\n",
      "train Loss: 0.0061 Acc: 1.0000\n",
      "val Loss: 0.0034 Acc: 1.0000\n",
      "\n",
      "Epoch 9/9\n",
      "----------\n",
      "train Loss: 0.0057 Acc: 1.0000\n",
      "val Loss: 0.0030 Acc: 1.0000\n",
      "\n",
      "Training complete in 65m 34s\n",
      "Best val Acc: 1.000000\n"
     ]
    }
   ],
   "source": [
    "### rgb\n",
    "model_1, val_acc_history_1,train_loss_1,val_loss_1=train_model(model_ft, dataloader_dict, criterion, optimizer_ft, num_epochs=10)"
   ]
  },
  {
   "cell_type": "code",
   "execution_count": 27,
   "id": "b0046dbc",
   "metadata": {},
   "outputs": [
    {
     "name": "stdout",
     "output_type": "stream",
     "text": [
      "1.0 1.0 1.0\n"
     ]
    }
   ],
   "source": [
    "##Read Test dataset\n",
    "dataloader_test=data_loader(composed,test_folder=test_dir,batch_size=32,stats=channel_stats,mode='rgb')\n",
    "##Get prediction statistics \n",
    "test_accuracy_1,Precision_1,Recall_1=test_model(model_1, dataloader_test)\n",
    "## Store them\n",
    "results.append([round(float(test_accuracy_1),3),round(float(Precision_1),3),round(float(Recall_1),3)])\n",
    "\n",
    "results[0]"
   ]
  },
  {
   "cell_type": "code",
   "execution_count": 38,
   "id": "2b8a9d8c",
   "metadata": {},
   "outputs": [
    {
     "data": {
      "text/plain": [
       "<matplotlib.legend.Legend at 0x26ed2fdc130>"
      ]
     },
     "execution_count": 38,
     "metadata": {},
     "output_type": "execute_result"
    },
    {
     "data": {
      "image/png": "[encoded data removed]",
      "text/plain": [
       "<Figure size 432x288 with 1 Axes>"
      ]
     },
     "metadata": {
      "needs_background": "light"
     },
     "output_type": "display_data"
    }
   ],
   "source": [
    "\n",
    "train_dev=data_loader(composed,train_folder=train_dir,dev_folder=dev_dir,batch_size=32,stats=channel_stats,mode='rgb')\n",
    "\n",
    "train_size=len(train_dev['train'].dataset)\n",
    "dev_size=len(train_dev['val'].dataset)\n",
    "\n",
    "fig=sns.lineplot(y=[float(train_loss_1[2*i].cpu().detach())/train_size for i in range(10)],x=np.arange(1,11),label='Training Loss')\n",
    "sns.lineplot(y=[float(val_loss_1[2*i+1].cpu().detach())/train_size for i in range(10)],x=np.arange(1,11),label='Validation Loss')\n",
    "fig.set(ylabel='Cross Entropy Loss',xlabel='Number of Epochs',title='Fine Tuning VGG 16 on RGB bands')\n",
    "fig.legend()\n"
   ]
  },
  {
   "cell_type": "markdown",
   "id": "915fbcff",
   "metadata": {},
   "source": [
    "### Fine-Tuning Model-2\n",
    "\n",
    "> Based on Infrared bands of the images."
   ]
  },
  {
   "cell_type": "code",
   "execution_count": 20,
   "id": "cef62a52",
   "metadata": {},
   "outputs": [
    {
     "name": "stdout",
     "output_type": "stream",
     "text": [
      "Params to learn:\n",
      "\t classifier.6.weight\n",
      "\t classifier.6.bias\n"
     ]
    }
   ],
   "source": [
    "## Getting Train and Val dataset\n",
    "dataloader_dict=data_loader(composed,train_folder=train_dir,dev_folder=dev_dir,batch_size=32,stats=channel_stats,mode='ir')\n",
    "\n",
    "# Send the model to GPU\n",
    "model_ft = model_ft.to(device)\n",
    "\n",
    "params_to_update = model_ft.parameters()\n",
    "print(\"Params to learn:\")\n",
    "if feature_extract:\n",
    "    params_to_update = []\n",
    "    for name,param in model_ft.named_parameters():\n",
    "        if param.requires_grad == True:\n",
    "            params_to_update.append(param)\n",
    "            print(\"\\t\",name)\n",
    "else:\n",
    "    for name,param in model_ft.named_parameters():\n",
    "        if param.requires_grad == True:\n",
    "            print(\"\\t\",name)\n",
    "\n",
    "# Observe that all parameters are being optimized\n",
    "optimizer_ft = optim.SGD(params_to_update, lr=0.001, momentum=0.9)"
   ]
  },
  {
   "cell_type": "code",
   "execution_count": 21,
   "id": "d0ee3c16",
   "metadata": {},
   "outputs": [
    {
     "name": "stdout",
     "output_type": "stream",
     "text": [
      "Epoch 0/9\n",
      "----------\n",
      "train Loss: 0.0949 Acc: 0.9661\n",
      "val Loss: 0.0127 Acc: 1.0000\n",
      "\n",
      "Epoch 1/9\n",
      "----------\n",
      "train Loss: 0.0179 Acc: 0.9987\n",
      "val Loss: 0.0038 Acc: 1.0000\n",
      "\n",
      "Epoch 2/9\n",
      "----------\n",
      "train Loss: 0.0044 Acc: 1.0000\n",
      "val Loss: 0.0023 Acc: 1.0000\n",
      "\n",
      "Epoch 3/9\n",
      "----------\n",
      "train Loss: 0.0032 Acc: 1.0000\n",
      "val Loss: 0.0018 Acc: 1.0000\n",
      "\n",
      "Epoch 4/9\n",
      "----------\n",
      "train Loss: 0.0036 Acc: 1.0000\n",
      "val Loss: 0.0014 Acc: 1.0000\n",
      "\n",
      "Epoch 5/9\n",
      "----------\n",
      "train Loss: 0.0020 Acc: 1.0000\n",
      "val Loss: 0.0012 Acc: 1.0000\n",
      "\n",
      "Epoch 6/9\n",
      "----------\n",
      "train Loss: 0.0020 Acc: 1.0000\n",
      "val Loss: 0.0011 Acc: 1.0000\n",
      "\n",
      "Epoch 7/9\n",
      "----------\n",
      "train Loss: 0.0019 Acc: 1.0000\n",
      "val Loss: 0.0010 Acc: 1.0000\n",
      "\n",
      "Epoch 8/9\n",
      "----------\n",
      "train Loss: 0.0016 Acc: 1.0000\n",
      "val Loss: 0.0009 Acc: 1.0000\n",
      "\n",
      "Epoch 9/9\n",
      "----------\n",
      "train Loss: 0.0019 Acc: 1.0000\n",
      "val Loss: 0.0008 Acc: 1.0000\n",
      "\n",
      "Training complete in 62m 40s\n",
      "Best val Acc: 1.000000\n"
     ]
    }
   ],
   "source": [
    "### rgb\n",
    "model_2, val_acc_history_2,train_loss_2,val_loss_2=train_model(model_ft, dataloader_dict, criterion, optimizer_ft, num_epochs=10)"
   ]
  },
  {
   "cell_type": "code",
   "execution_count": 28,
   "id": "5d544e6d",
   "metadata": {},
   "outputs": [
    {
     "data": {
      "text/plain": [
       "[0.991, 1.0, 0.982]"
      ]
     },
     "execution_count": 28,
     "metadata": {},
     "output_type": "execute_result"
    }
   ],
   "source": [
    "## Read the test dataset\n",
    "dataloader_test=data_loader(composed,test_folder=test_dir,batch_size=32,stats=channel_stats,mode='ir')\n",
    "## Getting prediction statistics\n",
    "test_accuracy_2,Precision_2,Recall_2=test_model(model_2, dataloader_test)\n",
    "##Store them\n",
    "results.append([round(float(test_accuracy_2),3),round(float(Precision_2),3),round(float(Recall_2),3)])\n",
    "results[1]"
   ]
  },
  {
   "cell_type": "code",
   "execution_count": 39,
   "id": "d0c57d1e",
   "metadata": {},
   "outputs": [
    {
     "data": {
      "text/plain": [
       "<matplotlib.legend.Legend at 0x26ed304dd60>"
      ]
     },
     "execution_count": 39,
     "metadata": {},
     "output_type": "execute_result"
    },
    {
     "data": {
      "image/png": "[encoded data removed]",
      "text/plain": [
       "<Figure size 432x288 with 1 Axes>"
      ]
     },
     "metadata": {
      "needs_background": "light"
     },
     "output_type": "display_data"
    }
   ],
   "source": [
    "##Plotting the loss curves\n",
    "fig=sns.lineplot(y=[float(train_loss_2[2*i].cpu().detach())/train_size for i in range(10)],x=np.arange(1,11),label='Training Loss')\n",
    "sns.lineplot(y=[float(val_loss_2[2*i+1].cpu().detach())/train_size for i in range(10)],x=np.arange(1,11),label='Validation Loss')\n",
    "fig.set(ylabel='Cross Entropy Loss',xlabel='Number of Epochs',title='Fine Tuning VGG 16 on Infrared(6-8) bands')\n",
    "fig.legend()\n"
   ]
  },
  {
   "cell_type": "markdown",
   "id": "70e37659",
   "metadata": {},
   "source": [
    "### Fine-Tuning Model-3\n",
    "\n",
    "> Based on Index bands(11-13) of the images."
   ]
  },
  {
   "cell_type": "code",
   "execution_count": 22,
   "id": "d7400585",
   "metadata": {},
   "outputs": [
    {
     "name": "stdout",
     "output_type": "stream",
     "text": [
      "Params to learn:\n",
      "\t classifier.6.weight\n",
      "\t classifier.6.bias\n"
     ]
    }
   ],
   "source": [
    "## Getting Train and Val dataset\n",
    "dataloader_dict=data_loader(composed,train_folder=train_dir,dev_folder=dev_dir,batch_size=32,stats=channel_stats,mode='index')\n",
    "\n",
    "# Send the model to GPU\n",
    "model_ft = model_ft.to(device)\n",
    "\n",
    "params_to_update = model_ft.parameters()\n",
    "print(\"Params to learn:\")\n",
    "if feature_extract:\n",
    "    params_to_update = []\n",
    "    for name,param in model_ft.named_parameters():\n",
    "        if param.requires_grad == True:\n",
    "            params_to_update.append(param)\n",
    "            print(\"\\t\",name)\n",
    "else:\n",
    "    for name,param in model_ft.named_parameters():\n",
    "        if param.requires_grad == True:\n",
    "            print(\"\\t\",name)\n",
    "\n",
    "# Observe that all parameters are being optimized\n",
    "optimizer_ft = optim.SGD(params_to_update, lr=0.001, momentum=0.9)"
   ]
  },
  {
   "cell_type": "code",
   "execution_count": 23,
   "id": "180c8f5e",
   "metadata": {},
   "outputs": [
    {
     "name": "stdout",
     "output_type": "stream",
     "text": [
      "Epoch 0/9\n",
      "----------\n",
      "train Loss: 0.5871 Acc: 0.8146\n",
      "val Loss: 0.0257 Acc: 0.9922\n",
      "\n",
      "Epoch 1/9\n",
      "----------\n",
      "train Loss: 0.0521 Acc: 0.9883\n",
      "val Loss: 0.0195 Acc: 0.9909\n",
      "\n",
      "Epoch 2/9\n",
      "----------\n",
      "train Loss: 0.0248 Acc: 0.9883\n",
      "val Loss: 0.0135 Acc: 0.9948\n",
      "\n",
      "Epoch 3/9\n",
      "----------\n",
      "train Loss: 0.0143 Acc: 0.9961\n",
      "val Loss: 0.0117 Acc: 0.9948\n",
      "\n",
      "Epoch 4/9\n",
      "----------\n",
      "train Loss: 0.0208 Acc: 0.9922\n",
      "val Loss: 0.0100 Acc: 0.9961\n",
      "\n",
      "Epoch 5/9\n",
      "----------\n",
      "train Loss: 0.0144 Acc: 0.9961\n",
      "val Loss: 0.0087 Acc: 0.9961\n",
      "\n",
      "Epoch 6/9\n",
      "----------\n",
      "train Loss: 0.0147 Acc: 0.9948\n",
      "val Loss: 0.0082 Acc: 0.9987\n",
      "\n",
      "Epoch 7/9\n",
      "----------\n",
      "train Loss: 0.0131 Acc: 0.9948\n",
      "val Loss: 0.0070 Acc: 0.9974\n",
      "\n",
      "Epoch 8/9\n",
      "----------\n",
      "train Loss: 0.0106 Acc: 0.9974\n",
      "val Loss: 0.0064 Acc: 1.0000\n",
      "\n",
      "Epoch 9/9\n",
      "----------\n",
      "train Loss: 0.0079 Acc: 0.9987\n",
      "val Loss: 0.0059 Acc: 1.0000\n",
      "\n",
      "Training complete in 62m 13s\n",
      "Best val Acc: 1.000000\n"
     ]
    }
   ],
   "source": [
    "### rgb\n",
    "model_3, val_acc_history_3,train_loss_3,val_loss_3=train_model(model_ft, dataloader_dict, criterion, optimizer_ft, num_epochs=10)"
   ]
  },
  {
   "cell_type": "code",
   "execution_count": 29,
   "id": "1503628a",
   "metadata": {},
   "outputs": [
    {
     "data": {
      "text/plain": [
       "[0.85, 0.867, 0.827]"
      ]
     },
     "execution_count": 29,
     "metadata": {},
     "output_type": "execute_result"
    }
   ],
   "source": [
    "## Read the test dataset\n",
    "dataloader_test=data_loader(composed,test_folder=test_dir,batch_size=32,stats=channel_stats,mode='index')\n",
    "## get prediction performance\n",
    "test_accuracy_3,Precision_3,Recall_3=test_model(model_3, dataloader_test)\n",
    "##Store them\n",
    "results.append([round(float(test_accuracy_3),3),round(float(Precision_3),3),round(float(Recall_3),3)])\n",
    "results[2]"
   ]
  },
  {
   "cell_type": "code",
   "execution_count": 40,
   "id": "1948241b",
   "metadata": {},
   "outputs": [
    {
     "data": {
      "text/plain": [
       "<matplotlib.legend.Legend at 0x26ed304d610>"
      ]
     },
     "execution_count": 40,
     "metadata": {},
     "output_type": "execute_result"
    },
    {
     "data": {
      "image/png": "[encoded data removed]",
      "text/plain": [
       "<Figure size 432x288 with 1 Axes>"
      ]
     },
     "metadata": {
      "needs_background": "light"
     },
     "output_type": "display_data"
    }
   ],
   "source": [
    "## Plotting the loss curves\n",
    "\n",
    "fig=sns.lineplot(y=[float(train_loss_3[2*i].cpu().detach())/train_size for i in range(10)],x=np.arange(1,11),label='Training Loss')\n",
    "sns.lineplot(y=[float(val_loss_3[2*i+1].cpu().detach())/train_size for i in range(10)],x=np.arange(1,11),label='Validation Loss')\n",
    "fig.set(ylabel='Cross Entropy Loss',xlabel='Number of Epochs',title='Fine Tuning VGG 16 on 11-13 bands')\n",
    "fig.legend()\n"
   ]
  },
  {
   "cell_type": "markdown",
   "id": "5b9fbf1d",
   "metadata": {},
   "source": [
    "### Fine-Tuning Model-4\n",
    "\n",
    "> Based on 5-4-2 bands of the images."
   ]
  },
  {
   "cell_type": "code",
   "execution_count": 24,
   "id": "cfa2ee9b",
   "metadata": {},
   "outputs": [
    {
     "name": "stdout",
     "output_type": "stream",
     "text": [
      "Params to learn:\n",
      "\t classifier.6.weight\n",
      "\t classifier.6.bias\n"
     ]
    }
   ],
   "source": [
    "## Getting Train and Val dataset\n",
    "dataloader_dict=data_loader(composed,train_folder=train_dir,dev_folder=dev_dir,batch_size=32,stats=channel_stats,mode='other')\n",
    "\n",
    "# Send the model to GPU\n",
    "model_ft = model_ft.to(device)\n",
    "\n",
    "params_to_update = model_ft.parameters()\n",
    "print(\"Params to learn:\")\n",
    "if feature_extract:\n",
    "    params_to_update = []\n",
    "    for name,param in model_ft.named_parameters():\n",
    "        if param.requires_grad == True:\n",
    "            params_to_update.append(param)\n",
    "            print(\"\\t\",name)\n",
    "else:\n",
    "    for name,param in model_ft.named_parameters():\n",
    "        if param.requires_grad == True:\n",
    "            print(\"\\t\",name)\n",
    "\n",
    "# Observe that all parameters are being optimized\n",
    "optimizer_ft = optim.SGD(params_to_update, lr=0.001, momentum=0.9)"
   ]
  },
  {
   "cell_type": "code",
   "execution_count": 25,
   "id": "c8596852",
   "metadata": {},
   "outputs": [
    {
     "name": "stdout",
     "output_type": "stream",
     "text": [
      "Epoch 0/9\n",
      "----------\n",
      "train Loss: 0.9580 Acc: 0.8655\n",
      "val Loss: 0.0732 Acc: 0.9843\n",
      "\n",
      "Epoch 1/9\n",
      "----------\n",
      "train Loss: 0.0759 Acc: 0.9752\n",
      "val Loss: 0.0301 Acc: 0.9974\n",
      "\n",
      "Epoch 2/9\n",
      "----------\n",
      "train Loss: 0.0343 Acc: 0.9922\n",
      "val Loss: 0.0100 Acc: 0.9987\n",
      "\n",
      "Epoch 3/9\n",
      "----------\n",
      "train Loss: 0.0182 Acc: 0.9974\n",
      "val Loss: 0.0063 Acc: 1.0000\n",
      "\n",
      "Epoch 4/9\n",
      "----------\n",
      "train Loss: 0.0123 Acc: 0.9987\n",
      "val Loss: 0.0047 Acc: 1.0000\n",
      "\n",
      "Epoch 5/9\n",
      "----------\n",
      "train Loss: 0.0097 Acc: 1.0000\n",
      "val Loss: 0.0040 Acc: 1.0000\n",
      "\n",
      "Epoch 6/9\n",
      "----------\n",
      "train Loss: 0.0084 Acc: 1.0000\n",
      "val Loss: 0.0034 Acc: 1.0000\n",
      "\n",
      "Epoch 7/9\n",
      "----------\n",
      "train Loss: 0.0075 Acc: 1.0000\n",
      "val Loss: 0.0029 Acc: 1.0000\n",
      "\n",
      "Epoch 8/9\n",
      "----------\n",
      "train Loss: 0.0056 Acc: 1.0000\n",
      "val Loss: 0.0027 Acc: 1.0000\n",
      "\n",
      "Epoch 9/9\n",
      "----------\n",
      "train Loss: 0.0062 Acc: 1.0000\n",
      "val Loss: 0.0025 Acc: 1.0000\n",
      "\n",
      "Training complete in 63m 25s\n",
      "Best val Acc: 1.000000\n"
     ]
    }
   ],
   "source": [
    "### 5-4-2 bands\n",
    "model_4, val_acc_history_4,train_loss_4,val_loss_4=train_model(model_ft, dataloader_dict, criterion, optimizer_ft, num_epochs=10)"
   ]
  },
  {
   "cell_type": "code",
   "execution_count": 32,
   "id": "750c3979",
   "metadata": {},
   "outputs": [
    {
     "data": {
      "text/plain": [
       "[1.0, 1.0, 1.0]"
      ]
     },
     "execution_count": 32,
     "metadata": {},
     "output_type": "execute_result"
    }
   ],
   "source": [
    "## Reading the test dataset\n",
    "dataloader_test=data_loader(composed,test_folder=test_dir,batch_size=32,stats=channel_stats,mode='other')\n",
    "## Getting the prediction performance\n",
    "test_accuracy_4,Precision_4,Recall_4=test_model(model_4, dataloader_test)\n",
    "## store them\n",
    "results.append([round(float(test_accuracy_4),4),round(float(Precision_4),4),round(float(Recall_4),4)])\n",
    "results[3]"
   ]
  },
  {
   "cell_type": "code",
   "execution_count": 41,
   "id": "12cf82c5",
   "metadata": {},
   "outputs": [
    {
     "data": {
      "text/plain": [
       "<matplotlib.legend.Legend at 0x26eed753ca0>"
      ]
     },
     "execution_count": 41,
     "metadata": {},
     "output_type": "execute_result"
    },
    {
     "data": {
      "image/png": "[encoded data removed]",
      "text/plain": [
       "<Figure size 432x288 with 1 Axes>"
      ]
     },
     "metadata": {
      "needs_background": "light"
     },
     "output_type": "display_data"
    }
   ],
   "source": [
    "## PLotting the loss curves\n",
    "\n",
    "fig=sns.lineplot(y=[float(train_loss_4[2*i].cpu().detach())/train_size for i in range(10)],x=np.arange(1,11),label='Training Loss')\n",
    "sns.lineplot(y=[float(val_loss_4[2*i+1].cpu().detach())/train_size for i in range(10)],x=np.arange(1,11),label='Validation Loss')\n",
    "fig.set(ylabel='Cross Entropy Loss',xlabel='Number of Epochs',title='Fine Tuning VGG 16 on 5-4-2 bands')\n",
    "fig.legend()\n"
   ]
  },
  {
   "cell_type": "code",
   "execution_count": 33,
   "id": "77dfa3e8",
   "metadata": {},
   "outputs": [
    {
     "data": {
      "text/html": [
       "<div>\n",
       "<style scoped>\n",
       "    .dataframe tbody tr th:only-of-type {\n",
       "        vertical-align: middle;\n",
       "    }\n",
       "\n",
       "    .dataframe tbody tr th {\n",
       "        vertical-align: top;\n",
       "    }\n",
       "\n",
       "    .dataframe thead th {\n",
       "        text-align: right;\n",
       "    }\n",
       "</style>\n",
       "<table border=\"1\" class=\"dataframe\">\n",
       "  <thead>\n",
       "    <tr style=\"text-align: right;\">\n",
       "      <th></th>\n",
       "      <th>6-8</th>\n",
       "      <th>RGB</th>\n",
       "      <th>5-4-2</th>\n",
       "      <th>11-12-13</th>\n",
       "    </tr>\n",
       "    <tr>\n",
       "      <th>Metrics</th>\n",
       "      <th></th>\n",
       "      <th></th>\n",
       "      <th></th>\n",
       "      <th></th>\n",
       "    </tr>\n",
       "  </thead>\n",
       "  <tbody>\n",
       "    <tr>\n",
       "      <th>Accuracy</th>\n",
       "      <td>0.991</td>\n",
       "      <td>1.0</td>\n",
       "      <td>1.0</td>\n",
       "      <td>0.850</td>\n",
       "    </tr>\n",
       "    <tr>\n",
       "      <th>Precision</th>\n",
       "      <td>1.000</td>\n",
       "      <td>1.0</td>\n",
       "      <td>1.0</td>\n",
       "      <td>0.867</td>\n",
       "    </tr>\n",
       "    <tr>\n",
       "      <th>Recall</th>\n",
       "      <td>0.982</td>\n",
       "      <td>1.0</td>\n",
       "      <td>1.0</td>\n",
       "      <td>0.827</td>\n",
       "    </tr>\n",
       "  </tbody>\n",
       "</table>\n",
       "</div>"
      ],
      "text/plain": [
       "             6-8  RGB  5-4-2  11-12-13\n",
       "Metrics                               \n",
       "Accuracy   0.991  1.0    1.0     0.850\n",
       "Precision  1.000  1.0    1.0     0.867\n",
       "Recall     0.982  1.0    1.0     0.827"
      ]
     },
     "execution_count": 33,
     "metadata": {},
     "output_type": "execute_result"
    }
   ],
   "source": [
    "order=[1,0,3,2]\n",
    "results_update=[results[i] for i in order]\n",
    "df=pd.DataFrame(np.array(results_update).T,index=['Accuracy','Precision','Recall'])\n",
    "df.columns=['6-8','RGB','5-4-2','11-12-13']\n",
    "df.index.name='Metrics'\n",
    "df"
   ]
  },
  {
   "cell_type": "code",
   "execution_count": null,
   "id": "cbc6a6ba",
   "metadata": {},
   "outputs": [],
   "source": [
    "# df.to_csv('CNN_metrics.csv')"
   ]
  },
  {
   "cell_type": "code",
   "execution_count": 34,
   "id": "87137093",
   "metadata": {},
   "outputs": [
    {
     "data": {
      "text/plain": [
       "[tensor(302.4689, device='cuda:0', grad_fn=<AddBackward0>),\n",
       " tensor(302.4689, device='cuda:0', grad_fn=<AddBackward0>),\n",
       " tensor(41.7027, device='cuda:0', grad_fn=<AddBackward0>),\n",
       " tensor(41.7027, device='cuda:0', grad_fn=<AddBackward0>),\n",
       " tensor(11.0558, device='cuda:0', grad_fn=<AddBackward0>),\n",
       " tensor(11.0558, device='cuda:0', grad_fn=<AddBackward0>),\n",
       " tensor(9.5977, device='cuda:0', grad_fn=<AddBackward0>),\n",
       " tensor(9.5977, device='cuda:0', grad_fn=<AddBackward0>),\n",
       " tensor(6.6617, device='cuda:0', grad_fn=<AddBackward0>),\n",
       " tensor(6.6617, device='cuda:0', grad_fn=<AddBackward0>),\n",
       " tensor(6.5471, device='cuda:0', grad_fn=<AddBackward0>),\n",
       " tensor(6.5471, device='cuda:0', grad_fn=<AddBackward0>),\n",
       " tensor(5.2947, device='cuda:0', grad_fn=<AddBackward0>),\n",
       " tensor(5.2947, device='cuda:0', grad_fn=<AddBackward0>),\n",
       " tensor(4.5424, device='cuda:0', grad_fn=<AddBackward0>),\n",
       " tensor(4.5424, device='cuda:0', grad_fn=<AddBackward0>),\n",
       " tensor(4.6930, device='cuda:0', grad_fn=<AddBackward0>),\n",
       " tensor(4.6930, device='cuda:0', grad_fn=<AddBackward0>),\n",
       " tensor(4.3852, device='cuda:0', grad_fn=<AddBackward0>),\n",
       " tensor(4.3852, device='cuda:0', grad_fn=<AddBackward0>)]"
      ]
     },
     "execution_count": 34,
     "metadata": {},
     "output_type": "execute_result"
    }
   ],
   "source": [
    "train_loss_1"
   ]
  }
 ],
 "metadata": {
  "kernelspec": {
   "display_name": "Python 3 (ipykernel)",
   "language": "python",
   "name": "python3"
  },
  "language_info": {
   "codemirror_mode": {
    "name": "ipython",
    "version": 3
   },
   "file_extension": ".py",
   "mimetype": "text/x-python",
   "name": "python",
   "nbconvert_exporter": "python",
   "pygments_lexer": "ipython3",
   "version": "3.9.12"
  }
 },
 "nbformat": 4,
 "nbformat_minor": 5
}
