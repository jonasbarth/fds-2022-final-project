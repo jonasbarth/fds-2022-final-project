{
 "cells": [
  {
   "cell_type": "markdown",
   "id": "9929e634",
   "metadata": {},
   "source": [
    "# Logistic Regression"
   ]
  },
  {
   "cell_type": "code",
   "execution_count": 5,
   "id": "6cbeb617",
   "metadata": {},
   "outputs": [],
   "source": [
    "import numpy as np\n",
    "import pandas as pd\n",
    "from sklearn.datasets import load_iris\n",
    "from sklearn.linear_model import LogisticRegression\n",
    "from preprocessing.hog import Flatten\n",
    "from sklearn.pipeline import Pipeline\n",
    "from sklearn.metrics import confusion_matrix, ConfusionMatrixDisplay\n",
    "from sklearn.metrics import accuracy_score\n",
    "import matplotlib.pyplot as plt"
   ]
  },
  {
   "cell_type": "code",
   "execution_count": 44,
   "id": "3f5fe00c",
   "metadata": {},
   "outputs": [
    {
     "data": {
      "text/html": [
       "<div>\n",
       "<style scoped>\n",
       "    .dataframe tbody tr th:only-of-type {\n",
       "        vertical-align: middle;\n",
       "    }\n",
       "\n",
       "    .dataframe tbody tr th {\n",
       "        vertical-align: top;\n",
       "    }\n",
       "\n",
       "    .dataframe thead th {\n",
       "        text-align: right;\n",
       "    }\n",
       "</style>\n",
       "<table border=\"1\" class=\"dataframe\">\n",
       "  <thead>\n",
       "    <tr style=\"text-align: right;\">\n",
       "      <th></th>\n",
       "      <th>channels</th>\n",
       "      <th>type</th>\n",
       "      <th>data_path</th>\n",
       "      <th>label_path</th>\n",
       "    </tr>\n",
       "  </thead>\n",
       "  <tbody>\n",
       "    <tr>\n",
       "      <th>0</th>\n",
       "      <td>[1, 2, 3]</td>\n",
       "      <td>dev</td>\n",
       "      <td>data/hog/dev/hog_0_1_2.npy</td>\n",
       "      <td>data/hog/dev/labels.npy</td>\n",
       "    </tr>\n",
       "    <tr>\n",
       "      <th>1</th>\n",
       "      <td>[6, 7, 8]</td>\n",
       "      <td>dev</td>\n",
       "      <td>data/hog/dev/hog_5_6_7.npy</td>\n",
       "      <td>data/hog/dev/labels.npy</td>\n",
       "    </tr>\n",
       "    <tr>\n",
       "      <th>2</th>\n",
       "      <td>[11, 12, 13]</td>\n",
       "      <td>dev</td>\n",
       "      <td>data/hog/dev/hog_10_11_12.npy</td>\n",
       "      <td>data/hog/dev/labels.npy</td>\n",
       "    </tr>\n",
       "    <tr>\n",
       "      <th>3</th>\n",
       "      <td>[1, 2, 3]</td>\n",
       "      <td>test</td>\n",
       "      <td>data/hog/test/hog_0_1_2.npy</td>\n",
       "      <td>data/hog/test/labels.npy</td>\n",
       "    </tr>\n",
       "    <tr>\n",
       "      <th>4</th>\n",
       "      <td>[6, 7, 8]</td>\n",
       "      <td>test</td>\n",
       "      <td>data/hog/test/hog_5_6_7.npy</td>\n",
       "      <td>data/hog/test/labels.npy</td>\n",
       "    </tr>\n",
       "    <tr>\n",
       "      <th>5</th>\n",
       "      <td>[11, 12, 13]</td>\n",
       "      <td>test</td>\n",
       "      <td>data/hog/test/hog_10_11_12.npy</td>\n",
       "      <td>data/hog/test/labels.npy</td>\n",
       "    </tr>\n",
       "    <tr>\n",
       "      <th>6</th>\n",
       "      <td>[1, 2, 3]</td>\n",
       "      <td>train</td>\n",
       "      <td>data/hog/train/hog_0_1_2.npy</td>\n",
       "      <td>data/hog/train/labels.npy</td>\n",
       "    </tr>\n",
       "    <tr>\n",
       "      <th>7</th>\n",
       "      <td>[6, 7, 8]</td>\n",
       "      <td>train</td>\n",
       "      <td>data/hog/train/hog_5_6_7.npy</td>\n",
       "      <td>data/hog/train/labels.npy</td>\n",
       "    </tr>\n",
       "    <tr>\n",
       "      <th>8</th>\n",
       "      <td>[11, 12, 13]</td>\n",
       "      <td>train</td>\n",
       "      <td>data/hog/train/hog_10_11_12.npy</td>\n",
       "      <td>data/hog/train/labels.npy</td>\n",
       "    </tr>\n",
       "  </tbody>\n",
       "</table>\n",
       "</div>"
      ],
      "text/plain": [
       "       channels   type                        data_path  \\\n",
       "0     [1, 2, 3]    dev       data/hog/dev/hog_0_1_2.npy   \n",
       "1     [6, 7, 8]    dev       data/hog/dev/hog_5_6_7.npy   \n",
       "2  [11, 12, 13]    dev    data/hog/dev/hog_10_11_12.npy   \n",
       "3     [1, 2, 3]   test      data/hog/test/hog_0_1_2.npy   \n",
       "4     [6, 7, 8]   test      data/hog/test/hog_5_6_7.npy   \n",
       "5  [11, 12, 13]   test   data/hog/test/hog_10_11_12.npy   \n",
       "6     [1, 2, 3]  train     data/hog/train/hog_0_1_2.npy   \n",
       "7     [6, 7, 8]  train     data/hog/train/hog_5_6_7.npy   \n",
       "8  [11, 12, 13]  train  data/hog/train/hog_10_11_12.npy   \n",
       "\n",
       "                  label_path  \n",
       "0    data/hog/dev/labels.npy  \n",
       "1    data/hog/dev/labels.npy  \n",
       "2    data/hog/dev/labels.npy  \n",
       "3   data/hog/test/labels.npy  \n",
       "4   data/hog/test/labels.npy  \n",
       "5   data/hog/test/labels.npy  \n",
       "6  data/hog/train/labels.npy  \n",
       "7  data/hog/train/labels.npy  \n",
       "8  data/hog/train/labels.npy  "
      ]
     },
     "execution_count": 44,
     "metadata": {},
     "output_type": "execute_result"
    }
   ],
   "source": [
    "#Load Metadata\n",
    "hog_metadata_path = 'data/hog/metadata.csv'\n",
    "hog_metadata = pd.read_csv(hog_metadata_path, index_col=0)\n",
    "hog_metadata.channels = hog_metadata.channels.astype(str)\n",
    "hog_metadata"
   ]
  },
  {
   "cell_type": "markdown",
   "id": "8100e69e",
   "metadata": {},
   "source": [
    "## 1. Channels RGB"
   ]
  },
  {
   "cell_type": "markdown",
   "id": "3d50a61d",
   "metadata": {},
   "source": [
    "#### Training set"
   ]
  },
  {
   "cell_type": "code",
   "execution_count": 7,
   "id": "db21291d",
   "metadata": {},
   "outputs": [],
   "source": [
    "X_train = np.load('data/hog/train/hog_0_1_2.npy')\n",
    "y_train = np.load('data/hog/train/labels.npy')"
   ]
  },
  {
   "cell_type": "markdown",
   "id": "15cfcaa4",
   "metadata": {},
   "source": [
    "#### Test set"
   ]
  },
  {
   "cell_type": "code",
   "execution_count": 28,
   "id": "17ac6400",
   "metadata": {},
   "outputs": [],
   "source": [
    "X_test = np.load('data/hog/test/hog_0_1_2.npy')\n",
    "y_test = np.load('data/hog/test/labels.npy')"
   ]
  },
  {
   "cell_type": "markdown",
   "id": "6c0ea761",
   "metadata": {},
   "source": [
    "#### Pipeline"
   ]
  },
  {
   "cell_type": "code",
   "execution_count": 69,
   "id": "69fe7e39",
   "metadata": {},
   "outputs": [],
   "source": [
    "from sklearn.preprocessing import StandardScaler"
   ]
  },
  {
   "cell_type": "code",
   "execution_count": 75,
   "id": "b38fc041",
   "metadata": {},
   "outputs": [],
   "source": [
    "pipeline = Pipeline([('flatten', Flatten()),('Standardize',StandardScaler()),('lr', LogisticRegression(fit_intercept = True,max_iter = 200,penalty = \"l2\"))])"
   ]
  },
  {
   "cell_type": "markdown",
   "id": "9683ecbe",
   "metadata": {},
   "source": [
    "#### Training, Test and Visualization of Scores"
   ]
  },
  {
   "cell_type": "code",
   "execution_count": 76,
   "id": "bddf33a3",
   "metadata": {},
   "outputs": [
    {
     "name": "stderr",
     "output_type": "stream",
     "text": [
      "/opt/anaconda3/lib/python3.8/site-packages/sklearn/linear_model/_logistic.py:458: ConvergenceWarning: lbfgs failed to converge (status=1):\n",
      "STOP: TOTAL NO. of ITERATIONS REACHED LIMIT.\n",
      "\n",
      "Increase the number of iterations (max_iter) or scale the data as shown in:\n",
      "    https://scikit-learn.org/stable/modules/preprocessing.html\n",
      "Please also refer to the documentation for alternative solver options:\n",
      "    https://scikit-learn.org/stable/modules/linear_model.html#logistic-regression\n",
      "  n_iter_i = _check_optimize_result(\n",
      "/opt/anaconda3/lib/python3.8/site-packages/sklearn/linear_model/_logistic.py:458: ConvergenceWarning: lbfgs failed to converge (status=1):\n",
      "STOP: TOTAL NO. of ITERATIONS REACHED LIMIT.\n",
      "\n",
      "Increase the number of iterations (max_iter) or scale the data as shown in:\n",
      "    https://scikit-learn.org/stable/modules/preprocessing.html\n",
      "Please also refer to the documentation for alternative solver options:\n",
      "    https://scikit-learn.org/stable/modules/linear_model.html#logistic-regression\n",
      "  n_iter_i = _check_optimize_result(\n"
     ]
    }
   ],
   "source": [
    "confusion_matrices = {}\n",
    "for channel in hog_metadata.channels.unique():\n",
    "    train_metadata = hog_metadata[(hog_metadata.type == 'train') & (hog_metadata.channels == channel)]\n",
    "    train = np.load(train_metadata.data_path.values[0])\n",
    "    train_label = np.load(train_metadata.label_path.values[0])\n",
    "\n",
    "    test_metadata = hog_metadata[(hog_metadata.type == 'test') & (hog_metadata.channels == channel)]\n",
    "    test = np.load(f'{test_metadata.data_path.values[0]}')\n",
    "    test_label = np.load(f'{test_metadata.label_path.values[0]}')\n",
    "    \n",
    "    pipeline.fit(train, train_label)\n",
    "    \n",
    "    confusion_mat = confusion_matrix(test_label, pipeline.predict(test))\n",
    "    confusion_matrices[channel] = confusion_mat"
   ]
  },
  {
   "cell_type": "code",
   "execution_count": 77,
   "id": "43df9d56",
   "metadata": {},
   "outputs": [
    {
     "data": {
      "image/png": "[encoded data removed]",
      "text/plain": [
       "<Figure size 864x288 with 6 Axes>"
      ]
     },
     "metadata": {
      "needs_background": "light"
     },
     "output_type": "display_data"
    }
   ],
   "source": [
    "display_labels = ['No Glacier', 'Glacier']\n",
    "\n",
    "fig, axes = plt.subplots(ncols=3, nrows=1, sharex=True, sharey=True, figsize=(12, 4))\n",
    "\n",
    "axes[0].set_title(\"Channels: 1, 2, 3\")\n",
    "axes[1].set_title(\"Channels: 6, 7, 8\")\n",
    "axes[2].set_title(\"Channels: 11, 12, 13\")\n",
    "\n",
    "ConfusionMatrixDisplay(confusion_matrices['[1, 2, 3]'], display_labels=display_labels).plot(ax=axes[0])\n",
    "ConfusionMatrixDisplay(confusion_matrices['[6, 7, 8]'], display_labels=display_labels).plot(ax=axes[1])\n",
    "ConfusionMatrixDisplay(confusion_matrices['[11, 12, 13]'], display_labels=display_labels).plot(ax=axes[2]);"
   ]
  }
 ],
 "metadata": {
  "kernelspec": {
   "display_name": "Python 3",
   "language": "python",
   "name": "python3"
  },
  "language_info": {
   "codemirror_mode": {
    "name": "ipython",
    "version": 3
   },
   "file_extension": ".py",
   "mimetype": "text/x-python",
   "name": "python",
   "nbconvert_exporter": "python",
   "pygments_lexer": "ipython3",
   "version": "3.8.8"
  }
 },
 "nbformat": 4,
 "nbformat_minor": 5
}
