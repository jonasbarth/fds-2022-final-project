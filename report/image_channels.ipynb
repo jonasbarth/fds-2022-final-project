{
 "cells": [
  {
   "cell_type": "markdown",
   "id": "c3657ee1",
   "metadata": {},
   "source": [
    "# Image Channels\n",
    "Generates images of the following channels:\n",
    "* 1, 2, 3\n",
    "* 6, 7, 8\n",
    "* 11, 12, 13"
   ]
  },
  {
   "cell_type": "code",
   "execution_count": 2,
   "id": "5eb349cc",
   "metadata": {},
   "outputs": [],
   "source": [
    "import numpy as np\n",
    "import matplotlib.pyplot as plt\n",
    "from util import read_file"
   ]
  },
  {
   "cell_type": "code",
   "execution_count": null,
   "id": "b13b8aab",
   "metadata": {},
   "outputs": [],
   "source": []
  }
 ],
 "metadata": {
  "kernelspec": {
   "display_name": "Python 3 (ipykernel)",
   "language": "python",
   "name": "python3"
  },
  "language_info": {
   "codemirror_mode": {
    "name": "ipython",
    "version": 3
   },
   "file_extension": ".py",
   "mimetype": "text/x-python",
   "name": "python",
   "nbconvert_exporter": "python",
   "pygments_lexer": "ipython3",
   "version": "3.9.0"
  }
 },
 "nbformat": 4,
 "nbformat_minor": 5
}
