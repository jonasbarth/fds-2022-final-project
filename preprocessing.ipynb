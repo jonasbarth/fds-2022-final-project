{
 "cells": [
  {
   "cell_type": "markdown",
   "id": "79d8a7de-75d3-4520-8304-2dbcfab179c7",
   "metadata": {},
   "source": [
    "# Preprocessing\n",
    "\n",
    "## JSON $\\rightarrow$ Pandas\n",
    "Turning metadatas json into useful and readable pandas dataframes\n",
    "\n",
    "in order to make this script work you need to have the dataset in the working wolder such as:\n",
    "```\n",
    ">> fds-2022-final-project\n",
    "    >> ...\n",
    "    >> og_dataset\n",
    "        >> slices.json\n",
    "        >> splits\n",
    "            >> train/\n",
    "            >> dev/\n",
    "            >> test/\n",
    "```"
   ]
  },
  {
   "cell_type": "code",
   "execution_count": 1,
   "id": "04784322-1c66-4fcf-a332-afc436d60659",
   "metadata": {},
   "outputs": [],
   "source": [
    "import json\n",
    "import os\n",
    "import numpy as np\n",
    "import pandas as pd\n",
    "\n",
    "metadata_file = 'og_dataset/slices.geojson'\n",
    "train_folder = 'og_dataset/splits/train/'\n",
    "dev_folder = 'og_dataset/splits/dev/'\n",
    "test_folder = 'og_dataset/splits/test/'"
   ]
  },
  {
   "cell_type": "markdown",
   "id": "1797d7b3-5d25-4a70-9a7d-e514515cc04a",
   "metadata": {},
   "source": [
    "We first import the json file, and take only the information regarding all the patches, while adding to it the center of the longitude and latitude of the patch"
   ]
  },
  {
   "cell_type": "code",
   "execution_count": 2,
   "id": "7ae5ac62-1e87-41c5-836b-ecf76c515b2d",
   "metadata": {},
   "outputs": [
    {
     "data": {
      "text/plain": [
       "[{'img_source': '/datadrive/glaciers/unique_tiles/LE07_149037_20041024.tif',\n",
       "  'mask_source': '/datadrive/glaciers/processed/masks/mask_00.npy',\n",
       "  'img_slice': '/datadrive/glaciers/processed/slices/slice_0_img_000.npy',\n",
       "  'mask_slice': '/datadrive/glaciers/processed/slices/slice_0_mask_000.npy',\n",
       "  'mask_mean_0': 0.0,\n",
       "  'mask_mean_1': 0.0,\n",
       "  'mask_mean_2': 0.0,\n",
       "  'img_mean': 77.38898468017578,\n",
       "  'lng': 333795.9649122807,\n",
       "  'lat': 3572176.06391926},\n",
       " {'img_source': '/datadrive/glaciers/unique_tiles/LE07_149037_20041024.tif',\n",
       "  'mask_source': '/datadrive/glaciers/processed/masks/mask_00.npy',\n",
       "  'img_slice': '/datadrive/glaciers/processed/slices/slice_0_img_001.npy',\n",
       "  'mask_slice': '/datadrive/glaciers/processed/slices/slice_0_mask_001.npy',\n",
       "  'mask_mean_0': 0.0,\n",
       "  'mask_mean_1': 0.0,\n",
       "  'mask_mean_2': 0.0,\n",
       "  'img_mean': 133.6044158935547,\n",
       "  'lng': 348977.8947368421,\n",
       "  'lat': 3572176.06391926}]"
      ]
     },
     "execution_count": 2,
     "metadata": {},
     "output_type": "execute_result"
    }
   ],
   "source": [
    "with open(metadata_file) as f:\n",
    "    d = json.load(f)\n",
    "patches = d['features']\n",
    "patches = [{\n",
    "    **p['properties'], \n",
    "     'lng':np.mean(p['geometry']['coordinates'][0][:-1], axis=0)[0],\n",
    "     'lat':np.mean(p['geometry']['coordinates'][0][:-1], axis=0)[1]\n",
    "    } for p in patches]\n",
    "patches[:2]"
   ]
  },
  {
   "cell_type": "markdown",
   "id": "606d989e-2a0d-49e2-a9b7-019389a67ecd",
   "metadata": {},
   "source": [
    "Now we port the dataset into pandas and clean it, by:\n",
    "- taking the number of the original img it came from\n",
    "- taking the slice number\n",
    "- using the 2 aforemwntioned features as index\n",
    "- drop the name of the original file it came from\n",
    "- combine (sum) the mean of layer 0 and 1 of the mask together\n",
    "- drop the mean of layer 0 and 1 of the mask (since those are now combined in `mask_mean`)\n",
    "- rename the `mask_mean_2` as `china`, since it's the percentage of china represented in the image"
   ]
  },
  {
   "cell_type": "code",
   "execution_count": 3,
   "id": "d447b9fe-5a66-406b-8b07-d21aa1ef2bd3",
   "metadata": {},
   "outputs": [
    {
     "data": {
      "text/html": [
       "<div>\n",
       "<style scoped>\n",
       "    .dataframe tbody tr th:only-of-type {\n",
       "        vertical-align: middle;\n",
       "    }\n",
       "\n",
       "    .dataframe tbody tr th {\n",
       "        vertical-align: top;\n",
       "    }\n",
       "\n",
       "    .dataframe thead th {\n",
       "        text-align: right;\n",
       "    }\n",
       "</style>\n",
       "<table border=\"1\" class=\"dataframe\">\n",
       "  <thead>\n",
       "    <tr style=\"text-align: right;\">\n",
       "      <th></th>\n",
       "      <th></th>\n",
       "      <th>img_slice</th>\n",
       "      <th>mask_slice</th>\n",
       "      <th>china</th>\n",
       "      <th>img_mean</th>\n",
       "      <th>lng</th>\n",
       "      <th>lat</th>\n",
       "      <th>mask_mean</th>\n",
       "    </tr>\n",
       "    <tr>\n",
       "      <th>src</th>\n",
       "      <th>slice_num</th>\n",
       "      <th></th>\n",
       "      <th></th>\n",
       "      <th></th>\n",
       "      <th></th>\n",
       "      <th></th>\n",
       "      <th></th>\n",
       "      <th></th>\n",
       "    </tr>\n",
       "  </thead>\n",
       "  <tbody>\n",
       "    <tr>\n",
       "      <th rowspan=\"5\" valign=\"top\">0</th>\n",
       "      <th>000</th>\n",
       "      <td>slice_0_img_000.npy</td>\n",
       "      <td>slice_0_mask_000.npy</td>\n",
       "      <td>0.0</td>\n",
       "      <td>77.388985</td>\n",
       "      <td>333795.964912</td>\n",
       "      <td>3.572176e+06</td>\n",
       "      <td>0.0</td>\n",
       "    </tr>\n",
       "    <tr>\n",
       "      <th>001</th>\n",
       "      <td>slice_0_img_001.npy</td>\n",
       "      <td>slice_0_mask_001.npy</td>\n",
       "      <td>0.0</td>\n",
       "      <td>133.604416</td>\n",
       "      <td>348977.894737</td>\n",
       "      <td>3.572176e+06</td>\n",
       "      <td>0.0</td>\n",
       "    </tr>\n",
       "    <tr>\n",
       "      <th>002</th>\n",
       "      <td>slice_0_img_002.npy</td>\n",
       "      <td>slice_0_mask_002.npy</td>\n",
       "      <td>0.0</td>\n",
       "      <td>94.324028</td>\n",
       "      <td>364159.824561</td>\n",
       "      <td>3.572176e+06</td>\n",
       "      <td>0.0</td>\n",
       "    </tr>\n",
       "    <tr>\n",
       "      <th>003</th>\n",
       "      <td>slice_0_img_003.npy</td>\n",
       "      <td>slice_0_mask_003.npy</td>\n",
       "      <td>0.0</td>\n",
       "      <td>189.766983</td>\n",
       "      <td>379341.754386</td>\n",
       "      <td>3.572176e+06</td>\n",
       "      <td>0.0</td>\n",
       "    </tr>\n",
       "    <tr>\n",
       "      <th>004</th>\n",
       "      <td>slice_0_img_004.npy</td>\n",
       "      <td>slice_0_mask_004.npy</td>\n",
       "      <td>0.0</td>\n",
       "      <td>198.229507</td>\n",
       "      <td>394523.684211</td>\n",
       "      <td>3.572176e+06</td>\n",
       "      <td>0.0</td>\n",
       "    </tr>\n",
       "  </tbody>\n",
       "</table>\n",
       "</div>"
      ],
      "text/plain": [
       "                         img_slice            mask_slice  china    img_mean  \\\n",
       "src slice_num                                                                 \n",
       "0   000        slice_0_img_000.npy  slice_0_mask_000.npy    0.0   77.388985   \n",
       "    001        slice_0_img_001.npy  slice_0_mask_001.npy    0.0  133.604416   \n",
       "    002        slice_0_img_002.npy  slice_0_mask_002.npy    0.0   94.324028   \n",
       "    003        slice_0_img_003.npy  slice_0_mask_003.npy    0.0  189.766983   \n",
       "    004        slice_0_img_004.npy  slice_0_mask_004.npy    0.0  198.229507   \n",
       "\n",
       "                         lng           lat  mask_mean  \n",
       "src slice_num                                          \n",
       "0   000        333795.964912  3.572176e+06        0.0  \n",
       "    001        348977.894737  3.572176e+06        0.0  \n",
       "    002        364159.824561  3.572176e+06        0.0  \n",
       "    003        379341.754386  3.572176e+06        0.0  \n",
       "    004        394523.684211  3.572176e+06        0.0  "
      ]
     },
     "execution_count": 3,
     "metadata": {},
     "output_type": "execute_result"
    }
   ],
   "source": [
    "metadata = pd.DataFrame(patches)\n",
    "files_columns = ['img_source','mask_source','img_slice','mask_slice']\n",
    "metadata[files_columns] = metadata[files_columns].applymap(lambda x: x.split('/')[-1])\n",
    "metadata['src'] = metadata.img_slice.map(lambda s: s.split('_')[1])\n",
    "metadata['slice_num'] = metadata.img_slice.map(lambda s: s.split('_')[-1][:3])\n",
    "metadata.set_index(['src', 'slice_num'], inplace=True)\n",
    "metadata['mask_mean'] = metadata.mask_mean_0 + metadata.mask_mean_1\n",
    "metadata.rename(columns={'mask_mean_2':'china'}, inplace=True)\n",
    "metadata.drop(columns=['img_source', 'mask_source', 'mask_mean_0', 'mask_mean_1'], inplace=True)\n",
    "\n",
    "metadata.head()"
   ]
  },
  {
   "cell_type": "markdown",
   "id": "54bd7371-4703-4458-be44-08048ecf0773",
   "metadata": {},
   "source": [
    "Then we take the list of all the slice files for each folder"
   ]
  },
  {
   "cell_type": "code",
   "execution_count": 4,
   "id": "711bbfb0-ec0d-4fcb-ab5a-469b182abf38",
   "metadata": {},
   "outputs": [
    {
     "data": {
      "text/plain": [
       "['slice_10_mask_174.npy', 'slice_10_mask_175.npy', 'slice_10_mask_187.npy']"
      ]
     },
     "execution_count": 4,
     "metadata": {},
     "output_type": "execute_result"
    }
   ],
   "source": [
    "def list_files(folder):\n",
    "    list_of_files = []\n",
    "\n",
    "    for root, dirs, files in os.walk(folder):\n",
    "        for file in files:\n",
    "            list_of_files.append(file)\n",
    "    return list_of_files\n",
    "\n",
    "train_splits = list_files(train_folder)\n",
    "dev_splits = list_files(dev_folder)\n",
    "test_splits = list_files(test_folder)\n",
    "\n",
    "test_splits[:3]"
   ]
  },
  {
   "cell_type": "markdown",
   "id": "849a8a6e-565a-4c0d-a132-ee1f5fb52116",
   "metadata": {},
   "source": [
    "And finally we partition the metadata in 3 different datasets"
   ]
  },
  {
   "cell_type": "code",
   "execution_count": 5,
   "id": "3311a1a4-666d-45eb-867c-e90873a191a5",
   "metadata": {},
   "outputs": [
    {
     "data": {
      "text/html": [
       "<div>\n",
       "<style scoped>\n",
       "    .dataframe tbody tr th:only-of-type {\n",
       "        vertical-align: middle;\n",
       "    }\n",
       "\n",
       "    .dataframe tbody tr th {\n",
       "        vertical-align: top;\n",
       "    }\n",
       "\n",
       "    .dataframe thead th {\n",
       "        text-align: right;\n",
       "    }\n",
       "</style>\n",
       "<table border=\"1\" class=\"dataframe\">\n",
       "  <thead>\n",
       "    <tr style=\"text-align: right;\">\n",
       "      <th></th>\n",
       "      <th></th>\n",
       "      <th>img_slice</th>\n",
       "      <th>mask_slice</th>\n",
       "      <th>china</th>\n",
       "      <th>img_mean</th>\n",
       "      <th>lng</th>\n",
       "      <th>lat</th>\n",
       "      <th>mask_mean</th>\n",
       "    </tr>\n",
       "    <tr>\n",
       "      <th>src</th>\n",
       "      <th>slice_num</th>\n",
       "      <th></th>\n",
       "      <th></th>\n",
       "      <th></th>\n",
       "      <th></th>\n",
       "      <th></th>\n",
       "      <th></th>\n",
       "      <th></th>\n",
       "    </tr>\n",
       "  </thead>\n",
       "  <tbody>\n",
       "    <tr>\n",
       "      <th>1</th>\n",
       "      <th>151</th>\n",
       "      <td>og_dataset/splits/test/slice_1_img_151.npy</td>\n",
       "      <td>og_dataset/splits/test/slice_1_mask_151.npy</td>\n",
       "      <td>0.000000</td>\n",
       "      <td>379.826019</td>\n",
       "      <td>460217.903596</td>\n",
       "      <td>4.200787e+06</td>\n",
       "      <td>0.521347</td>\n",
       "    </tr>\n",
       "    <tr>\n",
       "      <th rowspan=\"3\" valign=\"top\">2</th>\n",
       "      <th>093</th>\n",
       "      <td>og_dataset/splits/test/slice_2_img_093.npy</td>\n",
       "      <td>og_dataset/splits/test/slice_2_mask_093.npy</td>\n",
       "      <td>0.001530</td>\n",
       "      <td>525.524292</td>\n",
       "      <td>211011.702409</td>\n",
       "      <td>3.505949e+06</td>\n",
       "      <td>0.316036</td>\n",
       "    </tr>\n",
       "    <tr>\n",
       "      <th>109</th>\n",
       "      <td>og_dataset/splits/test/slice_2_img_109.npy</td>\n",
       "      <td>og_dataset/splits/test/slice_2_mask_109.npy</td>\n",
       "      <td>0.020706</td>\n",
       "      <td>510.207916</td>\n",
       "      <td>226193.617384</td>\n",
       "      <td>3.521131e+06</td>\n",
       "      <td>0.352470</td>\n",
       "    </tr>\n",
       "    <tr>\n",
       "      <th>157</th>\n",
       "      <td>og_dataset/splits/test/slice_2_img_157.npy</td>\n",
       "      <td>og_dataset/splits/test/slice_2_mask_157.npy</td>\n",
       "      <td>0.031021</td>\n",
       "      <td>537.625977</td>\n",
       "      <td>271739.362306</td>\n",
       "      <td>3.566677e+06</td>\n",
       "      <td>0.411125</td>\n",
       "    </tr>\n",
       "    <tr>\n",
       "      <th>3</th>\n",
       "      <th>004</th>\n",
       "      <td>og_dataset/splits/test/slice_3_img_004.npy</td>\n",
       "      <td>og_dataset/splits/test/slice_3_mask_004.npy</td>\n",
       "      <td>0.039127</td>\n",
       "      <td>352.693176</td>\n",
       "      <td>654383.836999</td>\n",
       "      <td>3.417196e+06</td>\n",
       "      <td>0.201778</td>\n",
       "    </tr>\n",
       "  </tbody>\n",
       "</table>\n",
       "</div>"
      ],
      "text/plain": [
       "                                                img_slice  \\\n",
       "src slice_num                                               \n",
       "1   151        og_dataset/splits/test/slice_1_img_151.npy   \n",
       "2   093        og_dataset/splits/test/slice_2_img_093.npy   \n",
       "    109        og_dataset/splits/test/slice_2_img_109.npy   \n",
       "    157        og_dataset/splits/test/slice_2_img_157.npy   \n",
       "3   004        og_dataset/splits/test/slice_3_img_004.npy   \n",
       "\n",
       "                                                mask_slice     china  \\\n",
       "src slice_num                                                          \n",
       "1   151        og_dataset/splits/test/slice_1_mask_151.npy  0.000000   \n",
       "2   093        og_dataset/splits/test/slice_2_mask_093.npy  0.001530   \n",
       "    109        og_dataset/splits/test/slice_2_mask_109.npy  0.020706   \n",
       "    157        og_dataset/splits/test/slice_2_mask_157.npy  0.031021   \n",
       "3   004        og_dataset/splits/test/slice_3_mask_004.npy  0.039127   \n",
       "\n",
       "                 img_mean            lng           lat  mask_mean  \n",
       "src slice_num                                                      \n",
       "1   151        379.826019  460217.903596  4.200787e+06   0.521347  \n",
       "2   093        525.524292  211011.702409  3.505949e+06   0.316036  \n",
       "    109        510.207916  226193.617384  3.521131e+06   0.352470  \n",
       "    157        537.625977  271739.362306  3.566677e+06   0.411125  \n",
       "3   004        352.693176  654383.836999  3.417196e+06   0.201778  "
      ]
     },
     "execution_count": 5,
     "metadata": {},
     "output_type": "execute_result"
    }
   ],
   "source": [
    "def partition_metadata(metadata, splits, folder = ''):\n",
    "    # takes only the rows corresponding to those in the splits\n",
    "    res = metadata[metadata.img_slice.isin( splits )].copy()\n",
    "    # then adds the \n",
    "    res.img_slice = folder + res.img_slice\n",
    "    res.mask_slice = folder + res.mask_slice\n",
    "    return res\n",
    "\n",
    "test_data = partition_metadata(metadata, test_splits, folder=test_folder)\n",
    "dev_data = partition_metadata(metadata, dev_splits, folder=dev_folder)\n",
    "train_data = partition_metadata(metadata, train_splits, folder=train_folder)\n",
    "\n",
    "test_data.head()"
   ]
  },
  {
   "cell_type": "code",
   "execution_count": 6,
   "id": "f4190013-581f-47d9-ae73-3468889d6758",
   "metadata": {},
   "outputs": [],
   "source": [
    "test_data.to_csv('dataset/test_data.csv')\n",
    "train_data.to_csv('dataset/train_data.csv')\n",
    "dev_data.to_csv('dataset/dev_data.csv')"
   ]
  },
  {
   "cell_type": "markdown",
   "id": "7fd09422-74c3-4574-a83b-b276e95e1af1",
   "metadata": {},
   "source": [
    "Now, to load a dataset:"
   ]
  },
  {
   "cell_type": "code",
   "execution_count": 7,
   "id": "cf8fefea-0c8c-478d-9f33-bf2eccfa1cf6",
   "metadata": {},
   "outputs": [
    {
     "data": {
      "text/html": [
       "<div>\n",
       "<style scoped>\n",
       "    .dataframe tbody tr th:only-of-type {\n",
       "        vertical-align: middle;\n",
       "    }\n",
       "\n",
       "    .dataframe tbody tr th {\n",
       "        vertical-align: top;\n",
       "    }\n",
       "\n",
       "    .dataframe thead th {\n",
       "        text-align: right;\n",
       "    }\n",
       "</style>\n",
       "<table border=\"1\" class=\"dataframe\">\n",
       "  <thead>\n",
       "    <tr style=\"text-align: right;\">\n",
       "      <th></th>\n",
       "      <th></th>\n",
       "      <th>img_slice</th>\n",
       "      <th>mask_slice</th>\n",
       "      <th>china</th>\n",
       "      <th>img_mean</th>\n",
       "      <th>lng</th>\n",
       "      <th>lat</th>\n",
       "      <th>mask_mean</th>\n",
       "    </tr>\n",
       "    <tr>\n",
       "      <th>src</th>\n",
       "      <th>slice_num</th>\n",
       "      <th></th>\n",
       "      <th></th>\n",
       "      <th></th>\n",
       "      <th></th>\n",
       "      <th></th>\n",
       "      <th></th>\n",
       "      <th></th>\n",
       "    </tr>\n",
       "  </thead>\n",
       "  <tbody>\n",
       "    <tr>\n",
       "      <th rowspan=\"5\" valign=\"top\">1</th>\n",
       "      <th>150</th>\n",
       "      <td>og_dataset/splits/train/slice_1_img_150.npy</td>\n",
       "      <td>og_dataset/splits/train/slice_1_mask_150.npy</td>\n",
       "      <td>0.000595</td>\n",
       "      <td>382.686157</td>\n",
       "      <td>445035.967865</td>\n",
       "      <td>4.200787e+06</td>\n",
       "      <td>0.370186</td>\n",
       "    </tr>\n",
       "    <tr>\n",
       "      <th>165</th>\n",
       "      <td>og_dataset/splits/train/slice_1_img_165.npy</td>\n",
       "      <td>og_dataset/splits/train/slice_1_mask_165.npy</td>\n",
       "      <td>0.000000</td>\n",
       "      <td>370.955048</td>\n",
       "      <td>445035.967865</td>\n",
       "      <td>4.215970e+06</td>\n",
       "      <td>0.216293</td>\n",
       "    </tr>\n",
       "    <tr>\n",
       "      <th>168</th>\n",
       "      <td>og_dataset/splits/train/slice_1_img_168.npy</td>\n",
       "      <td>og_dataset/splits/train/slice_1_mask_168.npy</td>\n",
       "      <td>0.000000</td>\n",
       "      <td>437.918457</td>\n",
       "      <td>490581.775057</td>\n",
       "      <td>4.215970e+06</td>\n",
       "      <td>0.322586</td>\n",
       "    </tr>\n",
       "    <tr>\n",
       "      <th>185</th>\n",
       "      <td>og_dataset/splits/train/slice_1_img_185.npy</td>\n",
       "      <td>og_dataset/splits/train/slice_1_mask_185.npy</td>\n",
       "      <td>0.000000</td>\n",
       "      <td>448.878815</td>\n",
       "      <td>520945.646519</td>\n",
       "      <td>4.231152e+06</td>\n",
       "      <td>0.383347</td>\n",
       "    </tr>\n",
       "    <tr>\n",
       "      <th>186</th>\n",
       "      <td>og_dataset/splits/train/slice_1_img_186.npy</td>\n",
       "      <td>og_dataset/splits/train/slice_1_mask_186.npy</td>\n",
       "      <td>0.000023</td>\n",
       "      <td>349.251465</td>\n",
       "      <td>536127.582249</td>\n",
       "      <td>4.231152e+06</td>\n",
       "      <td>0.274628</td>\n",
       "    </tr>\n",
       "  </tbody>\n",
       "</table>\n",
       "</div>"
      ],
      "text/plain": [
       "                                                 img_slice  \\\n",
       "src slice_num                                                \n",
       "1   150        og_dataset/splits/train/slice_1_img_150.npy   \n",
       "    165        og_dataset/splits/train/slice_1_img_165.npy   \n",
       "    168        og_dataset/splits/train/slice_1_img_168.npy   \n",
       "    185        og_dataset/splits/train/slice_1_img_185.npy   \n",
       "    186        og_dataset/splits/train/slice_1_img_186.npy   \n",
       "\n",
       "                                                 mask_slice     china  \\\n",
       "src slice_num                                                           \n",
       "1   150        og_dataset/splits/train/slice_1_mask_150.npy  0.000595   \n",
       "    165        og_dataset/splits/train/slice_1_mask_165.npy  0.000000   \n",
       "    168        og_dataset/splits/train/slice_1_mask_168.npy  0.000000   \n",
       "    185        og_dataset/splits/train/slice_1_mask_185.npy  0.000000   \n",
       "    186        og_dataset/splits/train/slice_1_mask_186.npy  0.000023   \n",
       "\n",
       "                 img_mean            lng           lat  mask_mean  \n",
       "src slice_num                                                      \n",
       "1   150        382.686157  445035.967865  4.200787e+06   0.370186  \n",
       "    165        370.955048  445035.967865  4.215970e+06   0.216293  \n",
       "    168        437.918457  490581.775057  4.215970e+06   0.322586  \n",
       "    185        448.878815  520945.646519  4.231152e+06   0.383347  \n",
       "    186        349.251465  536127.582249  4.231152e+06   0.274628  "
      ]
     },
     "execution_count": 7,
     "metadata": {},
     "output_type": "execute_result"
    }
   ],
   "source": [
    "pd.read_csv('dataset/train_data.csv', index_col=['src','slice_num']).head()"
   ]
  },
  {
   "cell_type": "markdown",
   "id": "d642e02c-58ce-4677-af5e-c766140f6efe",
   "metadata": {},
   "source": [
    "## Extract infos from metadata\n",
    "We now want to get some informations out of the JSONs we just worked with"
   ]
  },
  {
   "cell_type": "markdown",
   "id": "8e27d60a-a07f-4cd8-b701-de6aaf1ab152",
   "metadata": {},
   "source": [
    "### China percentage"
   ]
  },
  {
   "cell_type": "code",
   "execution_count": 8,
   "id": "82e339a7-42c1-4c6b-8f39-c7b7a807fbbf",
   "metadata": {},
   "outputs": [
    {
     "data": {
      "image/png": "[encoded data removed]",
      "text/plain": [
       "<Figure size 1000x200 with 1 Axes>"
      ]
     },
     "metadata": {},
     "output_type": "display_data"
    }
   ],
   "source": [
    "import seaborn as sns\n",
    "import matplotlib.pyplot as plt\n",
    "%matplotlib inline\n",
    "sns.set_style('whitegrid')\n",
    "sns.set(rc={\"figure.figsize\":(10, 2)})\n",
    "\n",
    "sns.boxplot(data=train_data, x='china')\n",
    "plt.xticks(np.arange(0,train_data.china.max(), .02))\n",
    "plt.show()"
   ]
  },
  {
   "cell_type": "markdown",
   "id": "b2da2fe3-1a59-46d3-b722-737bc5cb980d",
   "metadata": {},
   "source": [
    "We can see that almost all of the values are in the range $(0, 0.04)$ and that only few outliers are above $0.1$."
   ]
  },
  {
   "cell_type": "markdown",
   "id": "2148a70f-20d5-47b5-bd83-e15840cba627",
   "metadata": {},
   "source": [
    "## Create new Masks\n",
    "\n",
    "We now want to read all the masks, which are $512 \\times 512 \\times 3$ `np.array` and we want to sum just the first 2 layers between themselves, as the layers of the array represent:\n",
    "1. Clean-ice Glacier\n",
    "2. Debris covered glacier\n",
    "3. Is in china\n",
    "\n",
    "We first load each matrix, but it appears some of the files are corrupted:"
   ]
  },
  {
   "cell_type": "code",
   "execution_count": 21,
   "id": "2822a58a-41a3-47b0-ac83-eb2efe527ffc",
   "metadata": {},
   "outputs": [],
   "source": [
    "def load(file):\n",
    "    try:\n",
    "        return np.load(file)\n",
    "    except:\n",
    "        return pd.NA\n",
    "    \n",
    "test_data['np_mask'] = test_data.mask_slice.apply(lambda x: load(x))\n",
    "train_data['np_mask'] = train_data.mask_slice.apply(lambda x: load(x))\n",
    "dev_data['np_mask'] = dev_data.mask_slice.apply(lambda x: load(x))"
   ]
  },
  {
   "cell_type": "markdown",
   "id": "48f705a0-87eb-49dc-b556-b9963c6cb17f",
   "metadata": {},
   "source": [
    "Then we get the percentage of HKH in the patch, this differs from china for some reason"
   ]
  },
  {
   "cell_type": "code",
   "execution_count": 22,
   "id": "7c5ea17e-c4a3-4245-a263-2fed6da64159",
   "metadata": {},
   "outputs": [],
   "source": [
    "test_data['hkh_percentage'] = test_data.np_mask.map(lambda m: 1 - m[:,:,2].mean(), na_action='ignore')\n",
    "dev_data['hkh_percentage'] = dev_data.np_mask.map(lambda m: 1 - m[:,:,2].mean(), na_action='ignore')\n",
    "train_data['hkh_percentage'] = train_data.np_mask.map(lambda m: 1 - m[:,:,2].mean(), na_action='ignore')"
   ]
  },
  {
   "cell_type": "markdown",
   "id": "b0631b94-9623-40e2-a86b-46c239aa43d4",
   "metadata": {},
   "source": [
    "Then we combine together the first 2 layers of the masks:"
   ]
  },
  {
   "cell_type": "code",
   "execution_count": 23,
   "id": "773d9965-fadb-4df7-a700-1520df4ad3ac",
   "metadata": {},
   "outputs": [],
   "source": [
    "test_data.np_mask = test_data.np_mask.map(lambda m: np.logical_or(m[:,:,0], m[:,:,1]).astype(int), na_action='ignore')\n",
    "train_data.np_mask = train_data.np_mask.map(lambda m: np.logical_or(m[:,:,0], m[:,:,1]).astype(int), na_action='ignore')\n",
    "dev_data.np_mask = dev_data.np_mask.map(lambda m: np.logical_or(m[:,:,0], m[:,:,1]).astype(int), na_action='ignore')"
   ]
  },
  {
   "cell_type": "markdown",
   "id": "3cc324fe-a0cb-49a9-9571-f5837e23e809",
   "metadata": {},
   "source": [
    "Finally we compute the mean of each of the masks:"
   ]
  },
  {
   "cell_type": "code",
   "execution_count": 24,
   "id": "535de987-51e3-45cf-ae5d-e5a6ec439433",
   "metadata": {},
   "outputs": [
    {
     "data": {
      "text/html": [
       "<div>\n",
       "<style scoped>\n",
       "    .dataframe tbody tr th:only-of-type {\n",
       "        vertical-align: middle;\n",
       "    }\n",
       "\n",
       "    .dataframe tbody tr th {\n",
       "        vertical-align: top;\n",
       "    }\n",
       "\n",
       "    .dataframe thead th {\n",
       "        text-align: right;\n",
       "    }\n",
       "</style>\n",
       "<table border=\"1\" class=\"dataframe\">\n",
       "  <thead>\n",
       "    <tr style=\"text-align: right;\">\n",
       "      <th></th>\n",
       "      <th></th>\n",
       "      <th>img_slice</th>\n",
       "      <th>mask_slice</th>\n",
       "      <th>china</th>\n",
       "      <th>img_mean</th>\n",
       "      <th>lng</th>\n",
       "      <th>lat</th>\n",
       "      <th>mask_mean</th>\n",
       "      <th>np_mask</th>\n",
       "      <th>hkh_percentage</th>\n",
       "    </tr>\n",
       "    <tr>\n",
       "      <th>src</th>\n",
       "      <th>slice_num</th>\n",
       "      <th></th>\n",
       "      <th></th>\n",
       "      <th></th>\n",
       "      <th></th>\n",
       "      <th></th>\n",
       "      <th></th>\n",
       "      <th></th>\n",
       "      <th></th>\n",
       "      <th></th>\n",
       "    </tr>\n",
       "  </thead>\n",
       "  <tbody>\n",
       "    <tr>\n",
       "      <th rowspan=\"5\" valign=\"top\">1</th>\n",
       "      <th>150</th>\n",
       "      <td>og_dataset/splits/train/slice_1_img_150.npy</td>\n",
       "      <td>og_dataset/splits/train/slice_1_mask_150.npy</td>\n",
       "      <td>0.000595</td>\n",
       "      <td>382.686157</td>\n",
       "      <td>445035.967865</td>\n",
       "      <td>4.200787e+06</td>\n",
       "      <td>0.18539</td>\n",
       "      <td>[[0, 0, 0, 0, 0, 0, 0, 0, 0, 0, 0, 0, 0, 0, 0,...</td>\n",
       "      <td>0.18539</td>\n",
       "    </tr>\n",
       "    <tr>\n",
       "      <th>165</th>\n",
       "      <td>og_dataset/splits/train/slice_1_img_165.npy</td>\n",
       "      <td>og_dataset/splits/train/slice_1_mask_165.npy</td>\n",
       "      <td>0.000000</td>\n",
       "      <td>370.955048</td>\n",
       "      <td>445035.967865</td>\n",
       "      <td>4.215970e+06</td>\n",
       "      <td>0.108147</td>\n",
       "      <td>[[0, 0, 0, 0, 0, 0, 0, 0, 0, 0, 0, 0, 0, 0, 0,...</td>\n",
       "      <td>0.108147</td>\n",
       "    </tr>\n",
       "    <tr>\n",
       "      <th>168</th>\n",
       "      <td>og_dataset/splits/train/slice_1_img_168.npy</td>\n",
       "      <td>og_dataset/splits/train/slice_1_mask_168.npy</td>\n",
       "      <td>0.000000</td>\n",
       "      <td>437.918457</td>\n",
       "      <td>490581.775057</td>\n",
       "      <td>4.215970e+06</td>\n",
       "      <td>0.161293</td>\n",
       "      <td>[[0, 0, 0, 0, 0, 0, 0, 0, 0, 0, 0, 0, 0, 0, 0,...</td>\n",
       "      <td>0.161293</td>\n",
       "    </tr>\n",
       "    <tr>\n",
       "      <th>185</th>\n",
       "      <td>og_dataset/splits/train/slice_1_img_185.npy</td>\n",
       "      <td>og_dataset/splits/train/slice_1_mask_185.npy</td>\n",
       "      <td>0.000000</td>\n",
       "      <td>448.878815</td>\n",
       "      <td>520945.646519</td>\n",
       "      <td>4.231152e+06</td>\n",
       "      <td>0.191673</td>\n",
       "      <td>[[0, 0, 0, 0, 0, 0, 0, 0, 0, 0, 0, 0, 0, 0, 0,...</td>\n",
       "      <td>0.191673</td>\n",
       "    </tr>\n",
       "    <tr>\n",
       "      <th>186</th>\n",
       "      <td>og_dataset/splits/train/slice_1_img_186.npy</td>\n",
       "      <td>og_dataset/splits/train/slice_1_mask_186.npy</td>\n",
       "      <td>0.000023</td>\n",
       "      <td>349.251465</td>\n",
       "      <td>536127.582249</td>\n",
       "      <td>4.231152e+06</td>\n",
       "      <td>0.137325</td>\n",
       "      <td>[[0, 0, 0, 0, 0, 0, 0, 0, 0, 0, 0, 0, 0, 0, 0,...</td>\n",
       "      <td>0.137325</td>\n",
       "    </tr>\n",
       "  </tbody>\n",
       "</table>\n",
       "</div>"
      ],
      "text/plain": [
       "                                                 img_slice  \\\n",
       "src slice_num                                                \n",
       "1   150        og_dataset/splits/train/slice_1_img_150.npy   \n",
       "    165        og_dataset/splits/train/slice_1_img_165.npy   \n",
       "    168        og_dataset/splits/train/slice_1_img_168.npy   \n",
       "    185        og_dataset/splits/train/slice_1_img_185.npy   \n",
       "    186        og_dataset/splits/train/slice_1_img_186.npy   \n",
       "\n",
       "                                                 mask_slice     china  \\\n",
       "src slice_num                                                           \n",
       "1   150        og_dataset/splits/train/slice_1_mask_150.npy  0.000595   \n",
       "    165        og_dataset/splits/train/slice_1_mask_165.npy  0.000000   \n",
       "    168        og_dataset/splits/train/slice_1_mask_168.npy  0.000000   \n",
       "    185        og_dataset/splits/train/slice_1_mask_185.npy  0.000000   \n",
       "    186        og_dataset/splits/train/slice_1_mask_186.npy  0.000023   \n",
       "\n",
       "                 img_mean            lng           lat mask_mean  \\\n",
       "src slice_num                                                      \n",
       "1   150        382.686157  445035.967865  4.200787e+06   0.18539   \n",
       "    165        370.955048  445035.967865  4.215970e+06  0.108147   \n",
       "    168        437.918457  490581.775057  4.215970e+06  0.161293   \n",
       "    185        448.878815  520945.646519  4.231152e+06  0.191673   \n",
       "    186        349.251465  536127.582249  4.231152e+06  0.137325   \n",
       "\n",
       "                                                         np_mask  \\\n",
       "src slice_num                                                      \n",
       "1   150        [[0, 0, 0, 0, 0, 0, 0, 0, 0, 0, 0, 0, 0, 0, 0,...   \n",
       "    165        [[0, 0, 0, 0, 0, 0, 0, 0, 0, 0, 0, 0, 0, 0, 0,...   \n",
       "    168        [[0, 0, 0, 0, 0, 0, 0, 0, 0, 0, 0, 0, 0, 0, 0,...   \n",
       "    185        [[0, 0, 0, 0, 0, 0, 0, 0, 0, 0, 0, 0, 0, 0, 0,...   \n",
       "    186        [[0, 0, 0, 0, 0, 0, 0, 0, 0, 0, 0, 0, 0, 0, 0,...   \n",
       "\n",
       "              hkh_percentage  \n",
       "src slice_num                 \n",
       "1   150              0.18539  \n",
       "    165             0.108147  \n",
       "    168             0.161293  \n",
       "    185             0.191673  \n",
       "    186             0.137325  "
      ]
     },
     "execution_count": 24,
     "metadata": {},
     "output_type": "execute_result"
    }
   ],
   "source": [
    "test_data.mask_mean = test_data.np_mask.map(lambda m: m.mean(), na_action='ignore')\n",
    "train_data.mask_mean = train_data.np_mask.map(lambda m: m.mean(), na_action='ignore')\n",
    "dev_data.mask_mean = dev_data.np_mask.map(lambda m: m.mean(), na_action='ignore')\n",
    "\n",
    "train_data.head()"
   ]
  },
  {
   "cell_type": "code",
   "execution_count": 25,
   "id": "7dcdefc1-656e-4200-afde-32d4a40ed727",
   "metadata": {},
   "outputs": [
    {
     "data": {
      "text/plain": [
       "-0.13212966918945312"
      ]
     },
     "execution_count": 25,
     "metadata": {},
     "output_type": "execute_result"
    }
   ],
   "source": [
    "# Strangely the hkh_percentage and the mask_mean on the first 2 layers are very very close:\n",
    "(train_data.hkh_percentage - train_data.mask_mean).sum()"
   ]
  },
  {
   "cell_type": "markdown",
   "id": "e6eecd17-1f74-44ca-8a4e-d52c16c6e8c8",
   "metadata": {},
   "source": [
    "### Glaciers percentage\n",
    "Finally we can see the distribution of percentages of glaciers"
   ]
  },
  {
   "cell_type": "code",
   "execution_count": 27,
   "id": "6e63ffdc-b1da-49cf-9cd7-b3080e257585",
   "metadata": {},
   "outputs": [
    {
     "data": {
      "image/png": "[encoded data removed]",
      "text/plain": [
       "<Figure size 1000x200 with 1 Axes>"
      ]
     },
     "metadata": {},
     "output_type": "display_data"
    }
   ],
   "source": [
    "sns.boxenplot(data=train_data.dropna(), x='mask_mean' )\n",
    "plt.xticks(np.arange(0,train_data.mask_mean.max(),0.1))\n",
    "plt.show()"
   ]
  },
  {
   "cell_type": "markdown",
   "id": "5b0b3803-4545-41bd-85a3-c9841a69649b",
   "metadata": {},
   "source": [
    "Aside from the data being a little strange since they are sometimes bigger than 1, I would say that the optimal choice for the **threshold** should be $0.2$."
   ]
  },
  {
   "cell_type": "code",
   "execution_count": 46,
   "id": "2cdbeb4b-2251-492c-b8f1-7926fd9a7d30",
   "metadata": {},
   "outputs": [
    {
     "data": {
      "text/plain": [
       "''"
      ]
     },
     "execution_count": 46,
     "metadata": {},
     "output_type": "execute_result"
    }
   ],
   "source": [
    "dev_data\\\n",
    "    .reset_index()\\\n",
    "    .apply(lambda r: \n",
    "            np.save(f'dataset/masks/dev/slice_{r.src}_mask_{r.slice_num}.npy', r.np_mask),\n",
    "           axis=1)\n",
    ";"
   ]
  }
 ],
 "metadata": {
  "kernelspec": {
   "display_name": "Python 3 (ipykernel)",
   "language": "python",
   "name": "python3"
  },
  "language_info": {
   "codemirror_mode": {
    "name": "ipython",
    "version": 3
   },
   "file_extension": ".py",
   "mimetype": "text/x-python",
   "name": "python",
   "nbconvert_exporter": "python",
   "pygments_lexer": "ipython3",
   "version": "3.10.8"
  }
 },
 "nbformat": 4,
 "nbformat_minor": 5
}
