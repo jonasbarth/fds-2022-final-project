{
 "cells": [
  {
   "cell_type": "markdown",
   "id": "cad29bda-1c8f-4ac8-9b74-f1302c2aa8d5",
   "metadata": {
    "tags": []
   },
   "source": [
    "# Preprocessing"
   ]
  },
  {
   "cell_type": "markdown",
   "id": "aea1ad74-0716-47ed-88ea-aa7aaed8e5bc",
   "metadata": {
    "tags": []
   },
   "source": [
    "## JSON $\\rightarrow$ Pandas\n",
    "Turning metadatas json into useful and readable pandas dataframes\n",
    "\n",
    "in order to make this script work you need to have the dataset in the working wolder such as:\n",
    "```\n",
    ">> fds-2022-final-project\n",
    "    >> ...\n",
    "    >> og_dataset\n",
    "        >> slices.json\n",
    "        >> splits\n",
    "            >> train/\n",
    "            >> dev/\n",
    "            >> test/\n",
    "```"
   ]
  },
  {
   "cell_type": "code",
   "execution_count": 1,
   "id": "04784322-1c66-4fcf-a332-afc436d60659",
   "metadata": {},
   "outputs": [],
   "source": [
    "import json\n",
    "import os\n",
    "import numpy as np\n",
    "import pandas as pd\n",
    "\n",
    "metadata_file = 'og_dataset/slices.geojson'\n",
    "train_folder = 'og_dataset/splits/train/'\n",
    "dev_folder   = 'og_dataset/splits/dev/'\n",
    "test_folder  = 'og_dataset/splits/test/'"
   ]
  },
  {
   "cell_type": "markdown",
   "id": "1797d7b3-5d25-4a70-9a7d-e514515cc04a",
   "metadata": {},
   "source": [
    "We first import the json file, and take only the information regarding all the patches, while adding to it the center of the longitude and latitude of the patch"
   ]
  },
  {
   "cell_type": "code",
   "execution_count": 2,
   "id": "7ae5ac62-1e87-41c5-836b-ecf76c515b2d",
   "metadata": {},
   "outputs": [
    {
     "data": {
      "text/plain": [
       "[{'img_source': '/datadrive/glaciers/unique_tiles/LE07_149037_20041024.tif',\n",
       "  'mask_source': '/datadrive/glaciers/processed/masks/mask_00.npy',\n",
       "  'img_slice': '/datadrive/glaciers/processed/slices/slice_0_img_000.npy',\n",
       "  'mask_slice': '/datadrive/glaciers/processed/slices/slice_0_mask_000.npy',\n",
       "  'mask_mean_0': 0.0,\n",
       "  'mask_mean_1': 0.0,\n",
       "  'mask_mean_2': 0.0,\n",
       "  'img_mean': 77.38898468017578,\n",
       "  'lng': 333795.9649122807,\n",
       "  'lat': 3572176.06391926},\n",
       " {'img_source': '/datadrive/glaciers/unique_tiles/LE07_149037_20041024.tif',\n",
       "  'mask_source': '/datadrive/glaciers/processed/masks/mask_00.npy',\n",
       "  'img_slice': '/datadrive/glaciers/processed/slices/slice_0_img_001.npy',\n",
       "  'mask_slice': '/datadrive/glaciers/processed/slices/slice_0_mask_001.npy',\n",
       "  'mask_mean_0': 0.0,\n",
       "  'mask_mean_1': 0.0,\n",
       "  'mask_mean_2': 0.0,\n",
       "  'img_mean': 133.6044158935547,\n",
       "  'lng': 348977.8947368421,\n",
       "  'lat': 3572176.06391926}]"
      ]
     },
     "execution_count": 2,
     "metadata": {},
     "output_type": "execute_result"
    }
   ],
   "source": [
    "with open(metadata_file) as f:\n",
    "    d = json.load(f)\n",
    "patches = d['features']\n",
    "patches = [{\n",
    "    **p['properties'], \n",
    "     'lng':np.mean(p['geometry']['coordinates'][0][:-1], axis=0)[0],\n",
    "     'lat':np.mean(p['geometry']['coordinates'][0][:-1], axis=0)[1]\n",
    "    } for p in patches]\n",
    "patches[:2]"
   ]
  },
  {
   "cell_type": "markdown",
   "id": "606d989e-2a0d-49e2-a9b7-019389a67ecd",
   "metadata": {},
   "source": [
    "Now we port the dataset into pandas and clean it, by:\n",
    "- taking the number of the original img it came from\n",
    "- taking the slice number\n",
    "- using the 2 aforemwntioned features as index\n",
    "- drop the name of the original file it came from\n",
    "- combine (sum) the mean of layer 0 and 1 of the mask together\n",
    "- drop the mean of layer 0 and 1 of the mask (since those are now combined in `mask_mean`)\n",
    "- rename the `mask_mean_2` as `china`, since it's the percentage of china represented in the image"
   ]
  },
  {
   "cell_type": "code",
   "execution_count": 3,
   "id": "d447b9fe-5a66-406b-8b07-d21aa1ef2bd3",
   "metadata": {},
   "outputs": [
    {
     "data": {
      "text/html": [
       "<div>\n",
       "<style scoped>\n",
       "    .dataframe tbody tr th:only-of-type {\n",
       "        vertical-align: middle;\n",
       "    }\n",
       "\n",
       "    .dataframe tbody tr th {\n",
       "        vertical-align: top;\n",
       "    }\n",
       "\n",
       "    .dataframe thead th {\n",
       "        text-align: right;\n",
       "    }\n",
       "</style>\n",
       "<table border=\"1\" class=\"dataframe\">\n",
       "  <thead>\n",
       "    <tr style=\"text-align: right;\">\n",
       "      <th></th>\n",
       "      <th></th>\n",
       "      <th>img_slice</th>\n",
       "      <th>mask_slice</th>\n",
       "      <th>mask_mean_0</th>\n",
       "      <th>mask_mean_1</th>\n",
       "      <th>mask_mean_2</th>\n",
       "      <th>img_mean</th>\n",
       "      <th>lng</th>\n",
       "      <th>lat</th>\n",
       "    </tr>\n",
       "    <tr>\n",
       "      <th>src</th>\n",
       "      <th>slice_num</th>\n",
       "      <th></th>\n",
       "      <th></th>\n",
       "      <th></th>\n",
       "      <th></th>\n",
       "      <th></th>\n",
       "      <th></th>\n",
       "      <th></th>\n",
       "      <th></th>\n",
       "    </tr>\n",
       "  </thead>\n",
       "  <tbody>\n",
       "    <tr>\n",
       "      <th rowspan=\"5\" valign=\"top\">0</th>\n",
       "      <th>000</th>\n",
       "      <td>slice_0_img_000.npy</td>\n",
       "      <td>slice_0_mask_000.npy</td>\n",
       "      <td>0.0</td>\n",
       "      <td>0.0</td>\n",
       "      <td>0.0</td>\n",
       "      <td>77.388985</td>\n",
       "      <td>333795.964912</td>\n",
       "      <td>3.572176e+06</td>\n",
       "    </tr>\n",
       "    <tr>\n",
       "      <th>001</th>\n",
       "      <td>slice_0_img_001.npy</td>\n",
       "      <td>slice_0_mask_001.npy</td>\n",
       "      <td>0.0</td>\n",
       "      <td>0.0</td>\n",
       "      <td>0.0</td>\n",
       "      <td>133.604416</td>\n",
       "      <td>348977.894737</td>\n",
       "      <td>3.572176e+06</td>\n",
       "    </tr>\n",
       "    <tr>\n",
       "      <th>002</th>\n",
       "      <td>slice_0_img_002.npy</td>\n",
       "      <td>slice_0_mask_002.npy</td>\n",
       "      <td>0.0</td>\n",
       "      <td>0.0</td>\n",
       "      <td>0.0</td>\n",
       "      <td>94.324028</td>\n",
       "      <td>364159.824561</td>\n",
       "      <td>3.572176e+06</td>\n",
       "    </tr>\n",
       "    <tr>\n",
       "      <th>003</th>\n",
       "      <td>slice_0_img_003.npy</td>\n",
       "      <td>slice_0_mask_003.npy</td>\n",
       "      <td>0.0</td>\n",
       "      <td>0.0</td>\n",
       "      <td>0.0</td>\n",
       "      <td>189.766983</td>\n",
       "      <td>379341.754386</td>\n",
       "      <td>3.572176e+06</td>\n",
       "    </tr>\n",
       "    <tr>\n",
       "      <th>004</th>\n",
       "      <td>slice_0_img_004.npy</td>\n",
       "      <td>slice_0_mask_004.npy</td>\n",
       "      <td>0.0</td>\n",
       "      <td>0.0</td>\n",
       "      <td>0.0</td>\n",
       "      <td>198.229507</td>\n",
       "      <td>394523.684211</td>\n",
       "      <td>3.572176e+06</td>\n",
       "    </tr>\n",
       "  </tbody>\n",
       "</table>\n",
       "</div>"
      ],
      "text/plain": [
       "                         img_slice            mask_slice  mask_mean_0  \\\n",
       "src slice_num                                                           \n",
       "0   000        slice_0_img_000.npy  slice_0_mask_000.npy          0.0   \n",
       "    001        slice_0_img_001.npy  slice_0_mask_001.npy          0.0   \n",
       "    002        slice_0_img_002.npy  slice_0_mask_002.npy          0.0   \n",
       "    003        slice_0_img_003.npy  slice_0_mask_003.npy          0.0   \n",
       "    004        slice_0_img_004.npy  slice_0_mask_004.npy          0.0   \n",
       "\n",
       "               mask_mean_1  mask_mean_2    img_mean            lng  \\\n",
       "src slice_num                                                        \n",
       "0   000                0.0          0.0   77.388985  333795.964912   \n",
       "    001                0.0          0.0  133.604416  348977.894737   \n",
       "    002                0.0          0.0   94.324028  364159.824561   \n",
       "    003                0.0          0.0  189.766983  379341.754386   \n",
       "    004                0.0          0.0  198.229507  394523.684211   \n",
       "\n",
       "                        lat  \n",
       "src slice_num                \n",
       "0   000        3.572176e+06  \n",
       "    001        3.572176e+06  \n",
       "    002        3.572176e+06  \n",
       "    003        3.572176e+06  \n",
       "    004        3.572176e+06  "
      ]
     },
     "execution_count": 3,
     "metadata": {},
     "output_type": "execute_result"
    }
   ],
   "source": [
    "metadata = pd.DataFrame(patches)\n",
    "files_columns = ['img_source','mask_source','img_slice','mask_slice']\n",
    "metadata[files_columns] = metadata[files_columns].applymap(lambda x: x.split('/')[-1])\n",
    "metadata['src'] = metadata.img_slice.map(lambda s: s.split('_')[1])\n",
    "metadata['slice_num'] = metadata.img_slice.map(lambda s: s.split('_')[-1][:3])\n",
    "metadata.set_index(['src', 'slice_num'], inplace=True)\n",
    "metadata.drop(columns=['img_source', 'mask_source'], inplace=True)\n",
    "\n",
    "metadata.head()"
   ]
  },
  {
   "cell_type": "markdown",
   "id": "54bd7371-4703-4458-be44-08048ecf0773",
   "metadata": {},
   "source": [
    "Then we take the list of all the slice files for each folder"
   ]
  },
  {
   "cell_type": "code",
   "execution_count": 4,
   "id": "711bbfb0-ec0d-4fcb-ab5a-469b182abf38",
   "metadata": {},
   "outputs": [
    {
     "data": {
      "text/plain": [
       "['slice_28_mask_182.npy', 'slice_22_mask_156.npy', 'slice_23_mask_194.npy']"
      ]
     },
     "execution_count": 4,
     "metadata": {},
     "output_type": "execute_result"
    }
   ],
   "source": [
    "def list_files(folder):\n",
    "    list_of_files = []\n",
    "\n",
    "    for root, dirs, files in os.walk(folder):\n",
    "        for file in files:\n",
    "            list_of_files.append(file)\n",
    "    return list_of_files\n",
    "\n",
    "train_splits = list_files(train_folder)\n",
    "dev_splits = list_files(dev_folder)\n",
    "test_splits = list_files(test_folder)\n",
    "\n",
    "dev_splits[:3]"
   ]
  },
  {
   "cell_type": "markdown",
   "id": "849a8a6e-565a-4c0d-a132-ee1f5fb52116",
   "metadata": {},
   "source": [
    "And finally we partition the metadata in 3 different datasets"
   ]
  },
  {
   "cell_type": "code",
   "execution_count": 5,
   "id": "3311a1a4-666d-45eb-867c-e90873a191a5",
   "metadata": {},
   "outputs": [
    {
     "data": {
      "text/html": [
       "<div>\n",
       "<style scoped>\n",
       "    .dataframe tbody tr th:only-of-type {\n",
       "        vertical-align: middle;\n",
       "    }\n",
       "\n",
       "    .dataframe tbody tr th {\n",
       "        vertical-align: top;\n",
       "    }\n",
       "\n",
       "    .dataframe thead th {\n",
       "        text-align: right;\n",
       "    }\n",
       "</style>\n",
       "<table border=\"1\" class=\"dataframe\">\n",
       "  <thead>\n",
       "    <tr style=\"text-align: right;\">\n",
       "      <th></th>\n",
       "      <th></th>\n",
       "      <th>img_slice</th>\n",
       "      <th>mask_slice</th>\n",
       "      <th>mask_mean_0</th>\n",
       "      <th>mask_mean_1</th>\n",
       "      <th>mask_mean_2</th>\n",
       "      <th>img_mean</th>\n",
       "      <th>lng</th>\n",
       "      <th>lat</th>\n",
       "      <th>partition</th>\n",
       "    </tr>\n",
       "    <tr>\n",
       "      <th>src</th>\n",
       "      <th>slice_num</th>\n",
       "      <th></th>\n",
       "      <th></th>\n",
       "      <th></th>\n",
       "      <th></th>\n",
       "      <th></th>\n",
       "      <th></th>\n",
       "      <th></th>\n",
       "      <th></th>\n",
       "      <th></th>\n",
       "    </tr>\n",
       "  </thead>\n",
       "  <tbody>\n",
       "    <tr>\n",
       "      <th rowspan=\"5\" valign=\"top\">0</th>\n",
       "      <th>000</th>\n",
       "      <td>slice_0_img_000.npy</td>\n",
       "      <td>slice_0_mask_000.npy</td>\n",
       "      <td>0.0</td>\n",
       "      <td>0.0</td>\n",
       "      <td>0.0</td>\n",
       "      <td>77.388985</td>\n",
       "      <td>333795.964912</td>\n",
       "      <td>3.572176e+06</td>\n",
       "      <td>NaN</td>\n",
       "    </tr>\n",
       "    <tr>\n",
       "      <th>001</th>\n",
       "      <td>slice_0_img_001.npy</td>\n",
       "      <td>slice_0_mask_001.npy</td>\n",
       "      <td>0.0</td>\n",
       "      <td>0.0</td>\n",
       "      <td>0.0</td>\n",
       "      <td>133.604416</td>\n",
       "      <td>348977.894737</td>\n",
       "      <td>3.572176e+06</td>\n",
       "      <td>NaN</td>\n",
       "    </tr>\n",
       "    <tr>\n",
       "      <th>002</th>\n",
       "      <td>slice_0_img_002.npy</td>\n",
       "      <td>slice_0_mask_002.npy</td>\n",
       "      <td>0.0</td>\n",
       "      <td>0.0</td>\n",
       "      <td>0.0</td>\n",
       "      <td>94.324028</td>\n",
       "      <td>364159.824561</td>\n",
       "      <td>3.572176e+06</td>\n",
       "      <td>NaN</td>\n",
       "    </tr>\n",
       "    <tr>\n",
       "      <th>003</th>\n",
       "      <td>og_dataset/splits/train/slice_0_img_003.npy</td>\n",
       "      <td>og_dataset/splits/train/slice_0_mask_003.npy</td>\n",
       "      <td>0.0</td>\n",
       "      <td>0.0</td>\n",
       "      <td>0.0</td>\n",
       "      <td>189.766983</td>\n",
       "      <td>379341.754386</td>\n",
       "      <td>3.572176e+06</td>\n",
       "      <td>train</td>\n",
       "    </tr>\n",
       "    <tr>\n",
       "      <th>004</th>\n",
       "      <td>og_dataset/splits/train/slice_0_img_004.npy</td>\n",
       "      <td>og_dataset/splits/train/slice_0_mask_004.npy</td>\n",
       "      <td>0.0</td>\n",
       "      <td>0.0</td>\n",
       "      <td>0.0</td>\n",
       "      <td>198.229507</td>\n",
       "      <td>394523.684211</td>\n",
       "      <td>3.572176e+06</td>\n",
       "      <td>train</td>\n",
       "    </tr>\n",
       "  </tbody>\n",
       "</table>\n",
       "</div>"
      ],
      "text/plain": [
       "                                                 img_slice  \\\n",
       "src slice_num                                                \n",
       "0   000                                slice_0_img_000.npy   \n",
       "    001                                slice_0_img_001.npy   \n",
       "    002                                slice_0_img_002.npy   \n",
       "    003        og_dataset/splits/train/slice_0_img_003.npy   \n",
       "    004        og_dataset/splits/train/slice_0_img_004.npy   \n",
       "\n",
       "                                                 mask_slice  mask_mean_0  \\\n",
       "src slice_num                                                              \n",
       "0   000                                slice_0_mask_000.npy          0.0   \n",
       "    001                                slice_0_mask_001.npy          0.0   \n",
       "    002                                slice_0_mask_002.npy          0.0   \n",
       "    003        og_dataset/splits/train/slice_0_mask_003.npy          0.0   \n",
       "    004        og_dataset/splits/train/slice_0_mask_004.npy          0.0   \n",
       "\n",
       "               mask_mean_1  mask_mean_2    img_mean            lng  \\\n",
       "src slice_num                                                        \n",
       "0   000                0.0          0.0   77.388985  333795.964912   \n",
       "    001                0.0          0.0  133.604416  348977.894737   \n",
       "    002                0.0          0.0   94.324028  364159.824561   \n",
       "    003                0.0          0.0  189.766983  379341.754386   \n",
       "    004                0.0          0.0  198.229507  394523.684211   \n",
       "\n",
       "                        lat partition  \n",
       "src slice_num                          \n",
       "0   000        3.572176e+06       NaN  \n",
       "    001        3.572176e+06       NaN  \n",
       "    002        3.572176e+06       NaN  \n",
       "    003        3.572176e+06     train  \n",
       "    004        3.572176e+06     train  "
      ]
     },
     "execution_count": 5,
     "metadata": {},
     "output_type": "execute_result"
    }
   ],
   "source": [
    "def partition_metadata(metadata, folder = '', name = ''):\n",
    "    files = list_files(folder)\n",
    "    partition = metadata.img_slice.isin( files )\n",
    "    # takes only the rows corresponding to those in the splits\n",
    "    metadata.loc[partition, 'partition'] = name\n",
    "    # then prefix the file with the folder\n",
    "    metadata.loc[partition, 'img_slice'] = folder + metadata.loc[partition, 'img_slice']\n",
    "    metadata.loc[partition, 'mask_slice'] = folder + metadata.loc[partition, 'mask_slice']\n",
    "    return metadata\n",
    "\n",
    "metadata = partition_metadata(metadata, folder=dev_folder, name='dev')\n",
    "metadata = partition_metadata(metadata, folder=test_folder, name='test')\n",
    "metadata = partition_metadata(metadata, folder=train_folder, name='train')\n",
    "\n",
    "\n",
    "metadata.head()"
   ]
  },
  {
   "cell_type": "code",
   "execution_count": 6,
   "id": "f4190013-581f-47d9-ae73-3468889d6758",
   "metadata": {},
   "outputs": [],
   "source": [
    "metadata.dropna(inplace=True) # we remove those pathces that are not in any of the 3 partitions\n",
    "metadata.to_csv('dataset/metadata.csv')"
   ]
  },
  {
   "cell_type": "markdown",
   "id": "7fd09422-74c3-4574-a83b-b276e95e1af1",
   "metadata": {},
   "source": [
    "Now, to load a dataset you just need to run:\n",
    "```python\n",
    "pd.read_csv('dataset/metadata.csv', index_col=['src','slice_num']).head()\n",
    "```"
   ]
  },
  {
   "cell_type": "markdown",
   "id": "d642e02c-58ce-4677-af5e-c766140f6efe",
   "metadata": {
    "tags": []
   },
   "source": [
    "## Extract infos from metadata\n",
    "We now want to get some informations out of the JSONs we just worked with"
   ]
  },
  {
   "cell_type": "markdown",
   "id": "8e27d60a-a07f-4cd8-b701-de6aaf1ab152",
   "metadata": {},
   "source": [
    "### Glaciers percentages"
   ]
  },
  {
   "cell_type": "code",
   "execution_count": 7,
   "id": "82e339a7-42c1-4c6b-8f39-c7b7a807fbbf",
   "metadata": {},
   "outputs": [
    {
     "data": {
      "image/png": "[encoded data removed]",
      "text/plain": [
       "<Figure size 1000x200 with 1 Axes>"
      ]
     },
     "metadata": {},
     "output_type": "display_data"
    },
    {
     "data": {
      "image/png": "[encoded data removed]",
      "text/plain": [
       "<Figure size 1000x200 with 1 Axes>"
      ]
     },
     "metadata": {},
     "output_type": "display_data"
    },
    {
     "data": {
      "image/png": "[encoded data removed]",
      "text/plain": [
       "<Figure size 1000x200 with 1 Axes>"
      ]
     },
     "metadata": {},
     "output_type": "display_data"
    }
   ],
   "source": [
    "import seaborn as sns\n",
    "import matplotlib.pyplot as plt\n",
    "%matplotlib inline\n",
    "sns.set_style('whitegrid')\n",
    "sns.set(rc={\"figure.figsize\":(10, 2)})\n",
    "\n",
    "metadata.rename(columns={'mask_mean_0':'glaciers', 'mask_mean_1':'clean_glaciers','mask_mean_2':'debris_glaciers'}, inplace=True)\n",
    "sns.boxenplot(data=metadata, x='glaciers', y='partition')\n",
    "plt.xticks(np.arange(0,metadata.glaciers.max(), .05))\n",
    "plt.xlabel('Glaciers')\n",
    "plt.show()\n",
    "\n",
    "sns.boxenplot(data=metadata, x='clean_glaciers', y='partition')\n",
    "plt.xticks(np.arange(0,metadata.clean_glaciers.max(), .05))\n",
    "plt.xlabel('Clean-glaciers')\n",
    "plt.show()\n",
    "\n",
    "sns.boxenplot(data=metadata, x='debris_glaciers', y='partition')\n",
    "plt.xticks(np.arange(0,metadata.debris_glaciers.max(), .02))\n",
    "plt.xlabel('Debris-glaciers')\n",
    "plt.show()"
   ]
  },
  {
   "cell_type": "markdown",
   "id": "2148a70f-20d5-47b5-bd83-e15840cba627",
   "metadata": {
    "jp-MarkdownHeadingCollapsed": true,
    "tags": []
   },
   "source": [
    "## **This part is now useless**, To be removed; Create new Masks\n",
    "\n",
    "We now want to read all the masks, which are $512 \\times 512 \\times 3$ `np.array` and we want to sum just the first 2 layers between themselves, as the layers of the array represent:\n",
    "1. Clean-ice Glacier\n",
    "2. Debris covered glacier\n",
    "3. Is in china\n",
    "\n",
    "We first load each matrix, but it appears some of the files are corrupted:"
   ]
  },
  {
   "cell_type": "code",
   "execution_count": 11,
   "id": "2822a58a-41a3-47b0-ac83-eb2efe527ffc",
   "metadata": {},
   "outputs": [],
   "source": [
    "def load(file):\n",
    "    try:\n",
    "        return np.load(file)\n",
    "    except:\n",
    "        return pd.NA\n",
    "    \n",
    "# metadata['np_mask'] = metadata.mask_slice.apply(lambda x: load(x))"
   ]
  },
  {
   "cell_type": "code",
   "execution_count": 22,
   "id": "fd414fda-28d1-46c2-8fc7-12df4039e9a8",
   "metadata": {},
   "outputs": [
    {
     "data": {
      "text/plain": [
       "0"
      ]
     },
     "execution_count": 22,
     "metadata": {},
     "output_type": "execute_result"
    }
   ],
   "source": [
    "metadata.np_mask.isna().sum()"
   ]
  },
  {
   "cell_type": "markdown",
   "id": "48f705a0-87eb-49dc-b556-b9963c6cb17f",
   "metadata": {},
   "source": [
    "Then we get the percentage of HKH in the patch, this differs from china for some reason"
   ]
  },
  {
   "cell_type": "code",
   "execution_count": 10,
   "id": "7c5ea17e-c4a3-4245-a263-2fed6da64159",
   "metadata": {},
   "outputs": [],
   "source": [
    "metadata['debris_mean'] = metadata.np_mask.map(lambda m: m[:,:,1].mean(), na_action='ignore')"
   ]
  },
  {
   "cell_type": "markdown",
   "id": "b0631b94-9623-40e2-a86b-46c239aa43d4",
   "metadata": {},
   "source": [
    "Then we combine together the first 2 layers of the masks:"
   ]
  },
  {
   "cell_type": "code",
   "execution_count": 11,
   "id": "773d9965-fadb-4df7-a700-1520df4ad3ac",
   "metadata": {},
   "outputs": [],
   "source": [
    "metadata['clean_mean'] = metadata.np_mask.map(lambda m: m[:,:,0].mean(), na_action='ignore')"
   ]
  },
  {
   "cell_type": "markdown",
   "id": "3cc324fe-a0cb-49a9-9571-f5837e23e809",
   "metadata": {},
   "source": [
    "Finally we compute the mean of each of the masks:"
   ]
  },
  {
   "cell_type": "code",
   "execution_count": 12,
   "id": "535de987-51e3-45cf-ae5d-e5a6ec439433",
   "metadata": {},
   "outputs": [
    {
     "data": {
      "text/html": [
       "<div>\n",
       "<style scoped>\n",
       "    .dataframe tbody tr th:only-of-type {\n",
       "        vertical-align: middle;\n",
       "    }\n",
       "\n",
       "    .dataframe tbody tr th {\n",
       "        vertical-align: top;\n",
       "    }\n",
       "\n",
       "    .dataframe thead th {\n",
       "        text-align: right;\n",
       "    }\n",
       "</style>\n",
       "<table border=\"1\" class=\"dataframe\">\n",
       "  <thead>\n",
       "    <tr style=\"text-align: right;\">\n",
       "      <th></th>\n",
       "      <th></th>\n",
       "      <th>img_slice</th>\n",
       "      <th>mask_slice</th>\n",
       "      <th>mask_mean_0</th>\n",
       "      <th>mask_mean_1</th>\n",
       "      <th>mask_mean_2</th>\n",
       "      <th>img_mean</th>\n",
       "      <th>lng</th>\n",
       "      <th>lat</th>\n",
       "      <th>np_mask</th>\n",
       "      <th>debris_mean</th>\n",
       "      <th>clean_mean</th>\n",
       "      <th>glacier_perc</th>\n",
       "    </tr>\n",
       "    <tr>\n",
       "      <th>src</th>\n",
       "      <th>slice_num</th>\n",
       "      <th></th>\n",
       "      <th></th>\n",
       "      <th></th>\n",
       "      <th></th>\n",
       "      <th></th>\n",
       "      <th></th>\n",
       "      <th></th>\n",
       "      <th></th>\n",
       "      <th></th>\n",
       "      <th></th>\n",
       "      <th></th>\n",
       "      <th></th>\n",
       "    </tr>\n",
       "  </thead>\n",
       "  <tbody>\n",
       "    <tr>\n",
       "      <th rowspan=\"5\" valign=\"top\">0</th>\n",
       "      <th>010</th>\n",
       "      <td>og_dataset/splits/train/slice_0_img_010.npy</td>\n",
       "      <td>og_dataset/splits/train/slice_0_mask_010.npy</td>\n",
       "      <td>0.0</td>\n",
       "      <td>0.0</td>\n",
       "      <td>0.0</td>\n",
       "      <td>113.734550</td>\n",
       "      <td>485615.263158</td>\n",
       "      <td>3.572176e+06</td>\n",
       "      <td>[[[0, 0, 0], [0, 0, 0], [0, 0, 0], [0, 0, 0], ...</td>\n",
       "      <td>0.0</td>\n",
       "      <td>0.0</td>\n",
       "      <td>1.0</td>\n",
       "    </tr>\n",
       "    <tr>\n",
       "      <th>033</th>\n",
       "      <td>og_dataset/splits/train/slice_0_img_033.npy</td>\n",
       "      <td>og_dataset/splits/train/slice_0_mask_033.npy</td>\n",
       "      <td>0.0</td>\n",
       "      <td>0.0</td>\n",
       "      <td>0.0</td>\n",
       "      <td>190.532776</td>\n",
       "      <td>379341.754386</td>\n",
       "      <td>3.602540e+06</td>\n",
       "      <td>[[[0, 0, 0], [0, 0, 0], [0, 0, 0], [0, 0, 0], ...</td>\n",
       "      <td>0.0</td>\n",
       "      <td>0.0</td>\n",
       "      <td>1.0</td>\n",
       "    </tr>\n",
       "    <tr>\n",
       "      <th>034</th>\n",
       "      <td>og_dataset/splits/train/slice_0_img_034.npy</td>\n",
       "      <td>og_dataset/splits/train/slice_0_mask_034.npy</td>\n",
       "      <td>0.0</td>\n",
       "      <td>0.0</td>\n",
       "      <td>0.0</td>\n",
       "      <td>196.605057</td>\n",
       "      <td>394523.684211</td>\n",
       "      <td>3.602540e+06</td>\n",
       "      <td>[[[0, 0, 0], [0, 0, 0], [0, 0, 0], [0, 0, 0], ...</td>\n",
       "      <td>0.0</td>\n",
       "      <td>0.0</td>\n",
       "      <td>1.0</td>\n",
       "    </tr>\n",
       "    <tr>\n",
       "      <th>041</th>\n",
       "      <td>og_dataset/splits/train/slice_0_img_041.npy</td>\n",
       "      <td>og_dataset/splits/train/slice_0_mask_041.npy</td>\n",
       "      <td>0.0</td>\n",
       "      <td>0.0</td>\n",
       "      <td>0.0</td>\n",
       "      <td>203.208298</td>\n",
       "      <td>500797.192982</td>\n",
       "      <td>3.602540e+06</td>\n",
       "      <td>[[[0, 0, 0], [0, 0, 0], [0, 0, 0], [0, 0, 0], ...</td>\n",
       "      <td>0.0</td>\n",
       "      <td>0.0</td>\n",
       "      <td>1.0</td>\n",
       "    </tr>\n",
       "    <tr>\n",
       "      <th>119</th>\n",
       "      <td>og_dataset/splits/train/slice_0_img_119.npy</td>\n",
       "      <td>og_dataset/splits/train/slice_0_mask_119.npy</td>\n",
       "      <td>0.0</td>\n",
       "      <td>0.0</td>\n",
       "      <td>0.0</td>\n",
       "      <td>126.572365</td>\n",
       "      <td>546342.982456</td>\n",
       "      <td>3.678451e+06</td>\n",
       "      <td>[[[0, 0, 0], [0, 0, 0], [0, 0, 0], [0, 0, 0], ...</td>\n",
       "      <td>0.0</td>\n",
       "      <td>0.0</td>\n",
       "      <td>1.0</td>\n",
       "    </tr>\n",
       "  </tbody>\n",
       "</table>\n",
       "</div>"
      ],
      "text/plain": [
       "                                                 img_slice  \\\n",
       "src slice_num                                                \n",
       "0   010        og_dataset/splits/train/slice_0_img_010.npy   \n",
       "    033        og_dataset/splits/train/slice_0_img_033.npy   \n",
       "    034        og_dataset/splits/train/slice_0_img_034.npy   \n",
       "    041        og_dataset/splits/train/slice_0_img_041.npy   \n",
       "    119        og_dataset/splits/train/slice_0_img_119.npy   \n",
       "\n",
       "                                                 mask_slice  mask_mean_0  \\\n",
       "src slice_num                                                              \n",
       "0   010        og_dataset/splits/train/slice_0_mask_010.npy          0.0   \n",
       "    033        og_dataset/splits/train/slice_0_mask_033.npy          0.0   \n",
       "    034        og_dataset/splits/train/slice_0_mask_034.npy          0.0   \n",
       "    041        og_dataset/splits/train/slice_0_mask_041.npy          0.0   \n",
       "    119        og_dataset/splits/train/slice_0_mask_119.npy          0.0   \n",
       "\n",
       "               mask_mean_1  mask_mean_2    img_mean            lng  \\\n",
       "src slice_num                                                        \n",
       "0   010                0.0          0.0  113.734550  485615.263158   \n",
       "    033                0.0          0.0  190.532776  379341.754386   \n",
       "    034                0.0          0.0  196.605057  394523.684211   \n",
       "    041                0.0          0.0  203.208298  500797.192982   \n",
       "    119                0.0          0.0  126.572365  546342.982456   \n",
       "\n",
       "                        lat  \\\n",
       "src slice_num                 \n",
       "0   010        3.572176e+06   \n",
       "    033        3.602540e+06   \n",
       "    034        3.602540e+06   \n",
       "    041        3.602540e+06   \n",
       "    119        3.678451e+06   \n",
       "\n",
       "                                                         np_mask  debris_mean  \\\n",
       "src slice_num                                                                   \n",
       "0   010        [[[0, 0, 0], [0, 0, 0], [0, 0, 0], [0, 0, 0], ...          0.0   \n",
       "    033        [[[0, 0, 0], [0, 0, 0], [0, 0, 0], [0, 0, 0], ...          0.0   \n",
       "    034        [[[0, 0, 0], [0, 0, 0], [0, 0, 0], [0, 0, 0], ...          0.0   \n",
       "    041        [[[0, 0, 0], [0, 0, 0], [0, 0, 0], [0, 0, 0], ...          0.0   \n",
       "    119        [[[0, 0, 0], [0, 0, 0], [0, 0, 0], [0, 0, 0], ...          0.0   \n",
       "\n",
       "               clean_mean  glacier_perc  \n",
       "src slice_num                            \n",
       "0   010               0.0           1.0  \n",
       "    033               0.0           1.0  \n",
       "    034               0.0           1.0  \n",
       "    041               0.0           1.0  \n",
       "    119               0.0           1.0  "
      ]
     },
     "execution_count": 12,
     "metadata": {},
     "output_type": "execute_result"
    }
   ],
   "source": [
    "metadata['glacier_perc'] = metadata.np_mask.map(lambda m: 1 - m[:,:,2].mean(), na_action='ignore')\n",
    "train_data.head()"
   ]
  },
  {
   "cell_type": "markdown",
   "id": "1b8421f3-1f5c-44d8-a2c7-eeb114a3785b",
   "metadata": {},
   "source": [
    "We notice that strangely the debris_mean and the clean_mean _almost_ add up to 1"
   ]
  },
  {
   "cell_type": "markdown",
   "id": "e6eecd17-1f74-44ca-8a4e-d52c16c6e8c8",
   "metadata": {},
   "source": [
    "### Glaciers percentage\n",
    "Finally we can see the distribution of percentages of glaciers"
   ]
  },
  {
   "cell_type": "code",
   "execution_count": 13,
   "id": "6e63ffdc-b1da-49cf-9cd7-b3080e257585",
   "metadata": {},
   "outputs": [
    {
     "data": {
      "image/png": "[encoded data removed]",
      "text/plain": [
       "<Figure size 1000x200 with 1 Axes>"
      ]
     },
     "metadata": {},
     "output_type": "display_data"
    },
    {
     "data": {
      "image/png": "[encoded data removed]",
      "text/plain": [
       "<Figure size 1000x200 with 1 Axes>"
      ]
     },
     "metadata": {},
     "output_type": "display_data"
    },
    {
     "data": {
      "image/png": "[encoded data removed]",
      "text/plain": [
       "<Figure size 1000x200 with 1 Axes>"
      ]
     },
     "metadata": {},
     "output_type": "display_data"
    }
   ],
   "source": [
    "sns.boxenplot(data=train_data.dropna(), x='glacier_perc' )\n",
    "plt.xticks(np.arange(0,train_data.glacier_perc.max(),0.05))\n",
    "plt.show()\n",
    "\n",
    "sns.boxenplot(data=train_data.dropna(), x='clean_mean' )\n",
    "plt.xticks(np.arange(0,train_data.clean_mean.max(),0.05))\n",
    "plt.show()\n",
    "\n",
    "sns.boxenplot(data=train_data.dropna(), x='debris_mean' )\n",
    "plt.xticks(np.arange(0,train_data.debris_mean.max(),0.02))\n",
    "plt.show()"
   ]
  },
  {
   "cell_type": "markdown",
   "id": "5b0b3803-4545-41bd-85a3-c9841a69649b",
   "metadata": {},
   "source": [
    "Aside from the data being a little strange since they are sometimes bigger than 1, I would say that the optimal choice for the **threshold** should be $0.2$."
   ]
  },
  {
   "cell_type": "code",
   "execution_count": 14,
   "id": "2cdbeb4b-2251-492c-b8f1-7926fd9a7d30",
   "metadata": {},
   "outputs": [],
   "source": [
    "## Save the new np masks, unnecesary\n",
    "# metadata\\\n",
    "#     .reset_index()\\\n",
    "#     .apply(lambda r: \n",
    "#             np.save(f'dataset/masks/dev/slice_{r.src}_mask_{r.slice_num}.npy', r.np_mask),\n",
    "#            axis=1)\n",
    "# ;"
   ]
  },
  {
   "cell_type": "markdown",
   "id": "3c58f0c9",
   "metadata": {},
   "source": [
    "### Creating Label for images based on our threshold value of 0.2 and Masks of the image.\n",
    "\n",
    "> Those images with pixels less than 20% are identified as non-glacier image and more than 20% as glacier image"
   ]
  },
  {
   "cell_type": "code",
   "execution_count": 15,
   "id": "2554158d",
   "metadata": {},
   "outputs": [
    {
     "data": {
      "text/html": [
       "<div>\n",
       "<style scoped>\n",
       "    .dataframe tbody tr th:only-of-type {\n",
       "        vertical-align: middle;\n",
       "    }\n",
       "\n",
       "    .dataframe tbody tr th {\n",
       "        vertical-align: top;\n",
       "    }\n",
       "\n",
       "    .dataframe thead th {\n",
       "        text-align: right;\n",
       "    }\n",
       "</style>\n",
       "<table border=\"1\" class=\"dataframe\">\n",
       "  <thead>\n",
       "    <tr style=\"text-align: right;\">\n",
       "      <th></th>\n",
       "      <th></th>\n",
       "      <th>img_slice</th>\n",
       "      <th>mask_slice</th>\n",
       "      <th>mask_mean_0</th>\n",
       "      <th>mask_mean_1</th>\n",
       "      <th>mask_mean_2</th>\n",
       "      <th>img_mean</th>\n",
       "      <th>lng</th>\n",
       "      <th>lat</th>\n",
       "      <th>np_mask</th>\n",
       "      <th>debris_mean</th>\n",
       "      <th>clean_mean</th>\n",
       "      <th>glacier_perc</th>\n",
       "      <th>label</th>\n",
       "    </tr>\n",
       "    <tr>\n",
       "      <th>src</th>\n",
       "      <th>slice_num</th>\n",
       "      <th></th>\n",
       "      <th></th>\n",
       "      <th></th>\n",
       "      <th></th>\n",
       "      <th></th>\n",
       "      <th></th>\n",
       "      <th></th>\n",
       "      <th></th>\n",
       "      <th></th>\n",
       "      <th></th>\n",
       "      <th></th>\n",
       "      <th></th>\n",
       "      <th></th>\n",
       "    </tr>\n",
       "  </thead>\n",
       "  <tbody>\n",
       "    <tr>\n",
       "      <th rowspan=\"5\" valign=\"top\">0</th>\n",
       "      <th>010</th>\n",
       "      <td>og_dataset/splits/train/slice_0_img_010.npy</td>\n",
       "      <td>og_dataset/splits/train/slice_0_mask_010.npy</td>\n",
       "      <td>0.0</td>\n",
       "      <td>0.0</td>\n",
       "      <td>0.0</td>\n",
       "      <td>113.734550</td>\n",
       "      <td>485615.263158</td>\n",
       "      <td>3.572176e+06</td>\n",
       "      <td>[[[0, 0, 0], [0, 0, 0], [0, 0, 0], [0, 0, 0], ...</td>\n",
       "      <td>0.0</td>\n",
       "      <td>0.0</td>\n",
       "      <td>1.0</td>\n",
       "      <td>1</td>\n",
       "    </tr>\n",
       "    <tr>\n",
       "      <th>033</th>\n",
       "      <td>og_dataset/splits/train/slice_0_img_033.npy</td>\n",
       "      <td>og_dataset/splits/train/slice_0_mask_033.npy</td>\n",
       "      <td>0.0</td>\n",
       "      <td>0.0</td>\n",
       "      <td>0.0</td>\n",
       "      <td>190.532776</td>\n",
       "      <td>379341.754386</td>\n",
       "      <td>3.602540e+06</td>\n",
       "      <td>[[[0, 0, 0], [0, 0, 0], [0, 0, 0], [0, 0, 0], ...</td>\n",
       "      <td>0.0</td>\n",
       "      <td>0.0</td>\n",
       "      <td>1.0</td>\n",
       "      <td>1</td>\n",
       "    </tr>\n",
       "    <tr>\n",
       "      <th>034</th>\n",
       "      <td>og_dataset/splits/train/slice_0_img_034.npy</td>\n",
       "      <td>og_dataset/splits/train/slice_0_mask_034.npy</td>\n",
       "      <td>0.0</td>\n",
       "      <td>0.0</td>\n",
       "      <td>0.0</td>\n",
       "      <td>196.605057</td>\n",
       "      <td>394523.684211</td>\n",
       "      <td>3.602540e+06</td>\n",
       "      <td>[[[0, 0, 0], [0, 0, 0], [0, 0, 0], [0, 0, 0], ...</td>\n",
       "      <td>0.0</td>\n",
       "      <td>0.0</td>\n",
       "      <td>1.0</td>\n",
       "      <td>1</td>\n",
       "    </tr>\n",
       "    <tr>\n",
       "      <th>041</th>\n",
       "      <td>og_dataset/splits/train/slice_0_img_041.npy</td>\n",
       "      <td>og_dataset/splits/train/slice_0_mask_041.npy</td>\n",
       "      <td>0.0</td>\n",
       "      <td>0.0</td>\n",
       "      <td>0.0</td>\n",
       "      <td>203.208298</td>\n",
       "      <td>500797.192982</td>\n",
       "      <td>3.602540e+06</td>\n",
       "      <td>[[[0, 0, 0], [0, 0, 0], [0, 0, 0], [0, 0, 0], ...</td>\n",
       "      <td>0.0</td>\n",
       "      <td>0.0</td>\n",
       "      <td>1.0</td>\n",
       "      <td>1</td>\n",
       "    </tr>\n",
       "    <tr>\n",
       "      <th>119</th>\n",
       "      <td>og_dataset/splits/train/slice_0_img_119.npy</td>\n",
       "      <td>og_dataset/splits/train/slice_0_mask_119.npy</td>\n",
       "      <td>0.0</td>\n",
       "      <td>0.0</td>\n",
       "      <td>0.0</td>\n",
       "      <td>126.572365</td>\n",
       "      <td>546342.982456</td>\n",
       "      <td>3.678451e+06</td>\n",
       "      <td>[[[0, 0, 0], [0, 0, 0], [0, 0, 0], [0, 0, 0], ...</td>\n",
       "      <td>0.0</td>\n",
       "      <td>0.0</td>\n",
       "      <td>1.0</td>\n",
       "      <td>1</td>\n",
       "    </tr>\n",
       "  </tbody>\n",
       "</table>\n",
       "</div>"
      ],
      "text/plain": [
       "                                                 img_slice  \\\n",
       "src slice_num                                                \n",
       "0   010        og_dataset/splits/train/slice_0_img_010.npy   \n",
       "    033        og_dataset/splits/train/slice_0_img_033.npy   \n",
       "    034        og_dataset/splits/train/slice_0_img_034.npy   \n",
       "    041        og_dataset/splits/train/slice_0_img_041.npy   \n",
       "    119        og_dataset/splits/train/slice_0_img_119.npy   \n",
       "\n",
       "                                                 mask_slice  mask_mean_0  \\\n",
       "src slice_num                                                              \n",
       "0   010        og_dataset/splits/train/slice_0_mask_010.npy          0.0   \n",
       "    033        og_dataset/splits/train/slice_0_mask_033.npy          0.0   \n",
       "    034        og_dataset/splits/train/slice_0_mask_034.npy          0.0   \n",
       "    041        og_dataset/splits/train/slice_0_mask_041.npy          0.0   \n",
       "    119        og_dataset/splits/train/slice_0_mask_119.npy          0.0   \n",
       "\n",
       "               mask_mean_1  mask_mean_2    img_mean            lng  \\\n",
       "src slice_num                                                        \n",
       "0   010                0.0          0.0  113.734550  485615.263158   \n",
       "    033                0.0          0.0  190.532776  379341.754386   \n",
       "    034                0.0          0.0  196.605057  394523.684211   \n",
       "    041                0.0          0.0  203.208298  500797.192982   \n",
       "    119                0.0          0.0  126.572365  546342.982456   \n",
       "\n",
       "                        lat  \\\n",
       "src slice_num                 \n",
       "0   010        3.572176e+06   \n",
       "    033        3.602540e+06   \n",
       "    034        3.602540e+06   \n",
       "    041        3.602540e+06   \n",
       "    119        3.678451e+06   \n",
       "\n",
       "                                                         np_mask  debris_mean  \\\n",
       "src slice_num                                                                   \n",
       "0   010        [[[0, 0, 0], [0, 0, 0], [0, 0, 0], [0, 0, 0], ...          0.0   \n",
       "    033        [[[0, 0, 0], [0, 0, 0], [0, 0, 0], [0, 0, 0], ...          0.0   \n",
       "    034        [[[0, 0, 0], [0, 0, 0], [0, 0, 0], [0, 0, 0], ...          0.0   \n",
       "    041        [[[0, 0, 0], [0, 0, 0], [0, 0, 0], [0, 0, 0], ...          0.0   \n",
       "    119        [[[0, 0, 0], [0, 0, 0], [0, 0, 0], [0, 0, 0], ...          0.0   \n",
       "\n",
       "               clean_mean  glacier_perc  label  \n",
       "src slice_num                                   \n",
       "0   010               0.0           1.0      1  \n",
       "    033               0.0           1.0      1  \n",
       "    034               0.0           1.0      1  \n",
       "    041               0.0           1.0      1  \n",
       "    119               0.0           1.0      1  "
      ]
     },
     "execution_count": 15,
     "metadata": {},
     "output_type": "execute_result"
    }
   ],
   "source": [
    "THRESHOLD = 0.2\n",
    "metadata['label'] = metadata.glacier_perc.map(lambda x: 1 if x > THRESHOLD else 0, na_action='ignore')\n",
    "metadata.head()"
   ]
  },
  {
   "cell_type": "markdown",
   "id": "44d101c6",
   "metadata": {},
   "source": [
    "### Checking Counts for different classes for each set"
   ]
  },
  {
   "cell_type": "code",
   "execution_count": 16,
   "id": "b7a728a4",
   "metadata": {},
   "outputs": [
    {
     "data": {
      "text/plain": [
       "1    575\n",
       "0    191\n",
       "Name: label, dtype: int64"
      ]
     },
     "execution_count": 16,
     "metadata": {},
     "output_type": "execute_result"
    }
   ],
   "source": [
    "metadata[metadata.partition == 'train'].label.value_counts()"
   ]
  },
  {
   "cell_type": "markdown",
   "id": "0d82ac57",
   "metadata": {},
   "source": [
    "#### We see that choosing threshold of  *20%* of number of pixels identified as snow gives us a balanced training dataset"
   ]
  },
  {
   "cell_type": "code",
   "execution_count": 17,
   "id": "1afa357f",
   "metadata": {},
   "outputs": [
    {
     "data": {
      "text/plain": [
       "1    173\n",
       "0     47\n",
       "Name: label, dtype: int64"
      ]
     },
     "execution_count": 17,
     "metadata": {},
     "output_type": "execute_result"
    }
   ],
   "source": [
    "metadata[metadata.partition == 'test'].label.value_counts()"
   ]
  },
  {
   "cell_type": "code",
   "execution_count": 18,
   "id": "dc002243",
   "metadata": {},
   "outputs": [
    {
     "data": {
      "text/plain": [
       "1    89\n",
       "0    21\n",
       "Name: label, dtype: int64"
      ]
     },
     "execution_count": 18,
     "metadata": {},
     "output_type": "execute_result"
    }
   ],
   "source": [
    "metadata[metadata.partition == 'dev'].label.value_counts()"
   ]
  },
  {
   "cell_type": "markdown",
   "id": "b9b9f489",
   "metadata": {},
   "source": [
    "#### Validation set also seems to be more or less balanced (60%,40% split between the two class)"
   ]
  },
  {
   "cell_type": "code",
   "execution_count": 19,
   "id": "54d969e9",
   "metadata": {},
   "outputs": [],
   "source": [
    "metadata.to_csv('dataset/metadata.csv')"
   ]
  },
  {
   "cell_type": "markdown",
   "id": "efc6c615-7b3f-4f8c-afb5-ecf01f7eca5f",
   "metadata": {},
   "source": [
    "## Distributions of features and binning\n",
    "We now want to get a feel of what's the distribution of values of the 15 channels:\n",
    "1. LE7 B1 (blue)\n",
    "2. LE7 B2 (green)\n",
    "3. LE7 B3 (red)\n",
    "4. LE7 B4 (near infrared)\n",
    "5. LE7 B5 (shortwave infrared 1)\n",
    "6. LE7 B6_VCID_1 (low-gain thermal infrared)\n",
    "7. LE7 B6_VCID_2 (high-gain thermal infrared)\n",
    "8. LE7 B7 (shortwave infrared 2)\n",
    "9. LE7 B8 (panchromatic)\n",
    "10. LE7 BQA (quality bitmask)\n",
    "11. NDVI (vegetation index)\n",
    "12. NDSI (snow index)\n",
    "13. NDWI (water index)\n",
    "14. SRTM 90 elevation\n",
    "15. SRTM 90 slope"
   ]
  },
  {
   "cell_type": "code",
   "execution_count": 8,
   "id": "8b3645af-51e4-4bf1-aff3-97453dc48c6e",
   "metadata": {},
   "outputs": [
    {
     "data": {
      "text/plain": [
       "(array([0.25991968, 0.52085916, 0.25687425, 0.17556859, 0.17742167,\n",
       "        0.18223393, 0.19781991, 0.23406269, 0.26239046, 1.49853848]),\n",
       " array([-1.4382831 , -1.1727275 , -0.9071718 , -0.6416161 , -0.37606046,\n",
       "        -0.11050481,  0.15505084,  0.4206065 ,  0.6861622 ,  0.9517178 ,\n",
       "         1.2172735 ], dtype=float32))"
      ]
     },
     "execution_count": 8,
     "metadata": {},
     "output_type": "execute_result"
    }
   ],
   "source": [
    "np.histogram(np.load(test_folder + 'slice_10_img_174.npy')[:,:,2], density=True)\n",
    "# np.load(train_folder + 'slice_1_img_150.npy')\n",
    "# https://numpy.org/doc/stable/reference/generated/numpy.histogram.html"
   ]
  },
  {
   "cell_type": "markdown",
   "id": "7f68dbd1-a8a6-4a5f-bbbd-7ec09342cad5",
   "metadata": {},
   "source": [
    "Load the images from the _dev set_ to memory to perform analysis on the distribution of values. We pick only those in _dev set_ due to memory limitations"
   ]
  },
  {
   "cell_type": "code",
   "execution_count": 9,
   "id": "217c23a2-bbc4-4a34-9d0d-f2d7b071ad2a",
   "metadata": {},
   "outputs": [
    {
     "data": {
      "text/plain": [
       "array([[672., 672., 672., ..., 672., 672., 672.],\n",
       "       [672., 672., 672., ..., 672., 672., 672.],\n",
       "       [672., 672., 672., ..., 672., 672., 672.],\n",
       "       ...,\n",
       "       [672., 672., 672., ..., 672., 672., 672.],\n",
       "       [672., 672., 672., ..., 672., 672., 672.],\n",
       "       [672., 672., 672., ..., 672., 672., 672.]], dtype=float32)"
      ]
     },
     "execution_count": 9,
     "metadata": {},
     "output_type": "execute_result"
    }
   ],
   "source": [
    "metadata.loc[metadata.partition=='dev','features'] = metadata[metadata.partition=='dev'].img_slice.apply(lambda x: np.load(x))\n",
    "dev_data = metadata[metadata.partition=='dev']\n",
    "\n",
    "dev_data.features.iloc[0][:,:,1]"
   ]
  },
  {
   "cell_type": "code",
   "execution_count": null,
   "id": "0407d9a7-c375-47d0-b1ae-23a213f3b6bc",
   "metadata": {},
   "outputs": [
    {
     "data": {
      "image/png": "[encoded data removed]",
      "text/plain": [
       "<Figure size 1000x200 with 1 Axes>"
      ]
     },
     "metadata": {},
     "output_type": "display_data"
    },
    {
     "data": {
      "image/png": "[encoded data removed]",
      "text/plain": [
       "<Figure size 1000x200 with 1 Axes>"
      ]
     },
     "metadata": {},
     "output_type": "display_data"
    },
    {
     "data": {
      "image/png": "[encoded data removed]",
      "text/plain": [
       "<Figure size 1000x200 with 1 Axes>"
      ]
     },
     "metadata": {},
     "output_type": "display_data"
    },
    {
     "data": {
      "image/png": "[encoded data removed]",
      "text/plain": [
       "<Figure size 1000x200 with 1 Axes>"
      ]
     },
     "metadata": {},
     "output_type": "display_data"
    },
    {
     "data": {
      "image/png": "[encoded data removed]",
      "text/plain": [
       "<Figure size 1000x200 with 1 Axes>"
      ]
     },
     "metadata": {},
     "output_type": "display_data"
    },
    {
     "data": {
      "image/png": "[encoded data removed]",
      "text/plain": [
       "<Figure size 1000x200 with 1 Axes>"
      ]
     },
     "metadata": {},
     "output_type": "display_data"
    },
    {
     "data": {
      "image/png": "[encoded data removed]",
      "text/plain": [
       "<Figure size 1000x200 with 1 Axes>"
      ]
     },
     "metadata": {},
     "output_type": "display_data"
    }
   ],
   "source": [
    "descr = pd.DataFrame() \n",
    "\n",
    "feature_names = ['LE7 B1 (blue)', 'LE7 B2 (green)', 'LE7 B3 (red)', 'LE7 B4 (near infrared)', 'LE7 B5 (shortwave infrared 1)', 'LE7 B6_VCID_1 (low-gain thermal infrared)', 'LE7 B6_VCID_2 (high-gain thermal infrared)', 'LE7 B7 (shortwave infrared 2)', 'LE7 B8 (panchromatic)', 'LE7 BQA (quality bitmask)', 'NDVI (vegetation index)', 'NDSI (snow index)', 'NDWI (water index)', 'SRTM 90 elevation', 'SRTM 90 slope']\n",
    "for i,name in enumerate(feature_names):\n",
    "    d_i = dev_data.features.apply(lambda m: m[:,:,i].flat).agg(np.concatenate)\n",
    "    d_i = d_i[np.logical_not(np.isnan(d_i))]\n",
    "    p01 = np.percentile(d_i, 1e-4)\n",
    "    p99 = np.percentile(d_i, 1 - 1e-4)\n",
    "    # print(p01, p99)\n",
    "    # d_i = d_i[(d_i>=-10) & (d_i<=10)]\n",
    "    \n",
    "    descr = pd.concat([\n",
    "        descr, \n",
    "        pd.Series(d_i, name=name).describe(percentiles=[.1,.25,.5,.75,.9])\n",
    "    ], axis=1)\n",
    "    \n",
    "    sns.histplot(x=d_i, stat='probability', bins=20)\n",
    "    del d_i\n",
    "    plt.xlabel(name)\n",
    "    plt.show()"
   ]
  },
  {
   "cell_type": "markdown",
   "id": "e44ea1e2-610b-4b57-bc88-b69b7dc1994e",
   "metadata": {},
   "source": [
    "It appears that there are some extreme outliers:\n",
    "May be caused by the corrupted files in my harddisk?"
   ]
  },
  {
   "cell_type": "code",
   "execution_count": null,
   "id": "f86e8594-1e83-4f86-833b-b08e3e4a2272",
   "metadata": {},
   "outputs": [],
   "source": [
    "BIN_SIZE = 0.5\n",
    "\n",
    "descr = descr.transpose()\n",
    "descr['layer'] = range(0,15)\n",
    "descr['bins'] = descr.apply(lambda x: np.arange(x['min'], x['max'], BIN_SIZE), axis=1)\n",
    "descr"
   ]
  },
  {
   "cell_type": "code",
   "execution_count": null,
   "id": "089d20a5-c7b5-46d5-a35a-fc0369eb73c7",
   "metadata": {},
   "outputs": [],
   "source": [
    "histos = pd.DataFrame()\n",
    "for i, name in enumerate(feature_names):\n",
    "    histos[name] = metadata.features.apply(\n",
    "        lambda m, bins: np.histogram(m[:,:,i], bins=bins, density=True)[0], \n",
    "        args=(descr.bins.to_list()[i],))\n",
    "    \n",
    "histos.head()"
   ]
  },
  {
   "cell_type": "code",
   "execution_count": null,
   "id": "7736cea5-d068-4d4e-8c80-b58a31528964",
   "metadata": {},
   "outputs": [],
   "source": []
  }
 ],
 "metadata": {
  "kernelspec": {
   "display_name": "Python 3 (ipykernel)",
   "language": "python",
   "name": "python3"
  },
  "language_info": {
   "codemirror_mode": {
    "name": "ipython",
    "version": 3
   },
   "file_extension": ".py",
   "mimetype": "text/x-python",
   "name": "python",
   "nbconvert_exporter": "python",
   "pygments_lexer": "ipython3",
   "version": "3.10.8"
  }
 },
 "nbformat": 4,
 "nbformat_minor": 5
}
